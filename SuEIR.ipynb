{
 "cells": [
  {
   "cell_type": "code",
   "execution_count": 1,
   "metadata": {},
   "outputs": [],
   "source": [
    "import pandas as pd\n",
    "import numpy as np\n",
    "import torch\n",
    "import torch.nn as nn\n",
    "import matplotlib.pyplot as plt\n",
    "import math\n",
    "from scipy.integrate import solve_ivp\n",
    "from scipy.optimize import least_squares\n",
    "import copy\n",
    "from tqdm import tqdm"
   ]
  },
  {
   "cell_type": "code",
   "execution_count": 2,
   "metadata": {},
   "outputs": [
    {
     "name": "stdout",
     "output_type": "stream",
     "text": [
      "Index(['Date', 'Confirmed', 'Deaths', 'Recovered', 'Active', 'Incident_Rate',\n",
      "       'Total_Test_Results', 'Case_Fatality_Ratio', 'Testing_Rate'],\n",
      "      dtype='object')\n"
     ]
    }
   ],
   "source": [
    "#================================================\n",
    "# Load Data\n",
    "#=================================================\n",
    "raw_data_1 = pd.read_csv('./train_trendency.csv', index_col=['Province_State'])\n",
    "raw_data_1 = raw_data_1.drop('Unnamed: 0', axis=1)\n",
    "print(raw_data_1.columns)\n",
    "#cleaned_df = raw_data_1.dropna(axis=1)\n",
    "#raw_data_1 = raw_data_1.fillna(0)\n",
    "#print(cleaned_df.columns)    \n",
    "state_population = pd.read_csv('./State Populations.csv', index_col='State')\n",
    "\n",
    "#raw_data_2 = pd.read_csv('./train_vaccine.csv', index_col=['location', 'date'])\n",
    "#raw_data_2 = raw_data_2.drop('Unnamed: 0', axis=1)\n",
    "#print(raw_data_2)\n",
    "#cleaned_df_2 = raw_data_2.dropna(axis=1)\n",
    "#print(cleaned_df_2.columns)"
   ]
  },
  {
   "cell_type": "code",
   "execution_count": 3,
   "metadata": {},
   "outputs": [],
   "source": [
    "vaccine_data = pd.read_csv('train_vaccine.csv', index_col=['location'])\n",
    "vaccine_data['date'] = pd.to_datetime(vaccine_data['date'], format='%Y-%m-%d')\n",
    "vaccine_data['date'] = vaccine_data['date'].apply(lambda x: x.strftime('%m-%d-%Y'))\n",
    "vaccine_data = vaccine_data.set_index('date', append=True)\n",
    "#print(vaccine_data)\n",
    "vaccine_data = vaccine_data.drop('Unnamed: 0', axis=1)\n",
    "vaccine_data.rename(columns={'location':'Province_State', 'date':'Date'})\n",
    "#print(vaccine_data)\n",
    "#print(raw_data_1.shape)\n",
    "raw_data_1 = raw_data_1.join(vaccine_data, on=['Province_State', 'Date'])\n",
    "#print(raw_data_1['people_fully_vaccinated'].isna().sum())\n"
   ]
  },
  {
   "cell_type": "code",
   "execution_count": 4,
   "metadata": {},
   "outputs": [
    {
     "name": "stdout",
     "output_type": "stream",
     "text": [
      "[]\n",
      "Kansas 37\n",
      "Michigan 25\n",
      "Mississippi 25\n",
      "Texas 25\n",
      "Rhode Island 37\n",
      "Arkansas 25\n",
      "Ohio 25\n",
      "Iowa 25\n",
      "New Hampshire 25\n",
      "New Mexico 25\n",
      "South Carolina 25\n",
      "Tennessee 25\n",
      "Indiana 37\n",
      "Massachusetts 25\n",
      "Utah 25\n",
      "Wisconsin 25\n",
      "West Virginia 25\n",
      "Montana 25\n",
      "South Dakota 25\n",
      "Kentucky 25\n",
      "Oklahoma 25\n",
      "Nebraska 25\n",
      "Minnesota 25\n",
      "New Jersey 37\n",
      "Idaho 25\n",
      "Wyoming 25\n",
      "Colorado 37\n",
      "Pennsylvania 25\n",
      "Louisiana 25\n",
      "Maine 25\n",
      "New York 37\n",
      "Arizona 37\n",
      "Alabama 25\n",
      "North Carolina 37\n",
      "Virginia 37\n",
      "Vermont 25\n",
      "Maryland 25\n",
      "North Dakota 25\n",
      "['Washington', 'Missouri', 'Georgia', 'Florida', 'California', 'Illinois', 'Nevada', 'Oregon', 'Hawaii', 'Alaska', 'Connecticut', 'Delaware']\n"
     ]
    }
   ],
   "source": [
    "# Now I want to know which states have full recovered and active, which have some, and which have none\n",
    "state_full = []\n",
    "state_partial = []\n",
    "state_none = []\n",
    "States = list(set(raw_data_1.index.get_level_values('Province_State').values))\n",
    "for state in States:\n",
    "    # if we have recovered, then confirmed - death - recovered = active\n",
    "    # in some cases, we have active, confirmed, death but no recovered,\n",
    "    # I think in this situation, active may not be real active\n",
    "    recovered = raw_data_1.loc[state, 'Recovered']\n",
    "    if recovered.isna().all():\n",
    "        state_none.append(state)\n",
    "    elif recovered.isna().any():\n",
    "        state_partial.append((state, recovered.isna().sum(), recovered.isna()))\n",
    "    else:\n",
    "        state_full.append(state)\n",
    "\n",
    "threshold = 50\n",
    "true_state_partial = []\n",
    "for state, number, mask in state_partial:\n",
    "    if number > 37:\n",
    "        state_none.append(state)\n",
    "    else:\n",
    "        true_state_partial.append((state, number))\n",
    "\n",
    "print(state_full)\n",
    "for state, number in true_state_partial:\n",
    "    print(state, number)\n",
    "print(state_none)\n",
    "\n",
    "#raw_data_1['Recovered'] = raw_data_1['Confirmed'] - raw_data_1['Deaths'] - raw_data_1['Active']\n"
   ]
  },
  {
   "cell_type": "code",
   "execution_count": 5,
   "metadata": {},
   "outputs": [
    {
     "name": "stdout",
     "output_type": "stream",
     "text": [
      "finished inserting new columns\n"
     ]
    }
   ],
   "source": [
    "# First do some data cleaning, make \"Deaths\", \"Confirmed\", \"Active\" monotonically increase\n",
    "data = raw_data_1.copy(deep=True)\n",
    "for state in States:\n",
    "    for col in ['Deaths', 'Confirmed', 'Recovered', 'people_fully_vaccinated']:\n",
    "        values = data.loc[state, col].values\n",
    "        length = values.shape[0]\n",
    "        last_non_nan_value = values[0]\n",
    "        for i in range(1, length):\n",
    "            if not np.isnan(values[i]):\n",
    "                if values[i] < last_non_nan_value:\n",
    "                    values[i] = last_non_nan_value\n",
    "                last_non_nan_value = values[i]\n",
    "        data.loc[data.index==state,col] = values\n",
    "data['Active'] = data['Confirmed'] - data['Deaths'] - data['Recovered']\n",
    "    \n",
    "\n",
    "data['Increased Deaths'] = 0\n",
    "data['Increased Confirmed'] = 0\n",
    "data['Increased Recovered'] = 0\n",
    "for state in States:\n",
    "    inc_deaths = data.loc[state, 'Deaths'].values[1:] - data.loc[state, 'Deaths'].values[:-1]\n",
    "    inc_deaths = np.concatenate([[data.loc[state, 'Deaths'].values[0]], inc_deaths])\n",
    "    data.loc[data.index==state, 'Increased Deaths'] = inc_deaths\n",
    "    \n",
    "    inc_confirmed = data.loc[state, 'Confirmed'].values[1:] - data.loc[state, 'Confirmed'].values[:-1]\n",
    "    inc_confirmed = np.concatenate([[data.loc[state, 'Confirmed'].values[0]], inc_confirmed])\n",
    "    data.loc[data.index==state, 'Increased Confirmed'] = inc_confirmed\n",
    "    \n",
    "    inc_recovered = data.loc[state, 'Recovered'].values[1:] - data.loc[state, 'Recovered'].values[:-1]\n",
    "    inc_recovered = np.concatenate([[data.loc[state, 'Recovered'].values[0]], inc_recovered])\n",
    "    data.loc[data.index==state, 'Increased Recovered'] = inc_recovered\n",
    " \n",
    "print('finished inserting new columns')\n",
    "\n",
    "\n",
    "    \n",
    "    "
   ]
  },
  {
   "cell_type": "code",
   "execution_count": 6,
   "metadata": {},
   "outputs": [],
   "source": [
    "# Process States with weekly updated recovered data\n",
    "target_states = ['Mississippi', 'Michigan', 'Alabama', 'Louisiana', 'Massachusetts', 'North Carolina']\n",
    "for state in target_states:\n",
    "    #print(data.loc[state, 'Recovered'])\n",
    "    inc = data.loc[state, 'Increased Recovered'].values\n",
    "    i = 0\n",
    "    j = 0\n",
    "    while not np.isnan(inc[i]):\n",
    "        if inc[i] != 0:\n",
    "            if i == j:\n",
    "                i += 1\n",
    "                j += 1\n",
    "                continue\n",
    "            else:\n",
    "                cnt = i - j + 1\n",
    "                ave_inc = inc[i]/cnt\n",
    "                for k in range(j,i+1):\n",
    "                    inc[k] = ave_inc\n",
    "                j = i + 1\n",
    "                i += 1\n",
    "                continue\n",
    "        else:\n",
    "            # inc[i] == 0\n",
    "            i += 1\n",
    "    data.loc[data.index==state, 'Increased Recovered'] = inc\n",
    "    cum = np.cumsum(inc)\n",
    "    data.loc[data.index==state, 'Recovered'] = cum\n",
    "            "
   ]
  },
  {
   "cell_type": "code",
   "execution_count": 7,
   "metadata": {},
   "outputs": [
    {
     "name": "stderr",
     "output_type": "stream",
     "text": [
      "100%|██████████████████████████████████████████████████████████████████████████████████| 38/38 [02:33<00:00,  3.99s/it]\n"
     ]
    },
    {
     "name": "stdout",
     "output_type": "stream",
     "text": [
      "Finish\n"
     ]
    }
   ],
   "source": [
    "# Since all the states have partial data, I want to use methods in \"Epidemic Model Guided Machine Learning for\n",
    "# COVID-19 Forecasts in the United States\" to estimate Recovered based on Deaths\n",
    "# It assumes that increased death / (increased recoverd + 1)= r(t) = a*exp(-bt) (This may not be a good way)\n",
    "\n",
    "\n",
    "class RatioByDate(nn.Module):\n",
    "    def __init__(self):\n",
    "        super(RatioByDate, self).__init__()\n",
    "        self.linear = nn.Linear(1,1)\n",
    "        torch.nn.init.uniform_(self.linear.weight,-1, 0)\n",
    "        \n",
    "    def forward(self, x):\n",
    "        #return self.linear(x)\n",
    "        return torch.exp(self.linear(x))\n",
    "\n",
    "class RatioByDatePoly(nn.Module):\n",
    "    def __init__(self, order = 3):\n",
    "        super(RatioByDatePoly, self).__init__()\n",
    "        self.order = order\n",
    "        self.linear = nn.Linear(order+1,1, bias=False)\n",
    "#        torch.nn.init.uniform_(self.linear.weight,-1, 0)\n",
    "        \n",
    "    def forward(self, x):\n",
    "        x = x/100\n",
    "        return self.linear(torch.cat([x**i for i in range(self.order+1)], dim=-1))\n",
    "        \n",
    "    \n",
    "def train(model, x, y, min_ratio):\n",
    "    criterion = nn.L1Loss()\n",
    "    epochs = 10000\n",
    "    lr = 1e-3\n",
    "    \n",
    "    optimizer = torch.optim.Adam(model.parameters(), lr = lr)\n",
    "    for epoch in range(epochs):\n",
    "        optimizer.zero_grad()\n",
    "        model.train()\n",
    "        pred = model(x)\n",
    "        loss = criterion(pred, y)\n",
    "        reg_loss = torch.mean(torch.abs(model.linear.weight))\n",
    "        loss += 0.1 * reg_loss\n",
    "        loss.backward()\n",
    "        optimizer.step()\n",
    "        #with torch.no_grad():\n",
    "        #    model.linear.weight.copy_(torch.clamp(model.linear.weight, max = 0, min = math.log(min_ratio)/80))\n",
    "   # print(reg_loss)\n",
    "    \n",
    "# estimate a, b for states having enough recoverd, death data\n",
    "state_ratio_by_date = {}\n",
    "plot_cnt = 4\n",
    "plot_cur = 0\n",
    "\n",
    "\"\"\"\n",
    "for state, _ in tqdm(true_state_partial):\n",
    "    inc_deaths = data.loc[state, 'Increased Deaths'].values\n",
    "    inc_recovered = data.loc[state, 'Increased Recovered'].values\n",
    "    ratio = inc_deaths[1:] / (inc_recovered[1:] + inc_deaths[1:] + 1)\n",
    "    date = np.array(list(range(1, inc_deaths.shape[0])))\n",
    "    \n",
    "    model = RatioByDatePoly()\n",
    "    mask = ((1 - np.isnan(ratio)) * (ratio != 0)).astype(np.bool_)\n",
    "    \n",
    "    x = torch.FloatTensor(date[mask]).view(-1,1)\n",
    "    y = torch.FloatTensor(ratio[mask]).view(-1,1)\n",
    "    min_ratio = torch.min(y).item()/5\n",
    "    train(model, x, y, min_ratio)\n",
    "    \n",
    "    #a, b = model.linear.weight[0,0].detach().item(), model.linear.bias[0].detach().item()\n",
    "    state_ratio_by_date[state] = model\n",
    " \n",
    "    pred_recovered = [inc_recovered[0]]\n",
    "    for t in date:\n",
    "        inc_death = inc_deaths[t]\n",
    "        #ratio = np.exp(a*t+b)\n",
    "        ratio = model(torch.FloatTensor([t])).item()\n",
    "        pred_inc_recovered = inc_death / ratio - 1 - inc_death\n",
    "        if np.isnan(inc_recovered[t]) == False:\n",
    "            recovered_t = pred_recovered[-1] + inc_recovered[t]\n",
    "        else:\n",
    "            recovered_t = pred_recovered[-1] + pred_inc_recovered\n",
    "        pred_recovered.append(recovered_t)\n",
    "    data['Recovered'].loc[state] = np.round(np.array(pred_recovered)).astype(np.int)\n",
    "    #print(data['Recovered'].loc[state])\n",
    "    mask = np.array([False]+list(mask))\n",
    "    error = np.abs(np.array(pred_recovered)[mask] - data.loc[state, 'Recovered'].values[mask])\n",
    "    error = error / data.loc[state, 'Recovered'].values[mask]\n",
    "    #print(state)\n",
    "    #print(np.mean(error))\n",
    "    if False:\n",
    "        #pass\n",
    "        #print(state)\n",
    "        #print(inc_deaths)\n",
    "        #print(inc_recovered)\n",
    "        #print(data.loc[state, 'Deaths'])\n",
    "        #print(ratio)\n",
    "        #print(y.squeeze())\n",
    "        #pred = model(x).squeeze()\n",
    "        #print(pred)\n",
    "        #print(model.linear.weight)\n",
    "        #print(a, b)\n",
    "        date = np.array(list(range(0, inc_deaths.shape[0])))\n",
    "        plt.figure()\n",
    "        #plt.plot(x,y,c='blue')\n",
    "        #plt.plot(x,pred.detach(),c='red')\n",
    "        plt.plot(date, data.loc[state, 'Recovered'].values, c='blue')\n",
    "        plt.plot(date, np.array(pred_recovered), c='green')\n",
    "        plt.show()\n",
    "        plot_cur += 1\n",
    "            \n",
    "data['Active'] = data['Confirmed'] - data['Deaths'] - data['Recovered']\n",
    "print('Finish')\n",
    "\"\"\"\n",
    "\n",
    "\n",
    "for state, _ in tqdm(true_state_partial):\n",
    "    deaths = data.loc[state, 'Deaths'].values\n",
    "    recovered = data.loc[state, 'Recovered'].values\n",
    "    ratios = deaths / (deaths + recovered + 1)\n",
    "    date = np.array(range(deaths.shape[0]))\n",
    "    \n",
    "    model = RatioByDatePoly(order = 1)\n",
    "    mask = ((1 - np.isnan(ratios)) * (ratios != 0)).astype(np.bool_)\n",
    "    \n",
    "    x = torch.FloatTensor(date[mask]).view(-1,1)\n",
    "    y = torch.FloatTensor(ratios[mask]).view(-1,1)\n",
    "    min_ratio = torch.min(y).item()/5\n",
    "    train(model, x, y, min_ratio)\n",
    "    \n",
    "    #a, b = model.linear.weight[0,0].detach().item(), model.linear.bias[0].detach().item()\n",
    "    state_ratio_by_date[state] = model\n",
    " \n",
    "    pred_recovered = np.zeros_like(recovered)\n",
    "    for t in date:\n",
    "        ratio = model(torch.FloatTensor([t])).item()\n",
    "        pred = (deaths[t] / ratio) - 1 - deaths[t]\n",
    "        if np.isnan(recovered[t]):\n",
    "            pred_recovered[t] = pred\n",
    "        else:\n",
    "            pred_recovered[t] = recovered[t]\n",
    "    \n",
    "    mask = np.array(list(mask))\n",
    "    error = np.abs(np.array(pred_recovered)[mask] - data.loc[state, 'Recovered'].values[mask])\n",
    "    error = error / data.loc[state, 'Recovered'].values[mask]\n",
    "    data.loc[data.index==state, 'Recovered'] = pred_recovered\n",
    "    #print(np.mean(error))\n",
    "    if False:\n",
    "        date = np.array(list(range(0, inc_deaths.shape[0])))\n",
    "        plt.figure()\n",
    "        plt.plot(date, data.loc[state, 'Recovered'].values, c='blue')\n",
    "        plt.plot(date, np.array(pred_recovered), c='green')\n",
    "        plt.show()\n",
    "        plot_cur += 1\n",
    "            \n",
    "data['Active'] = data['Confirmed'] - data['Deaths'] - data['Recovered']\n",
    "\n",
    "# set entries where active < 0 to 0, and recmopute recovered \n",
    "data.loc[data['Active']<0, 'Active'] = 0\n",
    "data['Recovered'] = data['Confirmed'] - data['Deaths'] - data['Active']\n",
    "print('Finish')"
   ]
  },
  {
   "cell_type": "code",
   "execution_count": 8,
   "metadata": {},
   "outputs": [],
   "source": [
    "def SuEIR(t, y, N, beta, sigma, mu, gamma):\n",
    "    # y[0] is S, y[1] is E, y[2] is I, y[3] is R\n",
    "    gradient = np.zeros_like(y)\n",
    "    gradient[0] = - beta * (y[2] + y[1]) * y[0] / N\n",
    "    gradient[1] = beta * (y[2] + y[1]) * y[0] / N - sigma * y[1]\n",
    "    gradient[2] =  mu * sigma * y[1] - gamma * y[2]\n",
    "    gradient[3] = gamma * y[2]\n",
    "    return gradient\n",
    "\n",
    "def predict_with_ODE(fun, t_span, y0, t_eval, args):\n",
    "    sol = solve_ivp(lambda t,y: fun(t,y,*args), t_span, y0, t_eval = t_eval)\n",
    "    return sol.y\n",
    "\n",
    "def optimize_SuEIR_parameters(beta0, sigma0, mu0, gamma0, N0, I, R, t_span, y0, t_eval, deaths, ratios):\n",
    "    I_max = np.max(I)\n",
    "    R_max = np.max(R)\n",
    "    scale_I = I / I_max\n",
    "    scale_R = R / R_max\n",
    "    scale_D = deaths / R_max\n",
    "    #print(scale_I)\n",
    "    #print(scale_R)\n",
    "   \n",
    "    def loss(x):\n",
    "        y = predict_with_ODE(SuEIR, t_span, y0, t_eval, args = (N0, x[0], x[1], x[2], x[3]))\n",
    "        #print(y)\n",
    "        I_pred = y[2,:] / I_max\n",
    "        R_pred = y[3,:] / R_max\n",
    "        #D_pred = (R_pred + 1) * ratios\n",
    "        \n",
    "        Inc_R_pred = y[3, 1:] - y[3,:-1]\n",
    "        Inc_D_pred = (Inc_R_pred + 1) * ratios[1:]\n",
    "        D_pred = np.zeros_like(deaths)\n",
    "        D_pred[0] = deaths[0]\n",
    "        D_pred[1:] = Inc_D_pred\n",
    "        D_pred = np.cumsum(D_pred)\n",
    "        D_pred = D_pred / R_max\n",
    "        res = np.array(np.concatenate([I_pred-scale_I, R_pred - scale_R, D_pred - scale_D])).astype(np.float64)\n",
    "        return res\n",
    "    x0 = np.array([beta0, sigma0, mu0, gamma0])\n",
    "    return least_squares(loss, x0, bounds = (0, 1))\n",
    "\n",
    "def optimize_SuEIR_parameters_2(beta0, sigma0, mu0, gamma0, N0, I, R, t_span, y0, t_eval, deaths, ratios):\n",
    "    I_max = np.max(I)\n",
    "    R_max = np.max(R)\n",
    "    scale_I = I / I_max\n",
    "    scale_R = R / R_max\n",
    "    scale_D = deaths / R_max\n",
    "    #print(scale_I)\n",
    "    #print(scale_R)\n",
    "   \n",
    "    def loss(x):\n",
    "        y = predict_with_ODE(SuEIR, t_span, y0, t_eval, args = (N0, x[0], x[1], x[2], x[3]))\n",
    "        #print(y)\n",
    "        I_pred = y[2,:] / I_max\n",
    "        R_pred = y[3,:] / R_max\n",
    "        D_pred = (R_pred + 1) * ratios\n",
    "        #return np.mean((I_pred-scale_I)**2) + np.mean((R_pred-scale_R)**2) + np.mean((D_pred-scale_D)**2)\n",
    "        res = np.array(np.concatenate([I_pred-scale_I, R_pred - scale_R, D_pred - scale_D])).astype(np.float64)\n",
    "        #print(res)\n",
    "        #print(np.isfinite(res))\n",
    "        return res\n",
    "    \n",
    "    x0 = np.array([beta0, sigma0, mu0, gamma0])\n",
    "    return least_squares(loss, x0, bounds = (0, 1))"
   ]
  },
  {
   "cell_type": "code",
   "execution_count": 9,
   "metadata": {},
   "outputs": [
    {
     "name": "stderr",
     "output_type": "stream",
     "text": [
      "\r",
      "  0%|                                                                                           | 0/38 [00:00<?, ?it/s]"
     ]
    },
    {
     "name": "stdout",
     "output_type": "stream",
     "text": [
      "Kansas (0.8, 0.2) 0.1358465022371576\n"
     ]
    },
    {
     "name": "stderr",
     "output_type": "stream",
     "text": [
      "\r",
      "  3%|██▏                                                                                | 1/38 [00:04<02:47,  4.54s/it]"
     ]
    },
    {
     "name": "stdout",
     "output_type": "stream",
     "text": [
      "Michigan (0.9, 0.2) 0.037213138143075294\n"
     ]
    },
    {
     "name": "stderr",
     "output_type": "stream",
     "text": [
      "\r",
      "  5%|████▎                                                                              | 2/38 [00:19<04:31,  7.55s/it]"
     ]
    },
    {
     "name": "stdout",
     "output_type": "stream",
     "text": [
      "Mississippi (0.7, 0.3) 0.08245735077482388\n"
     ]
    },
    {
     "name": "stderr",
     "output_type": "stream",
     "text": [
      "\r",
      "  8%|██████▌                                                                            | 3/38 [00:22<03:44,  6.41s/it]"
     ]
    },
    {
     "name": "stdout",
     "output_type": "stream",
     "text": [
      "Texas (0.7, 0.3) 0.07475142023733145\n"
     ]
    },
    {
     "name": "stderr",
     "output_type": "stream",
     "text": [
      "\r",
      " 11%|████████▋                                                                          | 4/38 [00:25<03:00,  5.32s/it]"
     ]
    },
    {
     "name": "stdout",
     "output_type": "stream",
     "text": [
      "Rhode Island (0.9, 0.1) 0.04644155000029951\n"
     ]
    },
    {
     "name": "stderr",
     "output_type": "stream",
     "text": [
      "\r",
      " 13%|██████████▉                                                                        | 5/38 [00:30<02:51,  5.20s/it]"
     ]
    },
    {
     "name": "stdout",
     "output_type": "stream",
     "text": [
      "Arkansas (0.8, 0.1) 0.01720988411281419\n"
     ]
    },
    {
     "name": "stderr",
     "output_type": "stream",
     "text": [
      "\r",
      " 16%|█████████████                                                                      | 6/38 [00:34<02:35,  4.85s/it]"
     ]
    },
    {
     "name": "stdout",
     "output_type": "stream",
     "text": [
      "Ohio (1, 0.1) 0.0864461831020044\n"
     ]
    },
    {
     "name": "stderr",
     "output_type": "stream",
     "text": [
      "\r",
      " 18%|███████████████▎                                                                   | 7/38 [00:37<02:14,  4.34s/it]"
     ]
    },
    {
     "name": "stdout",
     "output_type": "stream",
     "text": [
      "Iowa (0.9, 0.1) 0.03981729279197244\n"
     ]
    },
    {
     "name": "stderr",
     "output_type": "stream",
     "text": [
      "\r",
      " 21%|█████████████████▍                                                                 | 8/38 [00:50<03:26,  6.87s/it]"
     ]
    },
    {
     "name": "stdout",
     "output_type": "stream",
     "text": [
      "New Hampshire (1, 0.3) 0.0681313111147086\n"
     ]
    },
    {
     "name": "stderr",
     "output_type": "stream",
     "text": [
      "\r",
      " 24%|███████████████████▋                                                               | 9/38 [00:55<02:59,  6.18s/it]"
     ]
    },
    {
     "name": "stdout",
     "output_type": "stream",
     "text": [
      "New Mexico (0.9, 0.2) 0.10413129388832017\n"
     ]
    },
    {
     "name": "stderr",
     "output_type": "stream",
     "text": [
      "\r",
      " 26%|█████████████████████▌                                                            | 10/38 [00:59<02:37,  5.64s/it]"
     ]
    },
    {
     "name": "stdout",
     "output_type": "stream",
     "text": [
      "South Carolina (0.9, 0.2) 0.09919716781377827\n"
     ]
    },
    {
     "name": "stderr",
     "output_type": "stream",
     "text": [
      "\r",
      " 29%|███████████████████████▋                                                          | 11/38 [01:10<03:15,  7.22s/it]"
     ]
    },
    {
     "name": "stdout",
     "output_type": "stream",
     "text": [
      "Tennessee (1, 0.1) 0.02685376327964945\n"
     ]
    },
    {
     "name": "stderr",
     "output_type": "stream",
     "text": [
      "\r",
      " 32%|█████████████████████████▉                                                        | 12/38 [01:17<03:04,  7.11s/it]"
     ]
    },
    {
     "name": "stdout",
     "output_type": "stream",
     "text": [
      "Indiana (1, 0.1) 0.06377732261573786\n"
     ]
    },
    {
     "name": "stderr",
     "output_type": "stream",
     "text": [
      "\r",
      " 34%|████████████████████████████                                                      | 13/38 [01:28<03:25,  8.22s/it]"
     ]
    },
    {
     "name": "stdout",
     "output_type": "stream",
     "text": [
      "Massachusetts (1, 0.3) 0.08855125780155684\n"
     ]
    },
    {
     "name": "stderr",
     "output_type": "stream",
     "text": [
      "\r",
      " 37%|██████████████████████████████▏                                                   | 14/38 [01:31<02:39,  6.65s/it]"
     ]
    },
    {
     "name": "stdout",
     "output_type": "stream",
     "text": [
      "Utah (0.7, 0.1) 0.0732733155495482\n"
     ]
    },
    {
     "name": "stderr",
     "output_type": "stream",
     "text": [
      "\r",
      " 39%|████████████████████████████████▎                                                 | 15/38 [01:35<02:15,  5.89s/it]"
     ]
    },
    {
     "name": "stdout",
     "output_type": "stream",
     "text": [
      "Wisconsin (0.7, 0.1) 0.09069868373525894\n"
     ]
    },
    {
     "name": "stderr",
     "output_type": "stream",
     "text": [
      "\r",
      " 42%|██████████████████████████████████▌                                               | 16/38 [01:44<02:33,  6.96s/it]"
     ]
    },
    {
     "name": "stdout",
     "output_type": "stream",
     "text": [
      "West Virginia (0.7, 0.3) 0.21439747025531125\n"
     ]
    },
    {
     "name": "stderr",
     "output_type": "stream",
     "text": [
      "\r",
      " 45%|████████████████████████████████████▋                                             | 17/38 [01:48<02:04,  5.93s/it]"
     ]
    },
    {
     "name": "stdout",
     "output_type": "stream",
     "text": [
      "Montana (0.8, 0.3) 0.03511062471164543\n"
     ]
    },
    {
     "name": "stderr",
     "output_type": "stream",
     "text": [
      "\r",
      " 47%|██████████████████████████████████████▊                                           | 18/38 [01:59<02:29,  7.48s/it]"
     ]
    },
    {
     "name": "stdout",
     "output_type": "stream",
     "text": [
      "South Dakota (1, 0.2) 0.01884927164280567\n"
     ]
    },
    {
     "name": "stderr",
     "output_type": "stream",
     "text": [
      "\r",
      " 50%|█████████████████████████████████████████                                         | 19/38 [02:29<04:33, 14.37s/it]"
     ]
    },
    {
     "name": "stdout",
     "output_type": "stream",
     "text": [
      "Kentucky (1, 0.2) 0.041626568665599224\n"
     ]
    },
    {
     "name": "stderr",
     "output_type": "stream",
     "text": [
      "\r",
      " 53%|███████████████████████████████████████████▏                                      | 20/38 [02:35<03:30, 11.69s/it]"
     ]
    },
    {
     "name": "stdout",
     "output_type": "stream",
     "text": [
      "Oklahoma (0.7, 0.3) 0.013298132288789262\n"
     ]
    },
    {
     "name": "stderr",
     "output_type": "stream",
     "text": [
      "\r",
      " 55%|█████████████████████████████████████████████▎                                    | 21/38 [02:38<02:36,  9.19s/it]"
     ]
    },
    {
     "name": "stdout",
     "output_type": "stream",
     "text": [
      "Nebraska (1, 0.2) 0.014234394641466207\n"
     ]
    },
    {
     "name": "stderr",
     "output_type": "stream",
     "text": [
      "\r",
      " 58%|███████████████████████████████████████████████▍                                  | 22/38 [02:45<02:14,  8.43s/it]"
     ]
    },
    {
     "name": "stdout",
     "output_type": "stream",
     "text": [
      "Minnesota (0.7, 0.1) 0.03554586447137163\n"
     ]
    },
    {
     "name": "stderr",
     "output_type": "stream",
     "text": [
      "\r",
      " 61%|█████████████████████████████████████████████████▋                                | 23/38 [02:50<01:50,  7.38s/it]"
     ]
    },
    {
     "name": "stdout",
     "output_type": "stream",
     "text": [
      "New Jersey (1, 0.1) 0.07494363134367966\n"
     ]
    },
    {
     "name": "stderr",
     "output_type": "stream",
     "text": [
      "\r",
      " 63%|███████████████████████████████████████████████████▊                              | 24/38 [02:55<01:36,  6.87s/it]"
     ]
    },
    {
     "name": "stdout",
     "output_type": "stream",
     "text": [
      "Idaho (1, 0.1) 0.039476069163743015\n"
     ]
    },
    {
     "name": "stderr",
     "output_type": "stream",
     "text": [
      "\r",
      " 66%|█████████████████████████████████████████████████████▉                            | 25/38 [03:24<02:54, 13.43s/it]"
     ]
    },
    {
     "name": "stdout",
     "output_type": "stream",
     "text": [
      "Wyoming (0.8, 0.3) 0.033968672603863846\n"
     ]
    },
    {
     "name": "stderr",
     "output_type": "stream",
     "text": [
      "\r",
      " 68%|████████████████████████████████████████████████████████                          | 26/38 [03:56<03:48, 19.02s/it]"
     ]
    },
    {
     "name": "stdout",
     "output_type": "stream",
     "text": [
      "Colorado (1, 0.1) 0.033221488766409554\n"
     ]
    },
    {
     "name": "stderr",
     "output_type": "stream",
     "text": [
      "\r",
      " 71%|██████████████████████████████████████████████████████████▎                       | 27/38 [04:02<02:45, 15.02s/it]"
     ]
    },
    {
     "name": "stdout",
     "output_type": "stream",
     "text": [
      "Pennsylvania (0.7, 0.3) 0.09104019200174238\n"
     ]
    },
    {
     "name": "stderr",
     "output_type": "stream",
     "text": [
      "\r",
      " 74%|████████████████████████████████████████████████████████████▍                     | 28/38 [04:06<01:58, 11.89s/it]"
     ]
    },
    {
     "name": "stdout",
     "output_type": "stream",
     "text": [
      "Louisiana (0.7, 0.3) 0.10008177673610097\n"
     ]
    },
    {
     "name": "stderr",
     "output_type": "stream",
     "text": [
      "\r",
      " 76%|██████████████████████████████████████████████████████████████▌                   | 29/38 [04:11<01:26,  9.64s/it]"
     ]
    },
    {
     "name": "stdout",
     "output_type": "stream",
     "text": [
      "Maine (1, 0.1) 0.10621790632385515\n"
     ]
    },
    {
     "name": "stderr",
     "output_type": "stream",
     "text": [
      "\r",
      " 79%|████████████████████████████████████████████████████████████████▋                 | 30/38 [04:17<01:07,  8.50s/it]"
     ]
    },
    {
     "name": "stdout",
     "output_type": "stream",
     "text": [
      "New York (1, 0.1) 0.0690295326124783\n"
     ]
    },
    {
     "name": "stderr",
     "output_type": "stream",
     "text": [
      "\r",
      " 82%|██████████████████████████████████████████████████████████████████▉               | 31/38 [04:23<00:54,  7.74s/it]"
     ]
    },
    {
     "name": "stdout",
     "output_type": "stream",
     "text": [
      "Arizona (0.7, 0.3) 0.10233053630214314\n"
     ]
    },
    {
     "name": "stderr",
     "output_type": "stream",
     "text": [
      "\r",
      " 84%|█████████████████████████████████████████████████████████████████████             | 32/38 [04:30<00:45,  7.52s/it]"
     ]
    },
    {
     "name": "stdout",
     "output_type": "stream",
     "text": [
      "Alabama (0.9, 0.1) 0.13610105545789836\n"
     ]
    },
    {
     "name": "stderr",
     "output_type": "stream",
     "text": [
      "\r",
      " 87%|███████████████████████████████████████████████████████████████████████▏          | 33/38 [04:48<00:54, 10.94s/it]"
     ]
    },
    {
     "name": "stdout",
     "output_type": "stream",
     "text": [
      "North Carolina (1, 0.3) 0.024904801033186652\n"
     ]
    },
    {
     "name": "stderr",
     "output_type": "stream",
     "text": [
      "\r",
      " 89%|█████████████████████████████████████████████████████████████████████████▎        | 34/38 [04:53<00:36,  9.12s/it]"
     ]
    },
    {
     "name": "stdout",
     "output_type": "stream",
     "text": [
      "Virginia (0.8, 0.1) 0.03194655379170254\n"
     ]
    },
    {
     "name": "stderr",
     "output_type": "stream",
     "text": [
      "\r",
      " 92%|███████████████████████████████████████████████████████████████████████████▌      | 35/38 [05:06<00:30, 10.21s/it]"
     ]
    },
    {
     "name": "stdout",
     "output_type": "stream",
     "text": [
      "Vermont (0.9, 0.1) 0.336448957920361\n"
     ]
    },
    {
     "name": "stderr",
     "output_type": "stream",
     "text": [
      "\r",
      " 95%|█████████████████████████████████████████████████████████████████████████████▋    | 36/38 [05:10<00:16,  8.33s/it]"
     ]
    },
    {
     "name": "stdout",
     "output_type": "stream",
     "text": [
      "Maryland (1, 0.1) 0.11104317868045928\n"
     ]
    },
    {
     "name": "stderr",
     "output_type": "stream",
     "text": [
      "\r",
      " 97%|███████████████████████████████████████████████████████████████████████████████▊  | 37/38 [05:15<00:07,  7.39s/it]"
     ]
    },
    {
     "name": "stdout",
     "output_type": "stream",
     "text": [
      "North Dakota (0.7, 0.1) 0.06572793289869375\n"
     ]
    },
    {
     "name": "stderr",
     "output_type": "stream",
     "text": [
      "100%|██████████████████████████████████████████████████████████████████████████████████| 38/38 [05:33<00:00, 10.60s/it]\n"
     ]
    },
    {
     "name": "stdout",
     "output_type": "stream",
     "text": [
      "0.07537742235556168\n"
     ]
    }
   ],
   "source": [
    "N0_ratio_list = [0.7, 0.8, 0.9, 1]\n",
    "E0_ratio_list = [0.1, 0.2, 0.3]\n",
    "\n",
    "\n",
    "best_ratio = {}\n",
    "state_params = {}\n",
    "best_mape_list = []\n",
    "for state, _ in tqdm(true_state_partial):\n",
    "    best_mape = 10\n",
    "    for N0_ratio in N0_ratio_list:\n",
    "        for E0_ratio in E0_ratio_list:\n",
    "            # split training and validation set\n",
    "            values = data.loc[state].values\n",
    "            training_data = values[:-7,:]\n",
    "            valid_data = values[-7:,:]\n",
    "    \n",
    "            # set y0\n",
    "            I0 = values[0,4] # Active\n",
    "            R0 = values[0,2] + values[0,3] # Recovered + Death\n",
    "            N0 = N0_ratio * state_population.loc[state].values[0]\n",
    "            E0 = E0_ratio * state_population.loc[state].values[0]\n",
    "            S0 = N0 - E0 - I0 - R0\n",
    "            y0 = np.array([S0, E0, I0, R0])\n",
    "    \n",
    "            # set initial values for parameters\n",
    "            x0 = np.random.rand(4)\n",
    "    \n",
    "            # set t_span, t_eval\n",
    "            t_span = (0, training_data.shape[0]-1)\n",
    "            t_eval = np.array(list(range(training_data.shape[0]))).astype(np.float64)\n",
    "    \n",
    "            # retrieve I, R\n",
    "            I = training_data[:,4]\n",
    "            R = training_data[:,2] + training_data[:,3]\n",
    "            deaths = training_data[:,2]\n",
    "            date = np.array(range(values.shape[0])).astype(np.float64)\n",
    "            ratios = state_ratio_by_date[state](torch.FloatTensor(date).view(-1,1))\n",
    "            ratios = ratios.detach().numpy().squeeze()\n",
    "            \n",
    "    \n",
    "            res = optimize_SuEIR_parameters_2(x0[0], x0[1], x0[2], x0[3], N0, I, R, t_span, y0, t_eval, deaths, ratios[:-7])\n",
    "    \n",
    "            # predict with learned parameters and compute MAPE on validation dataset\n",
    "            pred = predict_with_ODE(SuEIR, (0, values.shape[0]), y0, t_eval = np.array(list(range(values.shape[0]))).astype(np.float64), \n",
    "                                   args = (N0, res.x[0], res.x[1], res.x[2], res.x[3]))\n",
    "            pred_valid = pred[2,-7:] + pred[3,-7:]\n",
    "            \n",
    "            death_valid = valid_data[:,2]\n",
    "            #pred_death = (pred[3,-7:] + 1) * ratios[-7:]\n",
    "            \n",
    "            pred_remove = pred[3,:]\n",
    "            \n",
    "            pred_death_ = (pred_remove + 1) * ratios\n",
    "            \"\"\"\n",
    "            pred_inc_remove = pred_remove[1:] - pred_remove[:-1]\n",
    "            pred_inc_death = (pred_inc_remove+1) * ratios[1:]\n",
    "            pred_death_ = np.zeros_like(pred_remove)\n",
    "            pred_death_[0] = deaths[0]\n",
    "            pred_death_[1:] = pred_inc_death\n",
    "            pred_death_ = np.cumsum(pred_death_)\n",
    "            #print(pred_remove)\n",
    "            #print(ratios)\n",
    "            #print(pred_inc_death)\n",
    "            \"\"\"\n",
    "            pred_death_ = pred_death_[-7:]\n",
    "            \n",
    "            mape = np.mean(np.abs(valid_data[:,1]-pred_valid) / valid_data[:,1]) +\\\n",
    "                            np.mean(np.abs(pred_death_-death_valid)/death_valid)\n",
    "            \n",
    "            #break\n",
    "        #mape = np.mean(mape_cfm)\n",
    "            if mape < best_mape:\n",
    "                best_mape = mape\n",
    "                best_ratio[state] = (N0_ratio, E0_ratio)\n",
    "                state_params[state] = copy.deepcopy(res)\n",
    "    best_mape_list.append(best_mape) \n",
    "    print(state, best_ratio[state], best_mape)\n",
    "    #break\n",
    "    #break\n",
    "#N0_ratio, E0_ratio = best_ratio[0], best_ratio[1]\n",
    "#print('Best ratio is N0 ratio: %.3f, E0 ratio: %.3f, validation mape: %.3f'%(N0_ratio, E0_ratio, np.mean(best_mape)) #0.117\n",
    "print(np.mean(best_mape_list))"
   ]
  },
  {
   "cell_type": "code",
   "execution_count": 10,
   "metadata": {},
   "outputs": [
    {
     "name": "stdout",
     "output_type": "stream",
     "text": [
      "Finish\n"
     ]
    }
   ],
   "source": [
    "# predict\n",
    "pred_cfm = {}\n",
    "pred_death = {}\n",
    "for state, _ in true_state_partial:\n",
    "    # split training and validation set\n",
    "    values = data.loc[state].values\n",
    "    training_data = values[:,:]\n",
    "#    valid_data = values[-7:,:]\n",
    "    N0_ratio, E0_ratio = best_ratio[state]\n",
    "    # set y0\n",
    "    I0 = values[0,4] # Active\n",
    "    R0 = values[0,2] + values[0,3] # Recovered + Death\n",
    "    N0 = N0_ratio * state_population.loc[state].values[0]\n",
    "    E0 = E0_ratio * state_population.loc[state].values[0]\n",
    "    S0 = N0 - E0 - I0 - R0\n",
    "    y0 = np.array([S0, E0, I0, R0])\n",
    "    \n",
    "    # set initial values for parameters\n",
    "    #x0 = np.random.rand(4)\n",
    "    \n",
    "    # set t_span, t_eval\n",
    "    t_span = (0, values.shape[0]+1)\n",
    "    t_eval = np.array(range(values.shape[0])).astype(np.float64)\n",
    "    res = state_params[state]\n",
    "    pred = predict_with_ODE(SuEIR, t_span, y0, t_eval = t_eval, \n",
    "                           args = (N0, res.x[0], res.x[1], res.x[2], res.x[3]))\n",
    "    \n",
    "    new_S0, new_E0 = pred[0, values.shape[0]-1], pred[1, values.shape[0]-1]\n",
    "    t_span = (0, 31)\n",
    "    t_eval = np.array(range(31)).astype(np.float64)\n",
    "    \n",
    "    # retrieve I, R\n",
    "    #I = training_data[:,4]\n",
    "    #R = training_data[:,2] + training_data[:,3]\n",
    "    \n",
    "    #res = optimize_SuEIR_parameters(x0[0], x0[1], x0[2], x0[3], N0, I, R, t_span, y0, t_eval)\n",
    "    #state_params[state] = res.x\n",
    "    y0 = np.array([new_S0, new_E0, values[78,4], values[78,2]+values[78,3]])\n",
    "    pred = predict_with_ODE(SuEIR, t_span, y0, t_eval = t_eval, \n",
    "                           args = (N0, res.x[0], res.x[1], res.x[2], res.x[3]))\n",
    "    pred_cfm[state] = pred[2,1:31] + pred[3,1:31]\n",
    "    \n",
    "    date = np.array(range(values.shape[0]+30)).astype(np.float64)\n",
    "    ratio = state_ratio_by_date[state](torch.FloatTensor(date).view(-1,1))\n",
    "    ratio = ratio.detach().numpy().squeeze()\n",
    "    \n",
    "    death = (pred[3,1:31] + 1) * ratio[-30:]\n",
    "    #print(death.shape)\n",
    "    #break\n",
    "    pred_death[state] = death\n",
    "    \"\"\"\n",
    "    pred_remove = pred[3,:]\n",
    "    pred_inc_remove = pred_remove[1:] - pred_remove[:-1]\n",
    "    pred_inc_death = (pred_inc_remove+1) * ratio[1:]\n",
    "    pred_death_ = np.zeros_like(pred_remove)\n",
    "    pred_death_[0] = deaths[0]\n",
    "    pred_death_[1:] = pred_inc_death\n",
    "    pred_death_ = np.cumsum(pred_death_)\n",
    "    pred_death[state] = pred_death_[-30:]\n",
    "    \"\"\"\n",
    "print('Finish')"
   ]
  },
  {
   "cell_type": "code",
   "execution_count": 11,
   "metadata": {},
   "outputs": [
    {
     "name": "stdout",
     "output_type": "stream",
     "text": [
      "0.868421052631579 0.18157894736842095\n"
     ]
    }
   ],
   "source": [
    "best_ratio_value = np.array(list(best_ratio.values()))\n",
    "N0_E0_ratio = np.mean(best_ratio_value, axis=0)\n",
    "#print(N0_E0_ratio)\n",
    "N0_ratio, E0_ratio = N0_E0_ratio[0], N0_E0_ratio[1]\n",
    "print(N0_ratio, E0_ratio)"
   ]
  },
  {
   "cell_type": "code",
   "execution_count": 12,
   "metadata": {},
   "outputs": [
    {
     "name": "stderr",
     "output_type": "stream",
     "text": [
      "\r",
      "  0%|                                                                                           | 0/12 [00:00<?, ?it/s]"
     ]
    },
    {
     "name": "stdout",
     "output_type": "stream",
     "text": [
      "Washington 0.022318603678364787\n"
     ]
    },
    {
     "name": "stderr",
     "output_type": "stream",
     "text": [
      "\r",
      "  8%|██████▉                                                                            | 1/12 [00:54<09:56, 54.26s/it]"
     ]
    },
    {
     "name": "stdout",
     "output_type": "stream",
     "text": [
      "Missouri 0.011873801653221338\n"
     ]
    },
    {
     "name": "stderr",
     "output_type": "stream",
     "text": [
      "\r",
      " 17%|█████████████▊                                                                     | 2/12 [01:31<08:12, 49.24s/it]"
     ]
    },
    {
     "name": "stdout",
     "output_type": "stream",
     "text": [
      "Georgia 0.009575663354695643\n"
     ]
    },
    {
     "name": "stderr",
     "output_type": "stream",
     "text": [
      "\r",
      " 25%|████████████████████▊                                                              | 3/12 [02:10<06:53, 45.98s/it]"
     ]
    },
    {
     "name": "stdout",
     "output_type": "stream",
     "text": [
      "Florida 0.013828392327267486\n"
     ]
    },
    {
     "name": "stderr",
     "output_type": "stream",
     "text": [
      "\r",
      " 33%|███████████████████████████▋                                                       | 4/12 [02:49<05:52, 44.01s/it]"
     ]
    },
    {
     "name": "stdout",
     "output_type": "stream",
     "text": [
      "California 0.006774245521534756\n"
     ]
    },
    {
     "name": "stderr",
     "output_type": "stream",
     "text": [
      "\r",
      " 42%|██████████████████████████████████▌                                                | 5/12 [03:22<04:45, 40.78s/it]"
     ]
    },
    {
     "name": "stdout",
     "output_type": "stream",
     "text": [
      "Illinois 0.014040524621587048\n"
     ]
    },
    {
     "name": "stderr",
     "output_type": "stream",
     "text": [
      "\r",
      " 50%|█████████████████████████████████████████▌                                         | 6/12 [04:08<04:14, 42.34s/it]"
     ]
    },
    {
     "name": "stdout",
     "output_type": "stream",
     "text": [
      "Nevada 0.008699101945525867\n"
     ]
    },
    {
     "name": "stderr",
     "output_type": "stream",
     "text": [
      "\r",
      " 58%|████████████████████████████████████████████████▍                                  | 7/12 [04:49<03:29, 41.89s/it]"
     ]
    },
    {
     "name": "stdout",
     "output_type": "stream",
     "text": [
      "Oregon 0.01746483362191012\n"
     ]
    },
    {
     "name": "stderr",
     "output_type": "stream",
     "text": [
      "\r",
      " 67%|███████████████████████████████████████████████████████▎                           | 8/12 [05:45<03:04, 46.09s/it]"
     ]
    },
    {
     "name": "stdout",
     "output_type": "stream",
     "text": [
      "Hawaii 0.0405317745956129\n"
     ]
    },
    {
     "name": "stderr",
     "output_type": "stream",
     "text": [
      "\r",
      " 75%|██████████████████████████████████████████████████████████████▎                    | 9/12 [06:35<02:21, 47.32s/it]"
     ]
    },
    {
     "name": "stdout",
     "output_type": "stream",
     "text": [
      "Alaska 0.013678160665720598\n"
     ]
    },
    {
     "name": "stderr",
     "output_type": "stream",
     "text": [
      "\r",
      " 83%|████████████████████████████████████████████████████████████████████▎             | 10/12 [07:21<01:33, 46.84s/it]"
     ]
    },
    {
     "name": "stdout",
     "output_type": "stream",
     "text": [
      "Connecticut 0.03132984642964513\n"
     ]
    },
    {
     "name": "stderr",
     "output_type": "stream",
     "text": [
      "\r",
      " 92%|███████████████████████████████████████████████████████████████████████████▏      | 11/12 [08:02<00:45, 45.16s/it]"
     ]
    },
    {
     "name": "stdout",
     "output_type": "stream",
     "text": [
      "Delaware 0.023095805724732063\n"
     ]
    },
    {
     "name": "stderr",
     "output_type": "stream",
     "text": [
      "100%|██████████████████████████████████████████████████████████████████████████████████| 12/12 [08:41<00:00, 43.31s/it]\n"
     ]
    }
   ],
   "source": [
    "# Now process states without recovered number\n",
    "a_list = [-0.5, -0.4, -0.3, -0.2, -0.1, 0, 0.1, 0.2, 0.3, 0.4, 0.5]\n",
    "b_list = [0.1, 0.2, 0.3, 0.4, 0.5, 0.6, 0.7, 0.8, 0.9, 1]\n",
    "\n",
    "def predictRatio(t, a, b):\n",
    "    t = t/100\n",
    "    return a * t + b\n",
    "\n",
    "train_date = 72\n",
    "valid_date = 79\n",
    "total_date = 109\n",
    "\n",
    "for state in tqdm(state_none):\n",
    "    # Try to predict Recovered Data\n",
    "    best_params = None\n",
    "    best_mape = 100\n",
    "    death = data.loc[state, 'Deaths'].values\n",
    "    confirmed = data.loc[state, 'Confirmed'].values\n",
    "    for a in a_list:\n",
    "        for b in b_list:\n",
    "            t = np.array(range(0, total_date)).astype(np.float64)\n",
    "            ratio = predictRatio(t, a, b)\n",
    "            if np.sum(ratio <= 0) > 0:\n",
    "                continue\n",
    "            #print(ratio)\n",
    "            removed = death / ratio[:valid_date] - 1\n",
    "            active =  confirmed - removed\n",
    "            \n",
    "            I0 = active[0]\n",
    "            R0 = removed[0]\n",
    "            N0 = N0_ratio * state_population.loc[state].values[0]\n",
    "            E0 = E0_ratio * state_population.loc[state].values[0]\n",
    "            S0 = N0 - E0 - I0 - R0\n",
    "            y0 = np.array([S0, E0, I0, R0])\n",
    "            #print(ratio)\n",
    "            #print(y0)\n",
    "            #print(N0)\n",
    "            x0 = np.random.rand(4)\n",
    "            \n",
    "            t_span = (0, train_date)\n",
    "            t_eval = np.array(range(0, train_date)).astype(np.float64)\n",
    "            \n",
    "            I = active[:train_date]\n",
    "            R = removed[:train_date]\n",
    "            \n",
    "            #print(I)\n",
    "            #print(R)\n",
    "            \n",
    "            res = optimize_SuEIR_parameters_2(x0[0], x0[1], x0[2], x0[3], N0, I, R, t_span, y0, t_eval, death[:train_date], ratio[:train_date])\n",
    "            \n",
    "            pred = predict_with_ODE(SuEIR, (0, valid_date), y0, t_eval = np.array(list(range(valid_date))).astype(np.float64), \n",
    "                           args = (N0, res.x[0], res.x[1], res.x[2], res.x[3]))\n",
    "            pred_valid = pred[2,-7:] + pred[3,-7:]\n",
    "            valid_data = data.loc[state, 'Confirmed'].values[-7:]\n",
    "            \n",
    "            pred_death_ = (pred[3,-7:] + 1) * ratio[-7:]\n",
    "            valid_death = death[-7:]\n",
    "            mape = np.mean(np.abs(valid_data-pred_valid) / valid_data) + np.mean(np.abs(valid_death-pred_death_)/valid_death)\n",
    "            if mape < best_mape:\n",
    "                best_mape = mape\n",
    "                best_params = (a, b, N0, res.x[0], res.x[1], res.x[2], res.x[3])\n",
    "    print(state, best_mape)\n",
    "    ratio = predictRatio(0, best_params[0], best_params[1])\n",
    "    R0 = death[0]/ratio - 1\n",
    "    I0 = confirmed[0] - R0\n",
    "    N0 = N0_ratio * state_population.loc[state].values[0]\n",
    "    E0 = E0_ratio * state_population.loc[state].values[0]\n",
    "    S0 = N0 - E0 - I0 - R0\n",
    "    y0 = np.array([S0, E0, I0, R0])\n",
    "    \n",
    "    state_params[state] = best_params\n",
    "    # use best parameters to predict\n",
    "    pred = predict_with_ODE(SuEIR, (0, total_date), y0, t_eval = np.array(range(total_date)).astype(np.float64), \n",
    "                           args = best_params[-5:])\n",
    "    \n",
    "    new_S0, new_E0 = pred[0, valid_date-1], pred[1, valid_date-1]\n",
    "    t_span = (0, total_date - valid_date)\n",
    "    t_eval = np.array(range(31)).astype(np.float64)\n",
    "    ratio = predictRatio(valid_date-1, best_params[0], best_params[1])\n",
    "    new_R0 = death[valid_date-1]/ratio - 1\n",
    "    \n",
    "    # retrieve I, R\n",
    "    #I = training_data[:,4]\n",
    "    #R = training_data[:,2] + training_data[:,3]\n",
    "    \n",
    "    #res = optimize_SuEIR_parameters(x0[0], x0[1], x0[2], x0[3], N0, I, R, t_span, y0, t_eval)\n",
    "    #state_params[state] = res.x\n",
    "    y0 = np.array([new_S0, new_E0, confirmed[valid_date-1]-new_R0, new_R0])\n",
    "    pred = predict_with_ODE(SuEIR, t_span, y0, t_eval = t_eval, \n",
    "                           args = (N0, res.x[0], res.x[1], res.x[2], res.x[3]))\n",
    "    pred_cfm[state] = pred[2,1:31] + pred[3,1:31]\n",
    "    removed = pred[3,1:31]\n",
    "    date = np.array(range(values.shape[0],values.shape[0]+30)).astype(np.float64)\n",
    "    ratio = predictRatio(date, best_params[0], best_params[1])\n",
    "    death = (removed + 1) * ratio\n",
    "    pred_death[state] = death\n"
   ]
  },
  {
   "cell_type": "code",
   "execution_count": 13,
   "metadata": {},
   "outputs": [],
   "source": [
    "# Write submission.csv\n",
    "test_data = pd.read_csv('test.csv')\n",
    "test_data['Date'] = pd.to_datetime(test_data['Date'], format='%m-%d-%Y')\n",
    "start_date = pd.to_datetime('04-01-2021', format='%m-%d-%Y')\n",
    "for index in test_data.index:\n",
    "    idx = (test_data.loc[index, 'Date'] - start_date).days\n",
    "    state = test_data.loc[index, 'Province_State']\n",
    "   \n",
    "    test_data.loc[index, 'Confirmed'] = pred_cfm[state][idx]\n",
    "    test_data.loc[index, 'Deaths'] = pred_death[state][idx]\n",
    "\n",
    "test_data.loc[:,['Confirmed', 'Deaths']].to_csv('submission.csv')"
   ]
  },
  {
   "cell_type": "code",
   "execution_count": 16,
   "metadata": {},
   "outputs": [
    {
     "name": "stdout",
     "output_type": "stream",
     "text": [
      "[0.02376928 0.02360529 0.0234413  0.02327732 0.02311333 0.02294934\n",
      " 0.02278535 0.02262137 0.02245738 0.02229339 0.0221294  0.02196542\n",
      " 0.02180143 0.02163744 0.02147345 0.02130947 0.02114548 0.02098149\n",
      " 0.02081751 0.02065352 0.02048953 0.02032554 0.02016156 0.01999757\n",
      " 0.01983358 0.01966959 0.01950561 0.01934162 0.01917763 0.01901364\n",
      " 0.01884966 0.01868567 0.01852168 0.01835769 0.01819371 0.01802972\n",
      " 0.01786573 0.01770175 0.01753776 0.01737377 0.01720978 0.0170458\n",
      " 0.01688181 0.01671782 0.01655383 0.01638985 0.01622586 0.01606187\n",
      " 0.01589788 0.0157339  0.01556991 0.01540592 0.01524193 0.01507795\n",
      " 0.01491396 0.01474997 0.01458598 0.014422   0.01425801 0.01409402\n",
      " 0.01393003 0.01376605 0.01360206 0.01343807 0.01327409 0.0131101\n",
      " 0.01294611 0.01278212 0.01261814 0.01245415 0.01229016 0.01212617\n",
      " 0.01196219 0.0117982  0.01163421 0.01147022 0.01130624 0.01114225\n",
      " 0.01097826]\n",
      "[151.76684054 154.09320523 156.41632018 158.73911971 161.06393691\n",
      " 163.39039    165.71745272 168.04360995 170.36687545 172.68479501\n",
      " 174.99452158 177.29274725 179.57577768 181.83953571 184.07957893\n",
      " 186.29111741 188.46903133 190.60788862 192.70196267 194.74524994\n",
      " 196.73148765 198.65424424 200.51205402 202.30170934 204.01741788\n",
      " 205.6541017  207.20726421 208.67304676 210.04819085 211.33001899\n",
      " 212.51641577 213.60580877 214.59714952 215.48989448 216.28398603\n",
      " 216.97983338 217.57829358 218.07982685 218.48080211 218.78188607\n",
      " 218.98465808 219.09070491 219.10162031 219.01898022 218.84446437\n",
      " 218.57961181 218.22603948 217.78541978 217.25935487 216.64947585\n",
      " 215.95741745 215.18481766 214.33331732 213.40484113 212.40250457\n",
      " 211.32901773 210.18688208 208.97851631 207.70624573 206.37230491\n",
      " 204.97882659 203.52789909 202.02148683 200.46150155 198.84973574\n",
      " 197.18794843 195.47779839 193.72091677 191.91924115 190.07501194\n",
      " 188.19001549 186.26596752 184.30450216 182.30723105 180.27565917\n",
      " 178.21124381 176.11538208 173.98941263 171.83461743]\n",
      "Province_State\n",
      "Vermont    2863.000000\n",
      "Vermont    2889.000000\n",
      "Vermont    3008.000000\n",
      "Vermont    3065.000000\n",
      "Vermont    3119.000000\n",
      "Vermont    3175.000000\n",
      "Vermont    3232.000000\n",
      "Vermont    3233.000000\n",
      "Vermont    3286.000000\n",
      "Vermont    3329.000000\n",
      "Vermont    3413.000000\n",
      "Vermont    3444.000000\n",
      "Vermont    3467.000000\n",
      "Vermont    3518.000000\n",
      "Vermont    3540.000000\n",
      "Vermont    3511.000000\n",
      "Vermont    3525.000000\n",
      "Vermont    3560.000000\n",
      "Vermont    3563.000000\n",
      "Vermont    3537.000000\n",
      "Vermont    3640.000000\n",
      "Vermont    3439.000000\n",
      "Vermont    3391.000000\n",
      "Vermont    3369.000000\n",
      "Vermont    3305.000000\n",
      "Vermont    3212.000000\n",
      "Vermont    3189.000000\n",
      "Vermont    3188.000000\n",
      "Vermont    3053.000000\n",
      "Vermont    2947.000000\n",
      "              ...     \n",
      "Vermont    2407.000000\n",
      "Vermont    2438.000000\n",
      "Vermont    2489.000000\n",
      "Vermont    2467.000000\n",
      "Vermont    2611.000000\n",
      "Vermont    2137.333859\n",
      "Vermont    2098.277568\n",
      "Vermont    1821.057841\n",
      "Vermont    1741.570874\n",
      "Vermont    1702.300241\n",
      "Vermont    1582.161804\n",
      "Vermont    1336.510457\n",
      "Vermont    1345.505639\n",
      "Vermont    1260.088186\n",
      "Vermont    1048.682225\n",
      "Vermont     759.358078\n",
      "Vermont     695.874082\n",
      "Vermont     632.208517\n",
      "Vermont     422.695851\n",
      "Vermont     385.028731\n",
      "Vermont     255.497770\n",
      "Vermont      33.502345\n",
      "Vermont       0.000000\n",
      "Vermont       0.000000\n",
      "Vermont       0.000000\n",
      "Vermont       0.000000\n",
      "Vermont       0.000000\n",
      "Vermont       0.000000\n",
      "Vermont       0.000000\n",
      "Vermont       0.000000\n",
      "Name: Active, Length: 79, dtype: float64\n",
      "Finish\n"
     ]
    },
    {
     "data": {
      "image/png": "[encoded data removed]",
      "text/plain": [
       "<Figure size 432x288 with 1 Axes>"
      ]
     },
     "metadata": {
      "needs_background": "light"
     },
     "output_type": "display_data"
    },
    {
     "data": {
      "image/png": "[encoded data removed]",
      "text/plain": [
       "<Figure size 432x288 with 1 Axes>"
      ]
     },
     "metadata": {
      "needs_background": "light"
     },
     "output_type": "display_data"
    },
    {
     "data": {
      "image/png": "[encoded data removed]",
      "text/plain": [
       "<Figure size 432x288 with 1 Axes>"
      ]
     },
     "metadata": {
      "needs_background": "light"
     },
     "output_type": "display_data"
    },
    {
     "data": {
      "image/png": "[encoded data removed]",
      "text/plain": [
       "<Figure size 432x288 with 1 Axes>"
      ]
     },
     "metadata": {
      "needs_background": "light"
     },
     "output_type": "display_data"
    }
   ],
   "source": [
    "target_state = 'Vermont'\n",
    "for state, _ in true_state_partial:\n",
    "    if state != target_state:\n",
    "        continue\n",
    "    # split training and validation set\n",
    "    values = data.loc[state].values\n",
    "    #training_data = values[:,:]\n",
    "#    valid_data = values[-7:,:]\n",
    "    N0_ratio, E0_ratio = best_ratio[state]\n",
    "    # set y0\n",
    "    I0 = values[0,4] # Active\n",
    "    R0 = values[0,2] + values[0,3] # Recovered + Death\n",
    "    N0 = N0_ratio * state_population.loc[state].values[0]\n",
    "    E0 = E0_ratio * state_population.loc[state].values[0]\n",
    "    S0 = N0 - E0 - I0 - R0\n",
    "    y0 = np.array([S0, E0, I0, R0])\n",
    "    \n",
    "    # set initial values for parameters\n",
    "    #x0 = np.random.rand(4)\n",
    "    \n",
    "    # set t_span, t_eval\n",
    "    t_span = (0, values.shape[0]+1)\n",
    "    t_eval = np.array(range(values.shape[0])).astype(np.float64)\n",
    "    res = state_params[state]\n",
    "    pred = predict_with_ODE(SuEIR, t_span, y0, t_eval = t_eval, \n",
    "                           args = (N0, res.x[0], res.x[1], res.x[2], res.x[3]))\n",
    "    \n",
    "    date = np.array(range(79))\n",
    "    \n",
    "    ratio = state_ratio_by_date[state](torch.FloatTensor(date).view(-1,1))\n",
    "    ratio = ratio.detach().numpy().squeeze()\n",
    "    \n",
    "    death = (pred[3,:] + 1) * ratio\n",
    "    print(ratio)\n",
    "    print(death)\n",
    "    plt.figure()\n",
    "    plt.plot(date, values[:,1], c='red')\n",
    "    plt.plot(date, pred[2,:]+pred[3,:], c='yellow')\n",
    "    plt.figure()\n",
    "    plt.plot(date, values[:,2], c='red')\n",
    "    plt.plot(date, death, c='yellow')\n",
    "    \n",
    "    plt.figure()\n",
    "    plt.plot(date, values[:,4], c='red')\n",
    "    plt.plot(date, pred[2,:], c='yellow')\n",
    "    \n",
    "    plt.figure()\n",
    "    plt.plot(date, values[:,2]+values[:,3], c='red')\n",
    "    plt.plot(date, pred[3,:], c='yellow')\n",
    "    \n",
    "    print(data.loc[state, 'Active'])\n",
    "print('Finish')"
   ]
  },
  {
   "cell_type": "code",
   "execution_count": 15,
   "metadata": {},
   "outputs": [
    {
     "name": "stdout",
     "output_type": "stream",
     "text": [
      "[0.0247455  0.02438272 0.02467256 0.02443778 0.02398117 0.02368153\n",
      " 0.02332236 0.02299337 0.02296131 0.02316602 0.02300259 0.02277294\n",
      " 0.02246597 0.02235879 0.02207591 0.02185792 0.02150269 0.02123719\n",
      " 0.02092151 0.02064302 0.02072477 0.02009591 0.02002461 0.0198139\n",
      " 0.01944564]\n",
      "Parameter containing:\n",
      "tensor([[ 0.0238, -0.0164]], requires_grad=True)\n",
      "                      Date  Confirmed  Deaths     Recovered       Active  \\\n",
      "Province_State                                                             \n",
      "Vermont         01-12-2021       9247     158   6226.000000  2863.000000   \n",
      "Vermont         01-13-2021       9368     158   6321.000000  2889.000000   \n",
      "Vermont         01-14-2021       9573     162   6403.000000  3008.000000   \n",
      "Vermont         01-15-2021       9734     163   6506.000000  3065.000000   \n",
      "Vermont         01-16-2021       9915     163   6633.000000  3119.000000   \n",
      "Vermont         01-17-2021      10057     163   6719.000000  3175.000000   \n",
      "Vermont         01-18-2021      10220     163   6825.000000  3232.000000   \n",
      "Vermont         01-19-2021      10321     163   6925.000000  3233.000000   \n",
      "Vermont         01-20-2021      10471     165   7020.000000  3286.000000   \n",
      "Vermont         01-21-2021      10580     168   7083.000000  3329.000000   \n",
      "Vermont         01-22-2021      10759     169   7177.000000  3413.000000   \n",
      "Vermont         01-23-2021      10908     170   7294.000000  3444.000000   \n",
      "Vermont         01-24-2021      11033     170   7396.000000  3467.000000   \n",
      "Vermont         01-25-2021      11165     171   7476.000000  3518.000000   \n",
      "Vermont         01-26-2021      11285     171   7574.000000  3540.000000   \n",
      "Vermont         01-27-2021      11379     172   7696.000000  3511.000000   \n",
      "Vermont         01-28-2021      11523     172   7826.000000  3525.000000   \n",
      "Vermont         01-29-2021      11658     172   7926.000000  3560.000000   \n",
      "Vermont         01-30-2021      11831     173   8095.000000  3563.000000   \n",
      "Vermont         01-31-2021      11965     174   8254.000000  3537.000000   \n",
      "Vermont         02-01-2021      12083     175   8268.000000  3640.000000   \n",
      "Vermont         02-02-2021      12196     176   8581.000000  3439.000000   \n",
      "Vermont         02-03-2021      12329     179   8759.000000  3391.000000   \n",
      "Vermont         02-04-2021      12503     181   8953.000000  3369.000000   \n",
      "Vermont         02-05-2021      12612     181   9126.000000  3305.000000   \n",
      "Vermont         02-06-2021      12766     182   9372.000000  3212.000000   \n",
      "Vermont         02-07-2021      12900     183   9528.000000  3189.000000   \n",
      "Vermont         02-08-2021      13046     183   9675.000000  3188.000000   \n",
      "Vermont         02-09-2021      13105     186   9866.000000  3053.000000   \n",
      "Vermont         02-10-2021      13122     187   9988.000000  2947.000000   \n",
      "...                    ...        ...     ...           ...          ...   \n",
      "Vermont         03-02-2021      15372     206  12759.000000  2407.000000   \n",
      "Vermont         03-03-2021      15487     207  12842.000000  2438.000000   \n",
      "Vermont         03-04-2021      15686     207  12990.000000  2489.000000   \n",
      "Vermont         03-05-2021      15819     207  13145.000000  2467.000000   \n",
      "Vermont         03-06-2021      15964     208  13145.000000  2611.000000   \n",
      "Vermont         03-07-2021      16083     208  13737.666141  2137.333859   \n",
      "Vermont         03-08-2021      16199     208  13892.722432  2098.277568   \n",
      "Vermont         03-09-2021      16286     211  14253.942159  1821.057841   \n",
      "Vermont         03-10-2021      16371     211  14418.429126  1741.570874   \n",
      "Vermont         03-11-2021      16500     211  14586.699759  1702.300241   \n",
      "Vermont         03-12-2021      16623     212  14828.838196  1582.161804   \n",
      "Vermont         03-13-2021      16698     214  15147.489543  1336.510457   \n",
      "Vermont         03-14-2021      16890     214  15330.494361  1345.505639   \n",
      "Vermont         03-15-2021      16992     214  15517.911814  1260.088186   \n",
      "Vermont         03-16-2021      17047     215  15783.317775  1048.682225   \n",
      "Vermont         03-17-2021      17106     217  16129.641922   759.358078   \n",
      "Vermont         03-18-2021      17247     217  16334.125918   695.874082   \n",
      "Vermont         03-19-2021      17393     217  16543.791483   632.208517   \n",
      "Vermont         03-20-2021      17555     219  16913.304149   422.695851   \n",
      "Vermont         03-21-2021      17740     219  17135.971269   385.028731   \n",
      "Vermont         03-22-2021      17839     219  17364.502230   255.497770   \n",
      "Vermont         03-23-2021      17933     220  17679.497655    33.502345   \n",
      "Vermont         03-24-2021      18028     222  17806.000000     0.000000   \n",
      "Vermont         03-25-2021      18215     223  17992.000000     0.000000   \n",
      "Vermont         03-26-2021      18498     224  18274.000000     0.000000   \n",
      "Vermont         03-27-2021      18623     224  18399.000000     0.000000   \n",
      "Vermont         03-28-2021      18820     225  18595.000000     0.000000   \n",
      "Vermont         03-29-2021      19002     225  18777.000000     0.000000   \n",
      "Vermont         03-30-2021      19109     225  18884.000000     0.000000   \n",
      "Vermont         03-31-2021      19275     227  19048.000000     0.000000   \n",
      "\n",
      "                Incident_Rate  Total_Test_Results  Case_Fatality_Ratio  \\\n",
      "Province_State                                                           \n",
      "Vermont           1481.917149            767325.0             1.708662   \n",
      "Vermont           1501.308517            771018.0             1.686593   \n",
      "Vermont           1534.161660            779178.0             1.692259   \n",
      "Vermont           1559.963397            788759.0             1.674543   \n",
      "Vermont           1588.970318            796904.0             1.643974   \n",
      "Vermont           1611.727130            805019.0             1.620762   \n",
      "Vermont           1637.849385            809158.0             1.594912   \n",
      "Vermont           1654.035568            813355.0             1.579304   \n",
      "Vermont           1678.074453            818476.0             1.575781   \n",
      "Vermont           1695.542710            822888.0             1.587902   \n",
      "Vermont           1724.229113            834067.0             1.570778   \n",
      "Vermont           1748.107739            841251.0             1.558489   \n",
      "Vermont           1768.140143            847983.0             1.540832   \n",
      "Vermont           1789.294363            853551.0             1.531572   \n",
      "Vermont           1808.525471            858834.0             1.515286   \n",
      "Vermont           1823.589839            862821.0             1.511556   \n",
      "Vermont           1846.667169            870947.0             1.492667   \n",
      "Vermont           1868.302166            881432.0             1.475382   \n",
      "Vermont           1896.027013            889677.0             1.462260   \n",
      "Vermont           1917.501751            897351.0             1.454242   \n",
      "Vermont           1936.412341            908823.0             1.448316   \n",
      "Vermont           1954.521634            886121.0             1.443096   \n",
      "Vermont           1975.836112            894557.0             1.451861   \n",
      "Vermont           2003.721219            903253.0             1.447653   \n",
      "Vermont           2021.189476            907998.0             1.435141   \n",
      "Vermont           2045.869398            917191.0             1.425662   \n",
      "Vermont           2067.344136            930501.0             1.418605   \n",
      "Vermont           2090.741984            934293.0             1.402729   \n",
      "Vermont           2100.197279            937330.0             1.419306   \n",
      "Vermont           2102.921686            942276.0             1.425088   \n",
      "...                       ...                 ...                  ...   \n",
      "Vermont           2463.504966           1078840.0             1.340099   \n",
      "Vermont           2481.934778           1083198.0             1.336605   \n",
      "Vermont           2513.826366           1094855.0             1.319648   \n",
      "Vermont           2535.140844           1107296.0             1.308553   \n",
      "Vermont           2558.378433           1107296.0             1.302932   \n",
      "Vermont           2577.449282           1124215.0             1.293291   \n",
      "Vermont           2596.039353           1124215.0             1.284030   \n",
      "Vermont           2609.981907           1132778.0             1.295591   \n",
      "Vermont           2623.603942           1138317.0             1.288864   \n",
      "Vermont           2644.277383           1142260.0             1.278788   \n",
      "Vermont           2663.989269           1153835.0             1.275341   \n",
      "Vermont           2676.008712           1170887.0             1.281591   \n",
      "Vermont           2706.778485           1178093.0             1.267022   \n",
      "Vermont           2723.124927           1193774.0             1.259416   \n",
      "Vermont           2731.939185           1197118.0             1.261219   \n",
      "Vermont           2741.394480           1197954.0             1.268561   \n",
      "Vermont           2763.991032           1203609.0             1.258190   \n",
      "Vermont           2787.388880           1214526.0             1.247628   \n",
      "Vermont           2813.350876           1231862.0             1.247508   \n",
      "Vermont           2842.998835           1243565.0             1.234498   \n",
      "Vermont           2858.864499           1252179.0             1.227647   \n",
      "Vermont           2873.928867           1255480.0             1.226789   \n",
      "Vermont           2889.153495           1258372.0             1.231418   \n",
      "Vermont           2919.121972           1263878.0             1.224266   \n",
      "Vermont           2964.475335           1282792.0             1.210942   \n",
      "Vermont           2984.507740           1291820.0             1.202814   \n",
      "Vermont           3016.078809           1301488.0             1.195537   \n",
      "Vermont           3045.245990           1312879.0             1.184086   \n",
      "Vermont           3062.393728           1316669.0             1.177456   \n",
      "Vermont           3088.996761           1319118.0             1.177691   \n",
      "\n",
      "                 Testing_Rate  total_vaccinations  people_fully_vaccinated  \\\n",
      "Province_State                                                               \n",
      "Vermont         122970.917757             25757.0                      NaN   \n",
      "Vermont         123562.755113             29571.0                      NaN   \n",
      "Vermont         124870.470473             29571.0                      NaN   \n",
      "Vermont         126405.914207             32470.0                   4100.0   \n",
      "Vermont         127711.225679                 NaN                      NaN   \n",
      "Vermont         129011.729373                 NaN                      NaN   \n",
      "Vermont         129675.042349                 NaN                      NaN   \n",
      "Vermont         130347.650359             40581.0                   6114.0   \n",
      "Vermont         131168.337903             40814.0                   6167.0   \n",
      "Vermont         131875.401650             42835.0                   6545.0   \n",
      "Vermont         133666.939642             46447.0                   7954.0   \n",
      "Vermont         134818.241988             49426.0                   8877.0   \n",
      "Vermont         135897.107161             51872.0                   9853.0   \n",
      "Vermont         136789.430583             53624.0                  10195.0   \n",
      "Vermont         137636.080123             54416.0                  10349.0   \n",
      "Vermont         138275.033695             55377.0                  10806.0   \n",
      "Vermont         139577.300241             58871.0                  12418.0   \n",
      "Vermont         141257.618323             61737.0                  14168.0   \n",
      "Vermont         142578.955719             63777.0                  15213.0   \n",
      "Vermont         143808.785091             67180.0                  16491.0   \n",
      "Vermont         145647.279039             72428.0                  18338.0   \n",
      "Vermont         142009.073878             74021.0                  18903.0   \n",
      "Vermont         143361.020787             74718.0                  19237.0   \n",
      "Vermont         144754.635098             77198.0                  20843.0   \n",
      "Vermont         145515.065169             80054.0                  22483.0   \n",
      "Vermont         146988.328320             82992.0                  24212.0   \n",
      "Vermont         149121.378742             87180.0                  26162.0   \n",
      "Vermont         149729.081763             90328.0                  27144.0   \n",
      "Vermont         150215.789060             93037.0                  28010.0   \n",
      "Vermont         151008.431238             93862.0                  28122.0   \n",
      "...                       ...                 ...                      ...   \n",
      "Vermont         172894.073453            171557.0                  58448.0   \n",
      "Vermont         173592.483201            173179.0                  58977.0   \n",
      "Vermont         175460.625107            175767.0                  59938.0   \n",
      "Vermont         177454.410254            179580.0                  60708.0   \n",
      "Vermont         177454.410254            184327.0                  61961.0   \n",
      "Vermont         180165.836257            191529.0                  64474.0   \n",
      "Vermont         180165.836257            198741.0                  67485.0   \n",
      "Vermont         181538.136089            203900.0                  69148.0   \n",
      "Vermont         182425.811993            207110.0                  69928.0   \n",
      "Vermont         183057.714158            212062.0                  71639.0   \n",
      "Vermont         184912.714807            217495.0                  73038.0   \n",
      "Vermont         187645.455288            231610.0                  77757.0   \n",
      "Vermont         188800.283338            231610.0                  77769.0   \n",
      "Vermont         191313.308408            239136.0                  80189.0   \n",
      "Vermont         191849.215291            243777.0                  82273.0   \n",
      "Vermont         191983.192011            246663.0                  84148.0   \n",
      "Vermont         192889.457987            252439.0                  86222.0   \n",
      "Vermont         194639.008059            259165.0                  88186.0   \n",
      "Vermont         197417.262163            266120.0                  90314.0   \n",
      "Vermont         199292.775994            274187.0                  93226.0   \n",
      "Vermont         200673.249048            277420.0                  94166.0   \n",
      "Vermont         201202.264784            283052.0                  96754.0   \n",
      "Vermont         201665.734492            286384.0                  98352.0   \n",
      "Vermont         202548.121842            290680.0                  99990.0   \n",
      "Vermont         205579.265019            296682.0                 102707.0   \n",
      "Vermont         207026.085396            303242.0                 105283.0   \n",
      "Vermont         208575.471683            310003.0                 108611.0   \n",
      "Vermont         210400.984633            316145.0                 111151.0   \n",
      "Vermont         211008.367135            323388.0                 114662.0   \n",
      "Vermont         211400.842002            328451.0                 117656.0   \n",
      "\n",
      "                Increased Deaths  Increased Confirmed  Increased Recovered  \n",
      "Province_State                                                              \n",
      "Vermont                      158                 9247               6226.0  \n",
      "Vermont                        0                  121                 95.0  \n",
      "Vermont                        4                  205                 82.0  \n",
      "Vermont                        1                  161                103.0  \n",
      "Vermont                        0                  181                127.0  \n",
      "Vermont                        0                  142                 86.0  \n",
      "Vermont                        0                  163                106.0  \n",
      "Vermont                        0                  101                100.0  \n",
      "Vermont                        2                  150                 95.0  \n",
      "Vermont                        3                  109                 63.0  \n",
      "Vermont                        1                  179                 94.0  \n",
      "Vermont                        1                  149                117.0  \n",
      "Vermont                        0                  125                102.0  \n",
      "Vermont                        1                  132                 80.0  \n",
      "Vermont                        0                  120                 98.0  \n",
      "Vermont                        1                   94                122.0  \n",
      "Vermont                        0                  144                130.0  \n",
      "Vermont                        0                  135                100.0  \n",
      "Vermont                        1                  173                169.0  \n",
      "Vermont                        1                  134                159.0  \n",
      "Vermont                        1                  118                 14.0  \n",
      "Vermont                        1                  113                313.0  \n",
      "Vermont                        3                  133                178.0  \n",
      "Vermont                        2                  174                194.0  \n",
      "Vermont                        0                  109                173.0  \n",
      "Vermont                        1                  154                246.0  \n",
      "Vermont                        1                  134                156.0  \n",
      "Vermont                        0                  146                147.0  \n",
      "Vermont                        3                   59                191.0  \n",
      "Vermont                        1                   17                122.0  \n",
      "...                          ...                  ...                  ...  \n",
      "Vermont                        1                   88                133.0  \n",
      "Vermont                        1                  115                 83.0  \n",
      "Vermont                        0                  199                148.0  \n",
      "Vermont                        0                  133                155.0  \n",
      "Vermont                        1                  145                  0.0  \n",
      "Vermont                        0                  119                  NaN  \n",
      "Vermont                        0                  116                  NaN  \n",
      "Vermont                        3                   87                  NaN  \n",
      "Vermont                        0                   85                  NaN  \n",
      "Vermont                        0                  129                  NaN  \n",
      "Vermont                        1                  123                  NaN  \n",
      "Vermont                        2                   75                  NaN  \n",
      "Vermont                        0                  192                  NaN  \n",
      "Vermont                        0                  102                  NaN  \n",
      "Vermont                        1                   55                  NaN  \n",
      "Vermont                        2                   59                  NaN  \n",
      "Vermont                        0                  141                  NaN  \n",
      "Vermont                        0                  146                  NaN  \n",
      "Vermont                        2                  162                  NaN  \n",
      "Vermont                        0                  185                  NaN  \n",
      "Vermont                        0                   99                  NaN  \n",
      "Vermont                        1                   94                  NaN  \n",
      "Vermont                        2                   95                  NaN  \n",
      "Vermont                        1                  187                  NaN  \n",
      "Vermont                        1                  283                  NaN  \n",
      "Vermont                        0                  125                  NaN  \n",
      "Vermont                        1                  197                  NaN  \n",
      "Vermont                        0                  182                  NaN  \n",
      "Vermont                        0                  107                  NaN  \n",
      "Vermont                        2                  166                  NaN  \n",
      "\n"
     ]
    },
    {
     "name": "stdout",
     "output_type": "stream",
     "text": [
      "[79 rows x 14 columns]\n"
     ]
    }
   ],
   "source": [
    "deaths = data.loc['Vermont', 'Deaths'].values[:25]\n",
    "rcv = data.loc['Vermont', 'Recovered'].values[:25]\n",
    "ratio = deaths / (deaths+rcv+1)\n",
    "print(ratio)\n",
    "print(state_ratio_by_date['Vermont'].linear.weight)\n",
    "data.loc[data['Active']<0, 'Active'] = 0\n",
    "print(data.loc['Vermont'])"
   ]
  },
  {
   "cell_type": "code",
   "execution_count": null,
   "metadata": {},
   "outputs": [],
   "source": []
  }
 ],
 "metadata": {
  "kernelspec": {
   "display_name": "Python 3",
   "language": "python",
   "name": "python3"
  },
  "language_info": {
   "codemirror_mode": {
    "name": "ipython",
    "version": 3
   },
   "file_extension": ".py",
   "mimetype": "text/x-python",
   "name": "python",
   "nbconvert_exporter": "python",
   "pygments_lexer": "ipython3",
   "version": "3.7.0"
  }
 },
 "nbformat": 4,
 "nbformat_minor": 2
}
