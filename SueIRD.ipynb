{
 "cells": [
  {
   "cell_type": "code",
   "execution_count": 1,
   "metadata": {},
   "outputs": [],
   "source": [
    "import pandas as pd\n",
    "import numpy as np\n",
    "import torch\n",
    "import torch.nn as nn\n",
    "import matplotlib.pyplot as plt\n",
    "import math\n",
    "from scipy.integrate import solve_ivp\n",
    "from scipy.optimize import least_squares\n",
    "import copy\n",
    "from tqdm import tqdm"
   ]
  },
  {
   "cell_type": "code",
   "execution_count": 2,
   "metadata": {},
   "outputs": [
    {
     "name": "stdout",
     "output_type": "stream",
     "text": [
      "Index(['Date', 'Confirmed', 'Deaths', 'Recovered', 'Active', 'Incident_Rate',\n",
      "       'Total_Test_Results', 'Case_Fatality_Ratio', 'Testing_Rate'],\n",
      "      dtype='object')\n"
     ]
    }
   ],
   "source": [
    "#================================================\n",
    "# Load Data\n",
    "#=================================================\n",
    "raw_data_1 = pd.read_csv('./train_trendency.csv', index_col=['Province_State'])\n",
    "raw_data_1 = raw_data_1.drop('Unnamed: 0', axis=1)\n",
    "print(raw_data_1.columns)\n",
    "#cleaned_df = raw_data_1.dropna(axis=1)\n",
    "#raw_data_1 = raw_data_1.fillna(0)\n",
    "#print(cleaned_df.columns)    \n",
    "state_population = pd.read_csv('./State Populations.csv', index_col='State')\n",
    "\n",
    "#raw_data_2 = pd.read_csv('./train_vaccine.csv', index_col=['location', 'date'])\n",
    "#raw_data_2 = raw_data_2.drop('Unnamed: 0', axis=1)\n",
    "#print(raw_data_2)\n",
    "#cleaned_df_2 = raw_data_2.dropna(axis=1)\n",
    "#print(cleaned_df_2.columns)"
   ]
  },
  {
   "cell_type": "code",
   "execution_count": 3,
   "metadata": {},
   "outputs": [],
   "source": [
    "vaccine_data = pd.read_csv('train_vaccine.csv', index_col=['location'])\n",
    "vaccine_data['date'] = pd.to_datetime(vaccine_data['date'], format='%Y-%m-%d')\n",
    "vaccine_data['date'] = vaccine_data['date'].apply(lambda x: x.strftime('%m-%d-%Y'))\n",
    "vaccine_data = vaccine_data.set_index('date', append=True)\n",
    "#print(vaccine_data)\n",
    "vaccine_data = vaccine_data.drop('Unnamed: 0', axis=1)\n",
    "vaccine_data.rename(columns={'location':'Province_State', 'date':'Date'})\n",
    "#print(vaccine_data)\n",
    "#print(raw_data_1.shape)\n",
    "raw_data_1 = raw_data_1.join(vaccine_data, on=['Province_State', 'Date'])\n",
    "#print(raw_data_1['people_fully_vaccinated'].isna().sum())\n"
   ]
  },
  {
   "cell_type": "code",
   "execution_count": 4,
   "metadata": {},
   "outputs": [
    {
     "name": "stdout",
     "output_type": "stream",
     "text": [
      "[]\n",
      "South Carolina 25\n",
      "Indiana 37\n",
      "Pennsylvania 25\n",
      "Idaho 25\n",
      "Rhode Island 37\n",
      "Arkansas 25\n",
      "Kentucky 25\n",
      "North Carolina 37\n",
      "Texas 25\n",
      "Louisiana 25\n",
      "Iowa 25\n",
      "Wyoming 25\n",
      "Mississippi 25\n",
      "New Jersey 37\n",
      "New Mexico 25\n",
      "Virginia 37\n",
      "New York 37\n",
      "Wisconsin 25\n",
      "Michigan 25\n",
      "Vermont 25\n",
      "New Hampshire 25\n",
      "Oklahoma 25\n",
      "Maine 25\n",
      "Montana 25\n",
      "Ohio 25\n",
      "Utah 25\n",
      "Massachusetts 25\n",
      "South Dakota 25\n",
      "Minnesota 25\n",
      "North Dakota 25\n",
      "West Virginia 25\n",
      "Colorado 37\n",
      "Alabama 25\n",
      "Kansas 37\n",
      "Maryland 25\n",
      "Arizona 37\n",
      "Tennessee 25\n",
      "Nebraska 25\n",
      "['Illinois', 'Georgia', 'Florida', 'California', 'Missouri', 'Nevada', 'Washington', 'Connecticut', 'Oregon', 'Hawaii', 'Alaska', 'Delaware']\n"
     ]
    }
   ],
   "source": [
    "# Now I want to know which states have full recovered and active, which have some, and which have none\n",
    "state_full = []\n",
    "state_partial = []\n",
    "state_none = []\n",
    "States = list(set(raw_data_1.index.get_level_values('Province_State').values))\n",
    "for state in States:\n",
    "    # if we have recovered, then confirmed - death - recovered = active\n",
    "    # in some cases, we have active, confirmed, death but no recovered,\n",
    "    # I think in this situation, active may not be real active\n",
    "    recovered = raw_data_1.loc[state, 'Recovered']\n",
    "    if recovered.isna().all():\n",
    "        state_none.append(state)\n",
    "    elif recovered.isna().any():\n",
    "        state_partial.append((state, recovered.isna().sum(), recovered.isna()))\n",
    "    else:\n",
    "        state_full.append(state)\n",
    "\n",
    "threshold = 50\n",
    "true_state_partial = []\n",
    "for state, number, mask in state_partial:\n",
    "    if number > 37:\n",
    "        state_none.append(state)\n",
    "    else:\n",
    "        true_state_partial.append((state, number))\n",
    "\n",
    "print(state_full)\n",
    "for state, number in true_state_partial:\n",
    "    print(state, number)\n",
    "print(state_none)\n",
    "\n",
    "#raw_data_1['Recovered'] = raw_data_1['Confirmed'] - raw_data_1['Deaths'] - raw_data_1['Active']\n"
   ]
  },
  {
   "cell_type": "code",
   "execution_count": 5,
   "metadata": {},
   "outputs": [
    {
     "name": "stdout",
     "output_type": "stream",
     "text": [
      "finished inserting new columns\n"
     ]
    }
   ],
   "source": [
    "# First do some data cleaning, make \"Deaths\", \"Confirmed\", \"Active\" monotonically increase\n",
    "data = raw_data_1.copy(deep=True)\n",
    "for state in States:\n",
    "    for col in ['Deaths', 'Confirmed', 'Recovered', 'people_fully_vaccinated']:\n",
    "        values = data.loc[state, col].values\n",
    "        length = values.shape[0]\n",
    "        last_non_nan_value = values[0]\n",
    "        for i in range(1, length):\n",
    "            if not np.isnan(values[i]):\n",
    "                if values[i] < last_non_nan_value:\n",
    "                    values[i] = last_non_nan_value\n",
    "                last_non_nan_value = values[i]\n",
    "        data.loc[data.index==state,col] = values\n",
    "data['Active'] = data['Confirmed'] - data['Deaths'] - data['Recovered']\n",
    "    \n",
    "\n",
    "data['Increased Deaths'] = 0\n",
    "data['Increased Confirmed'] = 0\n",
    "data['Increased Recovered'] = 0\n",
    "for state in States:\n",
    "    inc_deaths = data.loc[state, 'Deaths'].values[1:] - data.loc[state, 'Deaths'].values[:-1]\n",
    "    inc_deaths = np.concatenate([[data.loc[state, 'Deaths'].values[0]], inc_deaths])\n",
    "    data.loc[data.index==state, 'Increased Deaths'] = inc_deaths\n",
    "    \n",
    "    inc_confirmed = data.loc[state, 'Confirmed'].values[1:] - data.loc[state, 'Confirmed'].values[:-1]\n",
    "    inc_confirmed = np.concatenate([[data.loc[state, 'Confirmed'].values[0]], inc_confirmed])\n",
    "    data.loc[data.index==state, 'Increased Confirmed'] = inc_confirmed\n",
    "    \n",
    "    inc_recovered = data.loc[state, 'Recovered'].values[1:] - data.loc[state, 'Recovered'].values[:-1]\n",
    "    inc_recovered = np.concatenate([[data.loc[state, 'Recovered'].values[0]], inc_recovered])\n",
    "    data.loc[data.index==state, 'Increased Recovered'] = inc_recovered\n",
    " \n",
    "print('finished inserting new columns')\n",
    "\n",
    "\n",
    "    \n",
    "    "
   ]
  },
  {
   "cell_type": "code",
   "execution_count": 6,
   "metadata": {},
   "outputs": [],
   "source": [
    "# Process States with weekly updated recovered data\n",
    "target_states = ['Mississippi', 'Michigan', 'Alabama', 'Louisiana', 'Massachusetts', 'North Carolina']\n",
    "for state in target_states:\n",
    "    #print(data.loc[state, 'Recovered'])\n",
    "    inc = data.loc[state, 'Increased Recovered'].values\n",
    "    i = 0\n",
    "    j = 0\n",
    "    while not np.isnan(inc[i]):\n",
    "        if inc[i] != 0:\n",
    "            if i == j:\n",
    "                i += 1\n",
    "                j += 1\n",
    "                continue\n",
    "            else:\n",
    "                cnt = i - j + 1\n",
    "                ave_inc = inc[i]/cnt\n",
    "                for k in range(j,i+1):\n",
    "                    inc[k] = ave_inc\n",
    "                j = i + 1\n",
    "                i += 1\n",
    "                continue\n",
    "        else:\n",
    "            # inc[i] == 0\n",
    "            i += 1\n",
    "    data.loc[data.index==state, 'Increased Recovered'] = inc\n",
    "    cum = np.cumsum(inc)\n",
    "    data.loc[data.index==state, 'Recovered'] = cum\n",
    "            "
   ]
  },
  {
   "cell_type": "code",
   "execution_count": 7,
   "metadata": {},
   "outputs": [
    {
     "name": "stderr",
     "output_type": "stream",
     "text": [
      "100%|██████████████████████████████████████████████████████████████████████████████████| 38/38 [02:40<00:00,  4.47s/it]\n"
     ]
    },
    {
     "name": "stdout",
     "output_type": "stream",
     "text": [
      "Finish\n",
      "Finish\n"
     ]
    }
   ],
   "source": [
    "# Since all the states have partial data, I want to use methods in \"Epidemic Model Guided Machine Learning for\n",
    "# COVID-19 Forecasts in the United States\" to estimate Recovered based on Deaths\n",
    "\n",
    "\n",
    "class RatioByDate(nn.Module):\n",
    "    def __init__(self):\n",
    "        super(RatioByDate, self).__init__()\n",
    "        self.linear = nn.Linear(1,1)\n",
    "        torch.nn.init.uniform_(self.linear.weight,-1, 0)\n",
    "        \n",
    "    def forward(self, x):\n",
    "        #return self.linear(x)\n",
    "        return torch.exp(self.linear(x))\n",
    "\n",
    "class RatioByDatePoly(nn.Module):\n",
    "    def __init__(self, order = 3):\n",
    "        super(RatioByDatePoly, self).__init__()\n",
    "        self.order = order\n",
    "        self.linear = nn.Linear(order+1,1, bias=False)\n",
    "#        torch.nn.init.uniform_(self.linear.weight,-1, 0)\n",
    "        \n",
    "    def forward(self, x):\n",
    "        x = x/100\n",
    "        return self.linear(torch.cat([x**i for i in range(self.order+1)], dim=-1))\n",
    "        \n",
    "    \n",
    "def train(model, x, y):\n",
    "    criterion = nn.L1Loss()\n",
    "    epochs = 10000\n",
    "    lr = 1e-4\n",
    "    #scale = torch.max(d)\n",
    "    #y = d / scale\n",
    "    optimizer = torch.optim.Adam(model.parameters(), lr = lr)\n",
    "    loss_list = []\n",
    "    for epoch in range(epochs):\n",
    "        optimizer.zero_grad()\n",
    "        model.train()\n",
    "        #pred = (r+d+1)*model(x) / scale\n",
    "        pred = model(x)\n",
    "        loss = criterion(pred, y)\n",
    "        reg_loss = torch.mean(torch.abs(model.linear.weight))\n",
    "        loss += 1*reg_loss\n",
    "        loss.backward()\n",
    "        loss_list.append(loss.item())\n",
    "        optimizer.step()\n",
    "    #plt.plot(list(range(epochs)), loss_list)\n",
    "    #print(model.linear.weight)\n",
    "        #with torch.no_grad():\n",
    "        #    model.linear.weight.copy_(torch.clamp(model.linear.weight, max = 0, min = math.log(min_ratio)/80))\n",
    "   # print(reg_loss)\n",
    "    \n",
    "# estimate a, b for states having enough recoverd, death data\n",
    "state_ratio_by_date = {}\n",
    "plot_cnt = 4\n",
    "plot_cur = 0\n",
    "\n",
    "data['Old Recovered'] = data['Recovered']\n",
    "\n",
    "for state, _ in tqdm(true_state_partial):\n",
    "    inc_deaths = data.loc[state, 'Increased Deaths'].values\n",
    "    inc_recovered = data.loc[state, 'Increased Recovered'].values\n",
    "    ratios = (inc_deaths[1:] + 1) / (inc_recovered[1:] + inc_deaths[1:] + 2)\n",
    "    date = np.array(list(range(1, inc_deaths.shape[0])))\n",
    "    \n",
    "    model = RatioByDatePoly(order = 1)\n",
    "    mask = (1 - np.isnan(ratios)).astype(np.bool_)\n",
    "    \n",
    "    x = torch.FloatTensor(date[mask]).view(-1,1)\n",
    "    #d = torch.FloatTensor(deaths[mask]).view(-1,1)\n",
    "    y = torch.FloatTensor(ratios[mask]).view(-1,1)\n",
    "    #r = torch.FloatTensor(recovered[mask]).view(-1,1)\n",
    "    train(model, x, y)\n",
    "    \n",
    "    #a, b = model.linear.weight[0,0].detach().item(), model.linear.bias[0].detach().item()\n",
    "    state_ratio_by_date[state] = model\n",
    " \n",
    "    pred_recovered = [inc_recovered[0]]\n",
    "    for t in date:\n",
    "        inc_death = inc_deaths[t]\n",
    "        #ratio = np.exp(a*t+b)\n",
    "        ratio = model(torch.FloatTensor([t])).item()\n",
    "        pred_inc_recovered = (inc_death+1) / ratio - 2 - inc_death\n",
    "        if pred_inc_recovered < 0:\n",
    "            pred_inc_recovered = 0\n",
    "        if np.isnan(inc_recovered[t]) == False:\n",
    "            recovered_t = pred_recovered[-1] + inc_recovered[t]\n",
    "        else:\n",
    "            recovered_t = pred_recovered[-1] + pred_inc_recovered\n",
    "        pred_recovered.append(recovered_t)\n",
    "    data.loc[data.index==state, 'Recovered'] = np.array(pred_recovered)\n",
    "    #print(data['Recovered'].loc[state])\n",
    "    #mask = np.array([False]+list(mask))\n",
    "    #error = np.abs(np.array(pred_recovered)[mask] - data.loc[state, 'Recovered'].values[mask])\n",
    "    #error = error / data.loc[state, 'Recovered'].values[mask]\n",
    "    #print(state)\n",
    "    #print(np.mean(error))\n",
    "    if False:\n",
    "        #pass\n",
    "        #print(state)\n",
    "        #print(inc_deaths)\n",
    "        #print(inc_recovered)\n",
    "        #print(data.loc[state, 'Deaths'])\n",
    "        #print(ratio)\n",
    "        #print(y.squeeze())\n",
    "        #pred = model(x).squeeze()\n",
    "        #print(pred)\n",
    "        #print(model.linear.weight)\n",
    "        #print(a, b)\n",
    "        date = np.array(list(range(0, inc_deaths.shape[0])))\n",
    "        plt.figure()\n",
    "        #plt.plot(x,y,c='blue')\n",
    "        #plt.plot(x,pred.detach(),c='red')\n",
    "        plt.plot(date, data.loc[state, 'Recovered'].values, c='blue')\n",
    "        plt.plot(date, np.array(pred_recovered), c='green')\n",
    "        plt.show()\n",
    "        plot_cur += 1\n",
    "            \n",
    "data['Active'] = data['Confirmed'] - data['Deaths'] - data['Recovered']\n",
    "print('Finish')\n",
    "\"\"\"\n",
    "\n",
    "for state, _ in tqdm(true_state_partial):\n",
    "    if state != 'Maine':\n",
    "        continue\n",
    "    deaths = data.loc[state, 'Deaths'].values\n",
    "    recovered = data.loc[state, 'Recovered'].values\n",
    "    ratios = deaths / (deaths + recovered + 1)\n",
    "    date = np.array(range(deaths.shape[0]))\n",
    "    \n",
    "    model = RatioByDatePoly(order = 1)\n",
    "    mask = ((1 - np.isnan(ratios)) * (ratios != 0)).astype(np.bool_)\n",
    "    \n",
    "    x = torch.FloatTensor(date[mask]).view(-1,1)\n",
    "    d = torch.FloatTensor(deaths[mask]).view(-1,1)\n",
    "    #y = torch.FloatTensor(ratios[mask]).view(-1,1)\n",
    "    r = torch.FloatTensor(recovered[mask]).view(-1,1)\n",
    "    min_ratio = torch.min(y).item()/5\n",
    "    train(model, x, r, d, min_ratio)\n",
    "    \n",
    "    #a, b = model.linear.weight[0,0].detach().item(), model.linear.bias[0].detach().item()\n",
    "    state_ratio_by_date[state] = model\n",
    " \n",
    "    pred_recovered = np.zeros_like(recovered)\n",
    "    error = np.zeros_like(mask).astype(np.float64)\n",
    "    preds = []\n",
    "    for t in date:\n",
    "        ratio = model(torch.FloatTensor([t])).item()\n",
    "        pred = (deaths[t] / ratio) - 1 - deaths[t]\n",
    "        if np.isnan(recovered[t]):\n",
    "            pred_recovered[t] = max(pred, pred_recovered[t-1])\n",
    "            #print(pred_recovered[t-1:t+1])\n",
    "        else:\n",
    "            pred_recovered[t] = recovered[t]\n",
    "            error[t] = np.abs(pred - recovered[t])\n",
    "            print(pred, recovered[t])\n",
    "            preds.append(pred)\n",
    "    plt.plot(range(len(preds)), preds, c='red')\n",
    "    plt.plot(range(len(preds)), recovered[:len(preds)], c='blue')\n",
    "    mask = np.array(list(mask))\n",
    "    \n",
    "    #print(np.mean(error))\n",
    "    if False:\n",
    "        date = np.array(list(range(0, inc_deaths.shape[0])))\n",
    "        plt.figure()\n",
    "        plt.plot(date, data.loc[state, 'Recovered'].values, c='blue')\n",
    "        plt.plot(date, np.array(pred_recovered), c='green')\n",
    "        plt.show()\n",
    "        plot_cur += 1\n",
    "\n",
    "data['Active'] = data['Confirmed'] - data['Deaths'] - data['Recovered']\n",
    "\"\"\"\n",
    "# set entries where active < 0 to 0, and recmopute recovered \n",
    "data.loc[data['Active']<0, 'Active'] = 0\n",
    "data['Recovered'] = data['Confirmed'] - data['Deaths'] - data['Active']\n",
    "print('Finish')"
   ]
  },
  {
   "cell_type": "code",
   "execution_count": 8,
   "metadata": {},
   "outputs": [],
   "source": [
    "# define ODE model\n",
    "def SuEIRD(t, y, N, beta, sigma, mu, gamma, alpha, eta):\n",
    "    # y[0] is S, y[1] is E, y[2] is I, y[3] is R(recovered), y[4] is D (deaths)\n",
    "    gradient = np.zeros_like(y)\n",
    "    gradient[0] = - beta * (y[2] + y[1]) * y[0] / N\n",
    "    gradient[1] = beta * (y[2] + y[1]) * y[0] / N - sigma * y[1]\n",
    "    gradient[2] =  mu * sigma * y[1] - gamma * y[2]\n",
    "    gradient[3] = gamma * np.exp(-eta - alpha*y[2]/N) * y[2]\n",
    "    gradient[4] = gamma * (1-np.exp(-eta - alpha*y[2]/N)) * y[2]\n",
    "    return gradient\n",
    "\n",
    "\n",
    "def SuEIRD_old(t, y, N, beta, sigma, mu, gamma, alpha):\n",
    "    # y[0] is S, y[1] is E, y[2] is I, y[3] is R(recovered), y[4] is D (deaths)\n",
    "    gradient = np.zeros_like(y)\n",
    "    gradient[0] = - beta * (y[2] + y[1]) * y[0] / N\n",
    "    gradient[1] = beta * (y[2] + y[1]) * y[0] / N - sigma * y[1]\n",
    "    gradient[2] =  mu * sigma * y[1] - gamma * y[2]\n",
    "    gradient[3] = gamma * alpha * y[2]\n",
    "    gradient[4] = gamma * (1-alpha) * y[2]\n",
    "    return gradient\n",
    "\n",
    "def predict_with_ODE(fun, t_span, y0, t_eval, args):\n",
    "    sol = solve_ivp(lambda t,y: fun(t,y,*args), t_span, y0, t_eval = t_eval, method='RK45')\n",
    "    return sol.y\n",
    "\n",
    "# not used\n",
    "def optimize_SuEIRD_parameters(beta0, sigma0, mu0, gamma0, alpha0, N0, I, R, D, t_span, y0, t_eval):\n",
    "    I_max = np.max(I)\n",
    "    R_max = np.max(R)\n",
    "    D_max = np.max(D)\n",
    "    scale_I = I / I_max\n",
    "    scale_R = R / R_max\n",
    "    scale_D = D / D_max\n",
    "   \n",
    "    def loss(x):\n",
    "        y = predict_with_ODE(SuEIRD, t_span, y0, t_eval, args = (N0, x[0], x[1], x[2], x[3], x[4]))\n",
    "        #print(y)\n",
    "        I_pred = y[2,:] / I_max\n",
    "        R_pred = y[3,:] / R_max\n",
    "        D_pred = y[4,:] / D_max\n",
    "        res = np.array(np.concatenate([I_pred-scale_I, R_pred - scale_R, D_pred - scale_D])).astype(np.float64)\n",
    "        return np.abs(res)\n",
    "    x0 = np.array([beta0, sigma0, mu0, gamma0, alpha0])\n",
    "    return least_squares(loss, x0, bounds = (0, 1))\n",
    "\n",
    "# used optimization function\n",
    "def optimize_SuEIRD_parameters_CD(beta0, sigma0, mu0, gamma0, alpha0, eta0, N0, I, R, C, D, t_span, y0, t_eval, mask):\n",
    "    \n",
    "    C_max = np.max(C)\n",
    "    D_max = np.max(D)\n",
    "    scale_C = C / C_max\n",
    "    scale_D = D / D_max\n",
    "    \n",
    "    if I is not None:\n",
    "        I_max = np.max(I[mask])\n",
    "        R_max = np.max(R[mask])\n",
    "        scale_R = R[mask] / R_max\n",
    "        scale_I = I[mask] / I_max\n",
    "        #print(scale_I)\n",
    "        #print(scale_R)\n",
    "    \n",
    "    def loss(x):\n",
    "        y = predict_with_ODE(SuEIRD, t_span, y0, t_eval, args = (N0, x[0], x[1], x[2], x[3], x[4], x[5]))\n",
    "        #print(y)\n",
    "        C_pred = (y[2,:]+y[3,:]+y[4,:])/C_max\n",
    "        D_pred = y[4,:] / D_max\n",
    "        if I is not None:\n",
    "            I_pred = y[2,mask] / I_max\n",
    "            R_pred = y[3,mask] / R_max\n",
    "            res = np.array(np.concatenate([C_pred-scale_C, D_pred - scale_D, \n",
    "                                       0.3*(R_pred-scale_R), 0.3*(I_pred-scale_I)])).astype(np.float64)\n",
    "        else:\n",
    "            res = np.array(np.concatenate([C_pred-scale_C, D_pred - scale_D])).astype(np.float64)\n",
    "        return np.abs(res)\n",
    "    x0 = np.array([beta0, sigma0, mu0, gamma0, alpha0, eta0])\n",
    "    return least_squares(loss, x0, bounds = (0, [1,1,1,1, np.inf, np.inf]), jac='3-point')\n",
    "\n",
    "# not used\n",
    "def optimize_SuEIRD_parameters_CD_old(beta0, sigma0, mu0, gamma0, alpha0, N0, I, R, C, D, t_span, y0, t_eval, mask):\n",
    "    \n",
    "    C_max = np.max(C)\n",
    "    D_max = np.max(D)\n",
    "    scale_C = C / C_max\n",
    "    scale_D = D / D_max\n",
    "    \n",
    "    if I is not None:\n",
    "        I_max = np.max(I[mask])\n",
    "        R_max = np.max(R[mask])\n",
    "        scale_R = R[mask] / R_max\n",
    "        scale_I = I[mask] / I_max\n",
    "        #print(scale_I)\n",
    "        #print(scale_R)\n",
    "    \n",
    "    def loss(x):\n",
    "        y = predict_with_ODE(SuEIRD, t_span, y0, t_eval, args = (N0, x[0], x[1], x[2], x[3], x[4]))\n",
    "        #print(y)\n",
    "        C_pred = (y[2,:]+y[3,:]+y[4,:])/C_max\n",
    "        D_pred = y[4,:] / D_max\n",
    "        if I is not None:\n",
    "            I_pred = y[2,mask] / I_max\n",
    "            R_pred = y[3,mask] / R_max\n",
    "            res = np.array(np.concatenate([C_pred-scale_C, D_pred - scale_D, \n",
    "                                       0.3*(R_pred-scale_R), 0.3*(I_pred-scale_I)])).astype(np.float64)\n",
    "        else:\n",
    "            res = np.array(np.concatenate([C_pred-scale_C, D_pred - scale_D])).astype(np.float64)\n",
    "        return np.abs(res)\n",
    "    x0 = np.array([beta0, sigma0, mu0, gamma0, alpha0, eta0, pi0])\n",
    "    return least_squares(loss, x0, bounds = (0, 1), jac='3-point')"
   ]
  },
  {
   "cell_type": "code",
   "execution_count": 9,
   "metadata": {
    "scrolled": true
   },
   "outputs": [
    {
     "name": "stderr",
     "output_type": "stream",
     "text": [
      "  0%|                                                                                           | 0/38 [00:00<?, ?it/s]"
     ]
    },
    {
     "name": "stdout",
     "output_type": "stream",
     "text": [
      "South Carolina (0.9, 0.2) 0.1196259652932733\n"
     ]
    },
    {
     "name": "stderr",
     "output_type": "stream",
     "text": [
      "  3%|██▏                                                                                | 1/38 [00:37<23:25, 37.99s/it]"
     ]
    },
    {
     "name": "stdout",
     "output_type": "stream",
     "text": [
      "Indiana (0.8, 0.1) 0.06039941238270579\n"
     ]
    },
    {
     "name": "stderr",
     "output_type": "stream",
     "text": [
      "  5%|████▎                                                                              | 2/38 [01:10<21:44, 36.23s/it]"
     ]
    },
    {
     "name": "stdout",
     "output_type": "stream",
     "text": [
      "Pennsylvania (0.8, 0.4) 0.0361739386120855\n"
     ]
    },
    {
     "name": "stderr",
     "output_type": "stream",
     "text": [
      "  8%|██████▌                                                                            | 3/38 [01:29<18:11, 31.17s/it]"
     ]
    },
    {
     "name": "stdout",
     "output_type": "stream",
     "text": [
      "Idaho (1, 0.1) 0.03850440359912291\n"
     ]
    },
    {
     "name": "stderr",
     "output_type": "stream",
     "text": [
      " 11%|████████▋                                                                          | 4/38 [02:05<18:31, 32.70s/it]"
     ]
    },
    {
     "name": "stdout",
     "output_type": "stream",
     "text": [
      "Rhode Island (0.8, 0.1) 0.08150366390538547\n"
     ]
    },
    {
     "name": "stderr",
     "output_type": "stream",
     "text": [
      " 13%|██████████▉                                                                        | 5/38 [02:24<15:36, 28.39s/it]"
     ]
    },
    {
     "name": "stdout",
     "output_type": "stream",
     "text": [
      "Arkansas (0.7, 0.5) 0.019167160466097698\n"
     ]
    },
    {
     "name": "stderr",
     "output_type": "stream",
     "text": [
      " 16%|█████████████                                                                      | 6/38 [02:52<15:13, 28.54s/it]"
     ]
    },
    {
     "name": "stdout",
     "output_type": "stream",
     "text": [
      "Kentucky (0.9, 0.2) 0.04000100201238581\n"
     ]
    },
    {
     "name": "stderr",
     "output_type": "stream",
     "text": [
      " 18%|███████████████▎                                                                   | 7/38 [03:18<14:14, 27.57s/it]"
     ]
    },
    {
     "name": "stdout",
     "output_type": "stream",
     "text": [
      "North Carolina (0.7, 0.5) 0.014115035109649888\n"
     ]
    },
    {
     "name": "stderr",
     "output_type": "stream",
     "text": [
      " 21%|█████████████████▍                                                                 | 8/38 [03:32<11:48, 23.61s/it]"
     ]
    },
    {
     "name": "stdout",
     "output_type": "stream",
     "text": [
      "Texas (0.9, 0.5) 0.03927183447361235\n"
     ]
    },
    {
     "name": "stderr",
     "output_type": "stream",
     "text": [
      " 24%|███████████████████▋                                                               | 9/38 [03:48<10:16, 21.25s/it]"
     ]
    },
    {
     "name": "stdout",
     "output_type": "stream",
     "text": [
      "Louisiana (0.7, 0.5) 0.035343459405580965\n"
     ]
    },
    {
     "name": "stderr",
     "output_type": "stream",
     "text": [
      " 26%|█████████████████████▌                                                            | 10/38 [04:15<10:47, 23.13s/it]"
     ]
    },
    {
     "name": "stdout",
     "output_type": "stream",
     "text": [
      "Iowa (0.8, 0.3) 0.024404822523721028\n"
     ]
    },
    {
     "name": "stderr",
     "output_type": "stream",
     "text": [
      " 29%|███████████████████████▋                                                          | 11/38 [04:34<09:45, 21.67s/it]"
     ]
    },
    {
     "name": "stdout",
     "output_type": "stream",
     "text": [
      "Wyoming (1, 0.2) 0.007978008237602485\n"
     ]
    },
    {
     "name": "stderr",
     "output_type": "stream",
     "text": [
      " 32%|█████████████████████████▉                                                        | 12/38 [04:55<09:17, 21.44s/it]"
     ]
    },
    {
     "name": "stdout",
     "output_type": "stream",
     "text": [
      "Mississippi (1, 0.2) 0.044235662264682014\n"
     ]
    },
    {
     "name": "stderr",
     "output_type": "stream",
     "text": [
      " 34%|████████████████████████████                                                      | 13/38 [05:18<09:13, 22.16s/it]"
     ]
    },
    {
     "name": "stdout",
     "output_type": "stream",
     "text": [
      "New Jersey (1, 0.1) 0.06072895661807962\n"
     ]
    },
    {
     "name": "stderr",
     "output_type": "stream",
     "text": [
      " 37%|██████████████████████████████▏                                                   | 14/38 [06:05<11:44, 29.34s/it]"
     ]
    },
    {
     "name": "stdout",
     "output_type": "stream",
     "text": [
      "New Mexico (0.8, 0.4) 0.029993109119990063\n"
     ]
    },
    {
     "name": "stderr",
     "output_type": "stream",
     "text": [
      " 39%|████████████████████████████████▎                                                 | 15/38 [06:23<10:02, 26.19s/it]"
     ]
    },
    {
     "name": "stdout",
     "output_type": "stream",
     "text": [
      "Virginia (1, 0.3) 0.05953099679328899\n"
     ]
    },
    {
     "name": "stderr",
     "output_type": "stream",
     "text": [
      " 42%|██████████████████████████████████▌                                               | 16/38 [06:47<09:16, 25.30s/it]"
     ]
    },
    {
     "name": "stdout",
     "output_type": "stream",
     "text": [
      "New York (1, 0.1) 0.06448333243809021\n"
     ]
    },
    {
     "name": "stderr",
     "output_type": "stream",
     "text": [
      " 45%|████████████████████████████████████▋                                             | 17/38 [07:30<10:45, 30.73s/it]"
     ]
    },
    {
     "name": "stdout",
     "output_type": "stream",
     "text": [
      "Wisconsin (1, 0.1) 0.04485512122035259\n"
     ]
    },
    {
     "name": "stderr",
     "output_type": "stream",
     "text": [
      " 47%|██████████████████████████████████████▊                                           | 18/38 [08:01<10:16, 30.81s/it]"
     ]
    },
    {
     "name": "stdout",
     "output_type": "stream",
     "text": [
      "Michigan (0.9, 0.1) 0.02665654891050193\n"
     ]
    },
    {
     "name": "stderr",
     "output_type": "stream",
     "text": [
      " 50%|█████████████████████████████████████████                                         | 19/38 [09:28<15:04, 47.62s/it]"
     ]
    },
    {
     "name": "stdout",
     "output_type": "stream",
     "text": [
      "Vermont (1, 0.1) 0.07912256484706903\n"
     ]
    },
    {
     "name": "stderr",
     "output_type": "stream",
     "text": [
      " 53%|███████████████████████████████████████████▏                                      | 20/38 [10:34<15:57, 53.22s/it]"
     ]
    },
    {
     "name": "stdout",
     "output_type": "stream",
     "text": [
      "New Hampshire (0.9, 0.3) 0.03290745829980416\n"
     ]
    },
    {
     "name": "stderr",
     "output_type": "stream",
     "text": [
      " 55%|█████████████████████████████████████████████▎                                    | 21/38 [11:08<13:28, 47.54s/it]"
     ]
    },
    {
     "name": "stdout",
     "output_type": "stream",
     "text": [
      "Oklahoma (1, 0.1) 0.04925867861028491\n"
     ]
    },
    {
     "name": "stderr",
     "output_type": "stream",
     "text": [
      " 58%|███████████████████████████████████████████████▍                                  | 22/38 [11:40<11:22, 42.68s/it]"
     ]
    },
    {
     "name": "stdout",
     "output_type": "stream",
     "text": [
      "Maine (1, 0.1) 0.20604298733537657\n"
     ]
    },
    {
     "name": "stderr",
     "output_type": "stream",
     "text": [
      " 61%|█████████████████████████████████████████████████▋                                | 23/38 [12:21<10:34, 42.28s/it]"
     ]
    },
    {
     "name": "stdout",
     "output_type": "stream",
     "text": [
      "Montana (1, 0.4) 0.02217870213563597\n"
     ]
    },
    {
     "name": "stderr",
     "output_type": "stream",
     "text": [
      " 63%|███████████████████████████████████████████████████▊                              | 24/38 [13:23<11:14, 48.21s/it]"
     ]
    },
    {
     "name": "stdout",
     "output_type": "stream",
     "text": [
      "Ohio (0.9, 0.2) 0.0259825299663443\n"
     ]
    },
    {
     "name": "stderr",
     "output_type": "stream",
     "text": [
      " 66%|█████████████████████████████████████████████████████▉                            | 25/38 [14:30<11:40, 53.90s/it]"
     ]
    },
    {
     "name": "stdout",
     "output_type": "stream",
     "text": [
      "Utah (1, 0.1) 0.06617644142966303\n"
     ]
    },
    {
     "name": "stderr",
     "output_type": "stream",
     "text": [
      " 68%|████████████████████████████████████████████████████████                          | 26/38 [15:19<10:29, 52.46s/it]"
     ]
    },
    {
     "name": "stdout",
     "output_type": "stream",
     "text": [
      "Massachusetts (1, 0.1) 0.022982096155496963\n"
     ]
    },
    {
     "name": "stderr",
     "output_type": "stream",
     "text": [
      " 71%|██████████████████████████████████████████████████████████▎                       | 27/38 [16:27<10:27, 57.03s/it]"
     ]
    },
    {
     "name": "stdout",
     "output_type": "stream",
     "text": [
      "South Dakota (0.8, 0.3) 0.015006715861738166\n"
     ]
    },
    {
     "name": "stderr",
     "output_type": "stream",
     "text": [
      " 74%|████████████████████████████████████████████████████████████▍                     | 28/38 [17:18<09:11, 55.16s/it]"
     ]
    },
    {
     "name": "stdout",
     "output_type": "stream",
     "text": [
      "Minnesota (0.8, 0.1) 0.03322209944824772\n"
     ]
    },
    {
     "name": "stderr",
     "output_type": "stream",
     "text": [
      " 76%|██████████████████████████████████████████████████████████████▌                   | 29/38 [18:37<09:22, 62.49s/it]"
     ]
    },
    {
     "name": "stdout",
     "output_type": "stream",
     "text": [
      "North Dakota (1, 0.5) 0.00694757447708156\n"
     ]
    },
    {
     "name": "stderr",
     "output_type": "stream",
     "text": [
      " 79%|████████████████████████████████████████████████████████████████▋                 | 30/38 [20:13<09:39, 72.50s/it]"
     ]
    },
    {
     "name": "stdout",
     "output_type": "stream",
     "text": [
      "West Virginia (1, 0.3) 0.09449678466950366\n"
     ]
    },
    {
     "name": "stderr",
     "output_type": "stream",
     "text": [
      " 82%|██████████████████████████████████████████████████████████████████▉               | 31/38 [20:54<07:21, 63.05s/it]"
     ]
    },
    {
     "name": "stdout",
     "output_type": "stream",
     "text": [
      "Colorado (1, 0.1) 0.06076671207257014\n"
     ]
    },
    {
     "name": "stderr",
     "output_type": "stream",
     "text": [
      " 84%|█████████████████████████████████████████████████████████████████████             | 32/38 [21:44<05:54, 59.09s/it]"
     ]
    },
    {
     "name": "stdout",
     "output_type": "stream",
     "text": [
      "Alabama (1, 0.1) 0.12807332429803453\n"
     ]
    },
    {
     "name": "stderr",
     "output_type": "stream",
     "text": [
      " 87%|███████████████████████████████████████████████████████████████████████▏          | 33/38 [22:33<04:40, 56.12s/it]"
     ]
    },
    {
     "name": "stdout",
     "output_type": "stream",
     "text": [
      "Kansas (1, 0.4) 0.1188932803667943\n"
     ]
    },
    {
     "name": "stderr",
     "output_type": "stream",
     "text": [
      " 89%|█████████████████████████████████████████████████████████████████████████▎        | 34/38 [23:37<03:53, 58.34s/it]"
     ]
    },
    {
     "name": "stdout",
     "output_type": "stream",
     "text": [
      "Maryland (1, 0.1) 0.08600945602941226\n"
     ]
    },
    {
     "name": "stderr",
     "output_type": "stream",
     "text": [
      " 92%|███████████████████████████████████████████████████████████████████████████▌      | 35/38 [24:53<03:10, 63.66s/it]"
     ]
    },
    {
     "name": "stdout",
     "output_type": "stream",
     "text": [
      "Arizona (1, 0.1) 0.14137768398273404\n"
     ]
    },
    {
     "name": "stderr",
     "output_type": "stream",
     "text": [
      " 95%|█████████████████████████████████████████████████████████████████████████████▋    | 36/38 [25:35<01:54, 57.19s/it]"
     ]
    },
    {
     "name": "stdout",
     "output_type": "stream",
     "text": [
      "Tennessee (0.7, 0.5) 0.01193449850365158\n"
     ]
    },
    {
     "name": "stderr",
     "output_type": "stream",
     "text": [
      " 97%|███████████████████████████████████████████████████████████████████████████████▊  | 37/38 [26:08<00:49, 49.93s/it]"
     ]
    },
    {
     "name": "stdout",
     "output_type": "stream",
     "text": [
      "Nebraska (0.8, 0.5) 0.01689483048968993\n"
     ]
    },
    {
     "name": "stderr",
     "output_type": "stream",
     "text": [
      "100%|██████████████████████████████████████████████████████████████████████████████████| 38/38 [26:50<00:00, 47.64s/it]\n"
     ]
    },
    {
     "name": "stdout",
     "output_type": "stream",
     "text": [
      "0.054348601378035294\n"
     ]
    }
   ],
   "source": [
    "# training states with partial recovered and active data\n",
    "\n",
    "N0_ratio_list = [0.7, 0.8, 0.9, 1]\n",
    "E0_ratio_list = [0.1, 0.2, 0.3, 0.4, 0.5]\n",
    "\n",
    "\n",
    "best_ratio = {}\n",
    "state_params = {}\n",
    "best_mape_list = []\n",
    "valid_cnt = 28\n",
    "for state, _ in tqdm(true_state_partial):\n",
    "    best_mape = 10\n",
    "    for N0_ratio in N0_ratio_list:\n",
    "        for E0_ratio in E0_ratio_list:\n",
    "            # split training and validation set\n",
    "            values = data.loc[state].values\n",
    "            training_data = values[:-valid_cnt,:]\n",
    "            valid_data = values[-valid_cnt:,:]\n",
    "    \n",
    "            # set y0\n",
    "            I0 = values[0,4] # Active\n",
    "            R0 = values[0,3] # Recovered\n",
    "            D0 = values[0,2]\n",
    "            N0 = N0_ratio * state_population.loc[state].values[0]\n",
    "            E0 = E0_ratio * state_population.loc[state].values[0]\n",
    "            S0 = N0 - E0 - I0 - R0 - D0\n",
    "            if S0 < 0 and N0_ratio_list == 1:\n",
    "                print(state)\n",
    "                print('Warning E0: %.3f'%(E0_ratio))\n",
    "            y0 = np.array([S0, E0, I0, R0, D0])\n",
    "    \n",
    "            # set initial values for parameters\n",
    "            x0 = np.random.rand(6)\n",
    "    \n",
    "            # set t_span, t_eval\n",
    "            t_span = (0, training_data.shape[0]-1)\n",
    "            t_eval = np.array(list(range(training_data.shape[0]))).astype(np.float64)\n",
    "    \n",
    "            # retrieve I, R\n",
    "            I = training_data[:,4]\n",
    "            R = training_data[:,3]\n",
    "            C = training_data[:,1]\n",
    "            D = training_data[:,2]\n",
    "            mask = ~data.loc[state, 'Old Recovered'].isna()\n",
    "            mask = mask[:-valid_cnt]\n",
    "            #mask = [True for i in range(I.shape[0])]\n",
    "            #date = np.array(range(values.shape[0])).astype(np.float64)\n",
    "            #ratios = state_ratio_by_date[state](torch.FloatTensor(date).view(-1,1))\n",
    "            #ratios = ratios.detach().numpy().squeeze()\n",
    "            \n",
    "    \n",
    "            res = optimize_SuEIRD_parameters_CD(x0[0], x0[1], x0[2], x0[3], x0[4], x0[5], N0, I, R, C, D, t_span, y0, t_eval, mask)\n",
    "    \n",
    "            # predict with learned parameters and compute MAPE on validation dataset\n",
    "            pred = predict_with_ODE(SuEIRD, (0, values.shape[0]), y0, t_eval = np.array(range(values.shape[0])).astype(np.float64), \n",
    "                                   args = (N0, res.x[0], res.x[1], res.x[2], res.x[3], res.x[4], res.x[5]))\n",
    "            pred_valid = pred[2,-valid_cnt:] + pred[3,-valid_cnt:] + pred[4,-valid_cnt:]\n",
    "            pred_death_ = pred[4,-valid_cnt:]\n",
    "            death_valid = valid_data[:,2]\n",
    "            \n",
    "            mape = np.mean(np.abs(valid_data[:,1]-pred_valid) / valid_data[:,1]) +\\\n",
    "                            np.mean(np.abs(pred_death_-death_valid)/death_valid)\n",
    "            \n",
    "            if mape < best_mape:\n",
    "                best_mape = mape    \n",
    "                best_ratio[state] = (N0_ratio, E0_ratio)\n",
    "                state_params[state] = copy.deepcopy(res)\n",
    "    # use best ratio to retrain model with whole training data\n",
    "    N0_ratio, E0_ratio = best_ratio[state][0], best_ratio[state][1]\n",
    "    I0 = values[0,4] # Active\n",
    "    R0 = values[0,3] # Recovered\n",
    "    D0 = values[0,2]\n",
    "    N0 = N0_ratio * state_population.loc[state].values[0]\n",
    "    E0 = E0_ratio * state_population.loc[state].values[0]\n",
    "    S0 = N0 - E0 - I0 - R0 - D0\n",
    "    y0 = np.array([S0, E0, I0, R0, D0])\n",
    "    x0 = state_params[state].x\n",
    "    I = values[:,4]\n",
    "    R = values[:,3]\n",
    "    C = values[:,1]\n",
    "    D = values[:,2]\n",
    "    mask = ~data.loc[state, 'Old Recovered'].isna()\n",
    "    t_span = (0, values.shape[0]-1)\n",
    "    t_eval = np.array(range(values.shape[0])).astype(np.float64)\n",
    "    res = optimize_SuEIRD_parameters_CD(x0[0], x0[1], x0[2], x0[3], x0[4], x0[5], N0, I, R, C, D, t_span, y0, t_eval, mask)\n",
    "    best_mape_list.append(best_mape) \n",
    "    print(state, best_ratio[state], best_mape)\n",
    "print(np.mean(best_mape_list))"
   ]
  },
  {
   "cell_type": "code",
   "execution_count": 16,
   "metadata": {},
   "outputs": [
    {
     "name": "stdout",
     "output_type": "stream",
     "text": [
      "Finish\n"
     ]
    }
   ],
   "source": [
    "# predict\n",
    "pred_cfm = {}\n",
    "pred_death = {}\n",
    "for state, _ in true_state_partial:\n",
    "    #print(state)\n",
    "    # split training and validation set\n",
    "    values = data.loc[state].values\n",
    "    training_data = values[:,:]\n",
    "#    valid_data = values[-7:,:]\n",
    "    N0_ratio, E0_ratio = best_ratio[state]\n",
    "    # set y0\n",
    "    I0 = values[0,4] # Active\n",
    "    R0 = values[0,3] # Recovered + Death\n",
    "    D0 = values[0,2]\n",
    "    N0 = N0_ratio * state_population.loc[state].values[0]\n",
    "    E0 = E0_ratio * state_population.loc[state].values[0]\n",
    "    S0 = N0 - E0 - I0 - R0 - D0\n",
    "    y0 = np.array([S0, E0, I0, R0, D0])\n",
    "    \n",
    "    # set initial values for parameters\n",
    "    #x0 = np.random.rand(4)\n",
    "    \n",
    "    # set t_span, t_eval\n",
    "    t_span = (0, values.shape[0]+30)\n",
    "    t_eval = np.array(range(values.shape[0]+30)).astype(np.float64)\n",
    "    res = state_params[state]\n",
    "    pred = predict_with_ODE(SuEIRD, t_span, y0, t_eval = t_eval, \n",
    "                           args = (N0, res.x[0], res.x[1], res.x[2], res.x[3], res.x[4], res.x[5]))\n",
    "    \n",
    "    \n",
    "    new_S0, new_E0 = pred[0, values.shape[0]-1], pred[1, values.shape[0]-1]\n",
    "    new_R0 = pred[3, values.shape[0]-1]\n",
    "    new_I0 = values[78,1] - new_R0 - values[78, 2]\n",
    "    \n",
    "    t_span = (0, 31)\n",
    "    t_eval = np.array(range(31)).astype(np.float64)\n",
    "    \n",
    "    y0 = np.array([new_S0, new_E0, new_I0, new_R0, values[78,2]])\n",
    "    #err = N0 - np.sum(y0)\n",
    "    #y0[]\n",
    "    #y0[1] += err/2\n",
    "    pred = predict_with_ODE(SuEIRD, t_span, y0, t_eval = t_eval, \n",
    "                           args = (N0, res.x[0], res.x[1], res.x[2], res.x[3], res.x[4], res.x[5]))\n",
    "    pred_cfm[state] = pred[2,1:31] + pred[3,1:31] + pred[4,1:31]\n",
    "    #print(death.shape)\n",
    "    #break\n",
    "    pred_death[state] = pred[4,1:31]\n",
    "    \n",
    "    #pred_cfm[state] = pred[2,-30:] + pred[3,-30:] + pred[4,-30:]\n",
    "    #pred_death[state] = pred[4,-30:]\n",
    "print('Finish')"
   ]
  },
  {
   "cell_type": "code",
   "execution_count": 18,
   "metadata": {},
   "outputs": [
    {
     "name": "stdout",
     "output_type": "stream",
     "text": [
      "0.9105263157894737 0.24473684210526303\n"
     ]
    }
   ],
   "source": [
    "best_ratio_value = np.array(list(best_ratio.values()))\n",
    "N0_E0_ratio = np.mean(best_ratio_value, axis=0)\n",
    "#print(N0_E0_ratio)\n",
    "N0_ratio, E0_ratio = N0_E0_ratio[0], N0_E0_ratio[1]\n",
    "print(N0_ratio, E0_ratio)"
   ]
  },
  {
   "cell_type": "code",
   "execution_count": null,
   "metadata": {},
   "outputs": [
    {
     "name": "stderr",
     "output_type": "stream",
     "text": [
      "  0%|                                                                                           | 0/12 [00:00<?, ?it/s]"
     ]
    }
   ],
   "source": [
    "# Now process states without any recovered data\n",
    "a_list = [-0.5, -0.4, -0.3, -0.2, -0.1, 0, 0.1, 0.2, 0.3, 0.4, 0.5]\n",
    "b_list = [0.1, 0.2, 0.3, 0.4, 0.5, 0.6, 0.7, 0.8, 0.9, 1]\n",
    "\n",
    "def predictRatio(t, a, b):\n",
    "    t = t/100\n",
    "    return a * t + b\n",
    "\n",
    "train_date = 51\n",
    "valid_date = 79\n",
    "total_date = 109\n",
    "\n",
    "for state in tqdm(state_none):\n",
    "    # Try to predict Recovered Data\n",
    "    best_params = None\n",
    "    best_mape = 100\n",
    "    death = data.loc[state, 'Deaths'].values\n",
    "    confirmed = data.loc[state, 'Confirmed'].values\n",
    "    for a in a_list:\n",
    "        for b in b_list:\n",
    "            t = np.array(range(0, total_date)).astype(np.float64)\n",
    "            ratio = predictRatio(t, a, b)\n",
    "            if np.sum(ratio <= 0) > 0:\n",
    "                continue\n",
    "            #print(ratio)\n",
    "            removed = death / ratio[:valid_date] - 1\n",
    "            active =  confirmed - removed\n",
    "            \n",
    "            I0 = active[0]\n",
    "            R0 = removed[0] - death[0]\n",
    "            D0 = death[0]\n",
    "            N0 = N0_ratio * state_population.loc[state].values[0]\n",
    "            E0 = E0_ratio * state_population.loc[state].values[0]\n",
    "            S0 = N0 - E0 - I0 - R0 - D0\n",
    "            y0 = np.array([S0, E0, I0, R0, D0])\n",
    "            #print(ratio)\n",
    "            #print(y0)\n",
    "            #print(N0)\n",
    "            x0 = np.random.rand(6)\n",
    "            \n",
    "            t_span = (0, train_date)\n",
    "            t_eval = np.array(range(0, train_date)).astype(np.float64)\n",
    "            \n",
    "            I = active[:train_date]\n",
    "            R = removed[:train_date] - death[:train_date]\n",
    "            C = confirmed[:train_date]\n",
    "            D = death[:train_date]\n",
    "            \n",
    "            #print(I)\n",
    "            #print(R)\n",
    "            \n",
    "            res = optimize_SuEIRD_parameters_CD(x0[0], x0[1], x0[2], x0[3], x0[4], x0[5], \n",
    "                                                N0, None, None, C, D, t_span, y0, t_eval, None)\n",
    "            \n",
    "            pred = predict_with_ODE(SuEIRD, (0, valid_date), y0, t_eval = np.array(range(valid_date)).astype(np.float64), \n",
    "                           args = (N0, res.x[0], res.x[1], res.x[2], res.x[3], res.x[4], res.x[5]))\n",
    "            pred_valid = pred[2,train_date:] + pred[3,train_date:] + pred[4,train_date:]\n",
    "            valid_data = data.loc[state, 'Confirmed'].values[train_date:]\n",
    "            \n",
    "            pred_death_ = pred[4,train_date:]\n",
    "            valid_death = death[train_date:]\n",
    "            mape = np.mean(np.abs(valid_data-pred_valid) / valid_data) + np.mean(np.abs(valid_death-pred_death_)/valid_death)\n",
    "            if mape < best_mape:\n",
    "                best_mape = mape\n",
    "                best_params = (a, b, N0, res.x[0], res.x[1], res.x[2], res.x[3], res.x[4], res.x[5])\n",
    "    print(state, best_mape)\n",
    "    ratio = predictRatio(0, best_params[0], best_params[1])\n",
    "    R0 = death[0]/ratio - 1 - death[0]\n",
    "    D0 = death[0]\n",
    "    I0 = confirmed[0] - R0 - D0\n",
    "    N0 = N0_ratio * state_population.loc[state].values[0]\n",
    "    E0 = E0_ratio * state_population.loc[state].values[0]\n",
    "    S0 = N0 - E0 - I0 - R0 - D0\n",
    "    y0 = np.array([S0, E0, I0, R0, D0])\n",
    "    \n",
    "    C = confirmed[:valid_date]\n",
    "    D = death[:valid_date]\n",
    "    \n",
    "    # retrain model with whole training data\n",
    "    x0 = best_params[-6:]\n",
    "    t_span = (0, valid_date)\n",
    "    t_eval = np.array(range(0, valid_date)).astype(np.float64)\n",
    "    res = optimize_SuEIRD_parameters_CD(x0[0], x0[1], x0[2], x0[3], x0[4], x0[5], N0, None, None, C, D, t_span, y0, t_eval, None)\n",
    "    \n",
    "    # use best parameters to predict\n",
    "    best_params = (best_params[0], best_params[1], N0, res.x[0], res.x[1], res.x[2], res.x[3], res.x[4], res.x[5])\n",
    "    state_params[state] = best_params\n",
    "    pred = predict_with_ODE(SuEIRD, (0, total_date), y0, t_eval = np.array(range(total_date)).astype(np.float64), \n",
    "                            args = best_params[-7:])\n",
    "    \n",
    "    #new_S0, new_E0 = pred[0, valid_date-1], pred[1, valid_date-1]\n",
    "    #t_span = (0, total_date - valid_date)\n",
    "    #t_eval = np.array(range(31)).astype(np.float64)\n",
    "    #ratio = predictRatio(valid_date-1, best_params[0], best_params[1])\n",
    "    #new_R0 = death[valid_date-1]/ratio - 1 - death[valid_date-1]\n",
    "    \n",
    "    # retrieve I, R\n",
    "    #I = training_data[:,4]\n",
    "    #R = training_data[:,2] + training_data[:,3]\n",
    "    \n",
    "    #res = optimize_SuEIR_parameters(x0[0], x0[1], x0[2], x0[3], N0, I, R, t_span, y0, t_eval)\n",
    "    #state_params[state] = res.x\n",
    "    #y0 = np.array([new_S0, new_E0, confirmed[valid_date-1]-new_R0-death[valid_date-1], new_R0, death[valid_date-1]])\n",
    "    #err = N0 - np.sum(y0)\n",
    "    #y0[0] += err/2\n",
    "    #y0[1] += err/2\n",
    "    #pred = predict_with_ODE(SuEIRD, t_span, y0, t_eval = t_eval, \n",
    "                           #args = (N0, res.x[0], res.x[1], res.x[2], res.x[3], res.x[4], res.x[5]))\n",
    "    #pred_cfm[state] = pred[2,1:31] + pred[3,1:31] + pred[4,1:31]\n",
    "    #pred_death[state] = pred[4,1:31]\n",
    "    \n",
    "    pred_cfm[state] = pred[2,-30:] + pred[3,-30:] + pred[4,-30:]\n",
    "    pred_death[state] = pred[4,-30:]"
   ]
  },
  {
   "cell_type": "code",
   "execution_count": 17,
   "metadata": {},
   "outputs": [],
   "source": [
    "# Write submission.csv\n",
    "test_data = pd.read_csv('test.csv')\n",
    "test_data['Date'] = pd.to_datetime(test_data['Date'], format='%m-%d-%Y')\n",
    "start_date = pd.to_datetime('04-01-2021', format='%m-%d-%Y')\n",
    "for index in test_data.index:\n",
    "    idx = (test_data.loc[index, 'Date'] - start_date).days\n",
    "    state = test_data.loc[index, 'Province_State']\n",
    "   \n",
    "    test_data.loc[index, 'Confirmed'] = pred_cfm[state][idx]\n",
    "    test_data.loc[index, 'Deaths'] = pred_death[state][idx]\n",
    "\n",
    "test_data.loc[:,['Confirmed', 'Deaths']].to_csv('submission.csv')"
   ]
  },
  {
   "cell_type": "code",
   "execution_count": 14,
   "metadata": {},
   "outputs": [
    {
     "name": "stdout",
     "output_type": "stream",
     "text": [
      "Province_State\n",
      "Oklahoma    2804\n",
      "Oklahoma    2848\n",
      "Oklahoma    2882\n",
      "Oklahoma    2925\n",
      "Oklahoma    2952\n",
      "Oklahoma    2987\n",
      "Oklahoma    2994\n",
      "Oklahoma    3037\n",
      "Oklahoma    3085\n",
      "Oklahoma    3140\n",
      "Oklahoma    3187\n",
      "Oklahoma    3231\n",
      "Oklahoma    3279\n",
      "Oklahoma    3293\n",
      "Oklahoma    3323\n",
      "Oklahoma    3388\n",
      "Oklahoma    3423\n",
      "Oklahoma    3471\n",
      "Oklahoma    3504\n",
      "Oklahoma    3547\n",
      "Oklahoma    3564\n",
      "Oklahoma    3602\n",
      "Oklahoma    3654\n",
      "Oklahoma    3681\n",
      "Oklahoma    3710\n",
      "Oklahoma    3761\n",
      "Oklahoma    3813\n",
      "Oklahoma    3817\n",
      "Oklahoma    3870\n",
      "Oklahoma    3900\n",
      "            ... \n",
      "Oklahoma    4534\n",
      "Oklahoma    4534\n",
      "Oklahoma    4534\n",
      "Oklahoma    4534\n",
      "Oklahoma    4534\n",
      "Oklahoma    4534\n",
      "Oklahoma    4534\n",
      "Oklahoma    4701\n",
      "Oklahoma    4701\n",
      "Oklahoma    4701\n",
      "Oklahoma    4701\n",
      "Oklahoma    4701\n",
      "Oklahoma    4701\n",
      "Oklahoma    4701\n",
      "Oklahoma    4788\n",
      "Oklahoma    4788\n",
      "Oklahoma    4788\n",
      "Oklahoma    4788\n",
      "Oklahoma    4788\n",
      "Oklahoma    4788\n",
      "Oklahoma    4788\n",
      "Oklahoma    4788\n",
      "Oklahoma    4850\n",
      "Oklahoma    4850\n",
      "Oklahoma    4850\n",
      "Oklahoma    4850\n",
      "Oklahoma    4850\n",
      "Oklahoma    4850\n",
      "Oklahoma    4850\n",
      "Oklahoma    4953\n",
      "Name: Deaths, Length: 79, dtype: int64\n",
      "Finish\n"
     ]
    },
    {
     "data": {
      "image/png": "[encoded data removed]",
      "text/plain": [
       "<Figure size 432x288 with 1 Axes>"
      ]
     },
     "metadata": {
      "needs_background": "light"
     },
     "output_type": "display_data"
    },
    {
     "data": {
      "image/png": "[encoded data removed]",
      "text/plain": [
       "<Figure size 432x288 with 1 Axes>"
      ]
     },
     "metadata": {
      "needs_background": "light"
     },
     "output_type": "display_data"
    },
    {
     "data": {
      "image/png": "[encoded data removed]",
      "text/plain": [
       "<Figure size 432x288 with 1 Axes>"
      ]
     },
     "metadata": {
      "needs_background": "light"
     },
     "output_type": "display_data"
    },
    {
     "data": {
      "image/png": "[encoded data removed]",
      "text/plain": [
       "<Figure size 432x288 with 1 Axes>"
      ]
     },
     "metadata": {
      "needs_background": "light"
     },
     "output_type": "display_data"
    }
   ],
   "source": [
    "# For debugging\n",
    "target_state = 'Oklahoma'\n",
    "for state, _ in true_state_partial:\n",
    "    if state != target_state:\n",
    "        continue\n",
    "    N0_ratio, E0_ratio = best_ratio[state]\n",
    "    values = data.loc[state].values\n",
    "    # set y0\n",
    "    I0 = values[0,4] # Active\n",
    "    R0 = values[0,3] # Recovered\n",
    "    D0 = values[0,2]\n",
    "    N0 = N0_ratio * state_population.loc[state].values[0]\n",
    "    E0 = E0_ratio * state_population.loc[state].values[0]\n",
    "    S0 = N0 - E0 - I0 - R0 - D0\n",
    "    y0 = np.array([S0, E0, I0, R0, D0])\n",
    "    \n",
    "    # set initial values for parameters\n",
    "    #x0 = np.random.rand(4)\n",
    "    \n",
    "    # set t_span, t_eval\n",
    "    t_span = (0, values.shape[0]+1)\n",
    "    t_eval = np.array(range(values.shape[0])).astype(np.float64)\n",
    "    res = state_params[state]\n",
    "    pred = predict_with_ODE(SuEIRD, t_span, y0, t_eval = t_eval, \n",
    "                           args = (N0, res.x[0], res.x[1], res.x[2], res.x[3], res.x[4], res.x[5]))\n",
    "    \n",
    "    date = np.array(range(79))\n",
    "    death = pred[4,:] \n",
    "    plt.figure()\n",
    "    #print(values[:,1])\n",
    "    #print(pred[2,:]+pred[3,:]+pred[4,:])\n",
    "    plt.plot(date, values[:,1], c='red') # confirmed\n",
    "    plt.plot(date, pred[2,:]+pred[3,:]+pred[4,:], c='yellow')\n",
    "    plt.figure()\n",
    "    plt.plot(date, values[:,2], c='red') # death\n",
    "    plt.plot(date, death, c='yellow')\n",
    "    \n",
    "    plt.figure()\n",
    "    plt.plot(date, values[:,4], c='red') #active\n",
    "    plt.plot(date, pred[2,:], c='yellow')\n",
    "    \n",
    "    plt.figure()\n",
    "    plt.plot(date, values[:,3], c='red') #recovered\n",
    "    plt.plot(date, pred[3,:], c='yellow')\n",
    "    \n",
    "    \n",
    "    \n",
    "    print(data.loc[state, 'Deaths'])\n",
    "print('Finish')"
   ]
  },
  {
   "cell_type": "code",
   "execution_count": null,
   "metadata": {},
   "outputs": [],
   "source": []
  }
 ],
 "metadata": {
  "kernelspec": {
   "display_name": "Python 3",
   "language": "python",
   "name": "python3"
  },
  "language_info": {
   "codemirror_mode": {
    "name": "ipython",
    "version": 3
   },
   "file_extension": ".py",
   "mimetype": "text/x-python",
   "name": "python",
   "nbconvert_exporter": "python",
   "pygments_lexer": "ipython3",
   "version": "3.9.1"
  }
 },
 "nbformat": 4,
 "nbformat_minor": 4
}
