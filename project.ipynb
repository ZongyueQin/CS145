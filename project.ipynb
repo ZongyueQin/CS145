{
 "cells": [
  {
   "cell_type": "code",
   "execution_count": 1,
   "id": "ethical-server",
   "metadata": {},
   "outputs": [],
   "source": [
    "import pandas as pd\n",
    "import numpy as np\n",
    "import matplotlib.pyplot as plt\n",
    "from sklearn.preprocessing import StandardScaler, PolynomialFeatures\n",
    "from sklearn.linear_model import LinearRegression, Ridge, Lasso\n",
    "from sklearn.neural_network import MLPRegressor\n",
    "from sklearn.metrics import mean_absolute_percentage_error\n",
    "from sklearn.svm import SVR, LinearSVR\n",
    "from scipy.optimize import minimize\n",
    "from datetime import  timedelta\n",
    "from warnings import simplefilter\n",
    "from sklearn.exceptions import ConvergenceWarning\n",
    "from sklearn.base import clone\n",
    "from sklearn.pipeline import Pipeline\n",
    "simplefilter(\"ignore\", category=ConvergenceWarning)\n",
    "pd.options.mode.chained_assignment = None"
   ]
  },
  {
   "cell_type": "code",
   "execution_count": 2,
   "id": "approximate-penalty",
   "metadata": {},
   "outputs": [],
   "source": [
    "trend_data = pd.read_csv(\"./train_trendency.csv\", index_col=0)\n",
    "vacc_data = pd.read_csv(\"./train_vaccine.csv\", index_col=0)\n",
    "test_data = pd.read_csv(\"./test.csv\", index_col=0)\n",
    "popu_data = pd.read_csv(\"./population.csv\")\n",
    "sub_data = pd.read_csv(\"./submission.csv\", index_col=0)"
   ]
  },
  {
   "cell_type": "code",
   "execution_count": 3,
   "id": "eligible-eating",
   "metadata": {},
   "outputs": [
    {
     "data": {
      "text/html": [
       "<div>\n",
       "<style scoped>\n",
       "    .dataframe tbody tr th:only-of-type {\n",
       "        vertical-align: middle;\n",
       "    }\n",
       "\n",
       "    .dataframe tbody tr th {\n",
       "        vertical-align: top;\n",
       "    }\n",
       "\n",
       "    .dataframe thead th {\n",
       "        text-align: right;\n",
       "    }\n",
       "</style>\n",
       "<table border=\"1\" class=\"dataframe\">\n",
       "  <thead>\n",
       "    <tr style=\"text-align: right;\">\n",
       "      <th></th>\n",
       "      <th>Province_State</th>\n",
       "      <th>Date</th>\n",
       "      <th>Confirmed</th>\n",
       "      <th>Deaths</th>\n",
       "      <th>Recovered</th>\n",
       "      <th>Active</th>\n",
       "      <th>Incident_Rate</th>\n",
       "      <th>Total_Test_Results</th>\n",
       "      <th>Case_Fatality_Ratio</th>\n",
       "      <th>Testing_Rate</th>\n",
       "    </tr>\n",
       "  </thead>\n",
       "  <tbody>\n",
       "    <tr>\n",
       "      <th>0</th>\n",
       "      <td>Alabama</td>\n",
       "      <td>01-12-2021</td>\n",
       "      <td>407848</td>\n",
       "      <td>5573</td>\n",
       "      <td>211684.0</td>\n",
       "      <td>190591.0</td>\n",
       "      <td>8318.021857</td>\n",
       "      <td>1981019.0</td>\n",
       "      <td>1.366440</td>\n",
       "      <td>40402.697430</td>\n",
       "    </tr>\n",
       "    <tr>\n",
       "      <th>1</th>\n",
       "      <td>Alaska</td>\n",
       "      <td>01-12-2021</td>\n",
       "      <td>50544</td>\n",
       "      <td>225</td>\n",
       "      <td>7165.0</td>\n",
       "      <td>43132.0</td>\n",
       "      <td>6906.205360</td>\n",
       "      <td>1357708.0</td>\n",
       "      <td>0.445351</td>\n",
       "      <td>185594.597735</td>\n",
       "    </tr>\n",
       "    <tr>\n",
       "      <th>2</th>\n",
       "      <td>Arizona</td>\n",
       "      <td>01-12-2021</td>\n",
       "      <td>636100</td>\n",
       "      <td>10482</td>\n",
       "      <td>86757.0</td>\n",
       "      <td>538861.0</td>\n",
       "      <td>8739.177523</td>\n",
       "      <td>5742443.0</td>\n",
       "      <td>1.647854</td>\n",
       "      <td>42806.225328</td>\n",
       "    </tr>\n",
       "    <tr>\n",
       "      <th>3</th>\n",
       "      <td>Arkansas</td>\n",
       "      <td>01-12-2021</td>\n",
       "      <td>259553</td>\n",
       "      <td>4121</td>\n",
       "      <td>229700.0</td>\n",
       "      <td>25732.0</td>\n",
       "      <td>8600.724235</td>\n",
       "      <td>2208736.0</td>\n",
       "      <td>1.587730</td>\n",
       "      <td>73190.174047</td>\n",
       "    </tr>\n",
       "    <tr>\n",
       "      <th>4</th>\n",
       "      <td>California</td>\n",
       "      <td>01-12-2021</td>\n",
       "      <td>2832085</td>\n",
       "      <td>31345</td>\n",
       "      <td>NaN</td>\n",
       "      <td>2773506.0</td>\n",
       "      <td>7098.216165</td>\n",
       "      <td>36508384.0</td>\n",
       "      <td>1.110900</td>\n",
       "      <td>92397.696784</td>\n",
       "    </tr>\n",
       "  </tbody>\n",
       "</table>\n",
       "</div>"
      ],
      "text/plain": [
       "  Province_State        Date  Confirmed  Deaths  Recovered     Active  \\\n",
       "0        Alabama  01-12-2021     407848    5573   211684.0   190591.0   \n",
       "1         Alaska  01-12-2021      50544     225     7165.0    43132.0   \n",
       "2        Arizona  01-12-2021     636100   10482    86757.0   538861.0   \n",
       "3       Arkansas  01-12-2021     259553    4121   229700.0    25732.0   \n",
       "4     California  01-12-2021    2832085   31345        NaN  2773506.0   \n",
       "\n",
       "   Incident_Rate  Total_Test_Results  Case_Fatality_Ratio   Testing_Rate  \n",
       "0    8318.021857           1981019.0             1.366440   40402.697430  \n",
       "1    6906.205360           1357708.0             0.445351  185594.597735  \n",
       "2    8739.177523           5742443.0             1.647854   42806.225328  \n",
       "3    8600.724235           2208736.0             1.587730   73190.174047  \n",
       "4    7098.216165          36508384.0             1.110900   92397.696784  "
      ]
     },
     "execution_count": 3,
     "metadata": {},
     "output_type": "execute_result"
    }
   ],
   "source": [
    "trend_data.head()"
   ]
  },
  {
   "cell_type": "code",
   "execution_count": 4,
   "id": "descending-moderator",
   "metadata": {},
   "outputs": [
    {
     "data": {
      "text/html": [
       "<div>\n",
       "<style scoped>\n",
       "    .dataframe tbody tr th:only-of-type {\n",
       "        vertical-align: middle;\n",
       "    }\n",
       "\n",
       "    .dataframe tbody tr th {\n",
       "        vertical-align: top;\n",
       "    }\n",
       "\n",
       "    .dataframe thead th {\n",
       "        text-align: right;\n",
       "    }\n",
       "</style>\n",
       "<table border=\"1\" class=\"dataframe\">\n",
       "  <thead>\n",
       "    <tr style=\"text-align: right;\">\n",
       "      <th></th>\n",
       "      <th>date</th>\n",
       "      <th>location</th>\n",
       "      <th>total_vaccinations</th>\n",
       "      <th>people_fully_vaccinated</th>\n",
       "    </tr>\n",
       "  </thead>\n",
       "  <tbody>\n",
       "    <tr>\n",
       "      <th>0</th>\n",
       "      <td>2021-01-12</td>\n",
       "      <td>Alabama</td>\n",
       "      <td>78134.0</td>\n",
       "      <td>7270.0</td>\n",
       "    </tr>\n",
       "    <tr>\n",
       "      <th>1</th>\n",
       "      <td>2021-01-12</td>\n",
       "      <td>Alaska</td>\n",
       "      <td>35838.0</td>\n",
       "      <td>5400.0</td>\n",
       "    </tr>\n",
       "    <tr>\n",
       "      <th>2</th>\n",
       "      <td>2021-01-12</td>\n",
       "      <td>Arizona</td>\n",
       "      <td>141355.0</td>\n",
       "      <td>8343.0</td>\n",
       "    </tr>\n",
       "    <tr>\n",
       "      <th>3</th>\n",
       "      <td>2021-01-12</td>\n",
       "      <td>Arkansas</td>\n",
       "      <td>40879.0</td>\n",
       "      <td>8.0</td>\n",
       "    </tr>\n",
       "    <tr>\n",
       "      <th>4</th>\n",
       "      <td>2021-01-12</td>\n",
       "      <td>California</td>\n",
       "      <td>816301.0</td>\n",
       "      <td>100089.0</td>\n",
       "    </tr>\n",
       "  </tbody>\n",
       "</table>\n",
       "</div>"
      ],
      "text/plain": [
       "         date    location  total_vaccinations  people_fully_vaccinated\n",
       "0  2021-01-12     Alabama             78134.0                   7270.0\n",
       "1  2021-01-12      Alaska             35838.0                   5400.0\n",
       "2  2021-01-12     Arizona            141355.0                   8343.0\n",
       "3  2021-01-12    Arkansas             40879.0                      8.0\n",
       "4  2021-01-12  California            816301.0                 100089.0"
      ]
     },
     "execution_count": 4,
     "metadata": {},
     "output_type": "execute_result"
    }
   ],
   "source": [
    "vacc_data.head()"
   ]
  },
  {
   "cell_type": "code",
   "execution_count": 5,
   "id": "boolean-reservoir",
   "metadata": {},
   "outputs": [
    {
     "data": {
      "text/html": [
       "<div>\n",
       "<style scoped>\n",
       "    .dataframe tbody tr th:only-of-type {\n",
       "        vertical-align: middle;\n",
       "    }\n",
       "\n",
       "    .dataframe tbody tr th {\n",
       "        vertical-align: top;\n",
       "    }\n",
       "\n",
       "    .dataframe thead th {\n",
       "        text-align: right;\n",
       "    }\n",
       "</style>\n",
       "<table border=\"1\" class=\"dataframe\">\n",
       "  <thead>\n",
       "    <tr style=\"text-align: right;\">\n",
       "      <th></th>\n",
       "      <th>States</th>\n",
       "      <th>Population</th>\n",
       "    </tr>\n",
       "  </thead>\n",
       "  <tbody>\n",
       "    <tr>\n",
       "      <th>0</th>\n",
       "      <td>Alabama</td>\n",
       "      <td>4903185</td>\n",
       "    </tr>\n",
       "    <tr>\n",
       "      <th>1</th>\n",
       "      <td>Alaska</td>\n",
       "      <td>731545</td>\n",
       "    </tr>\n",
       "    <tr>\n",
       "      <th>2</th>\n",
       "      <td>Arizona</td>\n",
       "      <td>7278717</td>\n",
       "    </tr>\n",
       "    <tr>\n",
       "      <th>3</th>\n",
       "      <td>Arkansas</td>\n",
       "      <td>3017804</td>\n",
       "    </tr>\n",
       "    <tr>\n",
       "      <th>4</th>\n",
       "      <td>California</td>\n",
       "      <td>39512223</td>\n",
       "    </tr>\n",
       "  </tbody>\n",
       "</table>\n",
       "</div>"
      ],
      "text/plain": [
       "       States  Population\n",
       "0     Alabama     4903185\n",
       "1      Alaska      731545\n",
       "2     Arizona     7278717\n",
       "3    Arkansas     3017804\n",
       "4  California    39512223"
      ]
     },
     "execution_count": 5,
     "metadata": {},
     "output_type": "execute_result"
    }
   ],
   "source": [
    "popu_data.head()"
   ]
  },
  {
   "cell_type": "code",
   "execution_count": 6,
   "id": "complete-franchise",
   "metadata": {},
   "outputs": [
    {
     "data": {
      "text/html": [
       "<div>\n",
       "<style scoped>\n",
       "    .dataframe tbody tr th:only-of-type {\n",
       "        vertical-align: middle;\n",
       "    }\n",
       "\n",
       "    .dataframe tbody tr th {\n",
       "        vertical-align: top;\n",
       "    }\n",
       "\n",
       "    .dataframe thead th {\n",
       "        text-align: right;\n",
       "    }\n",
       "</style>\n",
       "<table border=\"1\" class=\"dataframe\">\n",
       "  <thead>\n",
       "    <tr style=\"text-align: right;\">\n",
       "      <th></th>\n",
       "      <th>ID</th>\n",
       "      <th>Confirmed</th>\n",
       "      <th>Deaths</th>\n",
       "    </tr>\n",
       "  </thead>\n",
       "  <tbody>\n",
       "    <tr>\n",
       "      <th>0</th>\n",
       "      <td>0</td>\n",
       "      <td>4.886096e+05</td>\n",
       "      <td>13433.927537</td>\n",
       "    </tr>\n",
       "    <tr>\n",
       "      <th>1</th>\n",
       "      <td>1</td>\n",
       "      <td>7.984069e+04</td>\n",
       "      <td>379.604174</td>\n",
       "    </tr>\n",
       "    <tr>\n",
       "      <th>2</th>\n",
       "      <td>2</td>\n",
       "      <td>1.120780e+06</td>\n",
       "      <td>22412.918362</td>\n",
       "    </tr>\n",
       "    <tr>\n",
       "      <th>3</th>\n",
       "      <td>3</td>\n",
       "      <td>2.668372e+05</td>\n",
       "      <td>5901.680368</td>\n",
       "    </tr>\n",
       "    <tr>\n",
       "      <th>4</th>\n",
       "      <td>4</td>\n",
       "      <td>4.362343e+06</td>\n",
       "      <td>73622.852919</td>\n",
       "    </tr>\n",
       "  </tbody>\n",
       "</table>\n",
       "</div>"
      ],
      "text/plain": [
       "   ID     Confirmed        Deaths\n",
       "0   0  4.886096e+05  13433.927537\n",
       "1   1  7.984069e+04    379.604174\n",
       "2   2  1.120780e+06  22412.918362\n",
       "3   3  2.668372e+05   5901.680368\n",
       "4   4  4.362343e+06  73622.852919"
      ]
     },
     "execution_count": 6,
     "metadata": {},
     "output_type": "execute_result"
    }
   ],
   "source": [
    "sub_data.head()"
   ]
  },
  {
   "cell_type": "code",
   "execution_count": 7,
   "id": "specific-veteran",
   "metadata": {},
   "outputs": [
    {
     "data": {
      "text/html": [
       "<div>\n",
       "<style scoped>\n",
       "    .dataframe tbody tr th:only-of-type {\n",
       "        vertical-align: middle;\n",
       "    }\n",
       "\n",
       "    .dataframe tbody tr th {\n",
       "        vertical-align: top;\n",
       "    }\n",
       "\n",
       "    .dataframe thead th {\n",
       "        text-align: right;\n",
       "    }\n",
       "</style>\n",
       "<table border=\"1\" class=\"dataframe\">\n",
       "  <thead>\n",
       "    <tr style=\"text-align: right;\">\n",
       "      <th></th>\n",
       "      <th>Date</th>\n",
       "      <th>Province_State</th>\n",
       "      <th>total_vaccinations</th>\n",
       "      <th>people_fully_vaccinated</th>\n",
       "    </tr>\n",
       "  </thead>\n",
       "  <tbody>\n",
       "    <tr>\n",
       "      <th>0</th>\n",
       "      <td>2021-01-12</td>\n",
       "      <td>Alabama</td>\n",
       "      <td>78134.0</td>\n",
       "      <td>7270.0</td>\n",
       "    </tr>\n",
       "    <tr>\n",
       "      <th>1</th>\n",
       "      <td>2021-01-12</td>\n",
       "      <td>Alaska</td>\n",
       "      <td>35838.0</td>\n",
       "      <td>5400.0</td>\n",
       "    </tr>\n",
       "    <tr>\n",
       "      <th>2</th>\n",
       "      <td>2021-01-12</td>\n",
       "      <td>Arizona</td>\n",
       "      <td>141355.0</td>\n",
       "      <td>8343.0</td>\n",
       "    </tr>\n",
       "    <tr>\n",
       "      <th>3</th>\n",
       "      <td>2021-01-12</td>\n",
       "      <td>Arkansas</td>\n",
       "      <td>40879.0</td>\n",
       "      <td>8.0</td>\n",
       "    </tr>\n",
       "    <tr>\n",
       "      <th>4</th>\n",
       "      <td>2021-01-12</td>\n",
       "      <td>California</td>\n",
       "      <td>816301.0</td>\n",
       "      <td>100089.0</td>\n",
       "    </tr>\n",
       "  </tbody>\n",
       "</table>\n",
       "</div>"
      ],
      "text/plain": [
       "        Date Province_State  total_vaccinations  people_fully_vaccinated\n",
       "0 2021-01-12        Alabama             78134.0                   7270.0\n",
       "1 2021-01-12         Alaska             35838.0                   5400.0\n",
       "2 2021-01-12        Arizona            141355.0                   8343.0\n",
       "3 2021-01-12       Arkansas             40879.0                      8.0\n",
       "4 2021-01-12     California            816301.0                 100089.0"
      ]
     },
     "execution_count": 7,
     "metadata": {},
     "output_type": "execute_result"
    }
   ],
   "source": [
    "trend_data.rename(columns={\"Unnamed: 0\": \"id\"}, inplace=True)\n",
    "vacc_data.rename(columns={\"Unnamed: 0\": \"id\", \"date\": \"Date\", \"location\": \"Province_State\"}, inplace=True)\n",
    "popu_data.rename(columns={\"States\": \"Province_State\"}, inplace=True)\n",
    "trend_data[\"Date\"] = pd.to_datetime(trend_data[\"Date\"])\n",
    "vacc_data[\"Date\"] = pd.to_datetime(vacc_data[\"Date\"])\n",
    "vacc_data.head()"
   ]
  },
  {
   "cell_type": "code",
   "execution_count": 8,
   "id": "color-empty",
   "metadata": {},
   "outputs": [],
   "source": [
    "covid_data = pd.merge(trend_data, vacc_data, on=[\"Date\", \"Province_State\"], how=\"outer\")\n",
    "covid_data = pd.merge(covid_data, popu_data, on=\"Province_State\")"
   ]
  },
  {
   "cell_type": "markdown",
   "id": "derived-government",
   "metadata": {},
   "source": [
    "Data for 03-30-2021 seem to be incomplete, we could drop that date without significant loss of data."
   ]
  },
  {
   "cell_type": "code",
   "execution_count": 9,
   "id": "inappropriate-honduras",
   "metadata": {},
   "outputs": [
    {
     "data": {
      "text/html": [
       "<div>\n",
       "<style scoped>\n",
       "    .dataframe tbody tr th:only-of-type {\n",
       "        vertical-align: middle;\n",
       "    }\n",
       "\n",
       "    .dataframe tbody tr th {\n",
       "        vertical-align: top;\n",
       "    }\n",
       "\n",
       "    .dataframe thead th {\n",
       "        text-align: right;\n",
       "    }\n",
       "</style>\n",
       "<table border=\"1\" class=\"dataframe\">\n",
       "  <thead>\n",
       "    <tr style=\"text-align: right;\">\n",
       "      <th></th>\n",
       "      <th>Province_State</th>\n",
       "      <th>Date</th>\n",
       "      <th>Confirmed</th>\n",
       "      <th>Deaths</th>\n",
       "      <th>Recovered</th>\n",
       "      <th>Active</th>\n",
       "      <th>Incident_Rate</th>\n",
       "      <th>Total_Test_Results</th>\n",
       "      <th>Case_Fatality_Ratio</th>\n",
       "      <th>Testing_Rate</th>\n",
       "      <th>total_vaccinations</th>\n",
       "      <th>people_fully_vaccinated</th>\n",
       "      <th>Population</th>\n",
       "    </tr>\n",
       "  </thead>\n",
       "  <tbody>\n",
       "    <tr>\n",
       "      <th>0</th>\n",
       "      <td>Alabama</td>\n",
       "      <td>2021-01-12</td>\n",
       "      <td>407848</td>\n",
       "      <td>5573</td>\n",
       "      <td>211684.0</td>\n",
       "      <td>190591.0</td>\n",
       "      <td>8318.021857</td>\n",
       "      <td>1981019.0</td>\n",
       "      <td>1.366440</td>\n",
       "      <td>40402.697430</td>\n",
       "      <td>78134.0</td>\n",
       "      <td>7270.0</td>\n",
       "      <td>4903185</td>\n",
       "    </tr>\n",
       "    <tr>\n",
       "      <th>1</th>\n",
       "      <td>Alabama</td>\n",
       "      <td>2021-01-13</td>\n",
       "      <td>410995</td>\n",
       "      <td>5760</td>\n",
       "      <td>211684.0</td>\n",
       "      <td>193551.0</td>\n",
       "      <td>8382.204628</td>\n",
       "      <td>1989724.0</td>\n",
       "      <td>1.401477</td>\n",
       "      <td>40580.235092</td>\n",
       "      <td>84040.0</td>\n",
       "      <td>9245.0</td>\n",
       "      <td>4903185</td>\n",
       "    </tr>\n",
       "    <tr>\n",
       "      <th>2</th>\n",
       "      <td>Alabama</td>\n",
       "      <td>2021-01-14</td>\n",
       "      <td>414583</td>\n",
       "      <td>5945</td>\n",
       "      <td>221961.0</td>\n",
       "      <td>186677.0</td>\n",
       "      <td>8455.381553</td>\n",
       "      <td>1999693.0</td>\n",
       "      <td>1.433971</td>\n",
       "      <td>40783.551916</td>\n",
       "      <td>92300.0</td>\n",
       "      <td>NaN</td>\n",
       "      <td>4903185</td>\n",
       "    </tr>\n",
       "    <tr>\n",
       "      <th>3</th>\n",
       "      <td>Alabama</td>\n",
       "      <td>2021-01-15</td>\n",
       "      <td>417528</td>\n",
       "      <td>6030</td>\n",
       "      <td>221961.0</td>\n",
       "      <td>189537.0</td>\n",
       "      <td>8515.444553</td>\n",
       "      <td>2012213.0</td>\n",
       "      <td>1.444215</td>\n",
       "      <td>41038.896146</td>\n",
       "      <td>100567.0</td>\n",
       "      <td>13488.0</td>\n",
       "      <td>4903185</td>\n",
       "    </tr>\n",
       "    <tr>\n",
       "      <th>4</th>\n",
       "      <td>Alabama</td>\n",
       "      <td>2021-01-16</td>\n",
       "      <td>420681</td>\n",
       "      <td>6119</td>\n",
       "      <td>221961.0</td>\n",
       "      <td>192601.0</td>\n",
       "      <td>8579.749693</td>\n",
       "      <td>2021123.0</td>\n",
       "      <td>1.454546</td>\n",
       "      <td>41220.614764</td>\n",
       "      <td>NaN</td>\n",
       "      <td>NaN</td>\n",
       "      <td>4903185</td>\n",
       "    </tr>\n",
       "    <tr>\n",
       "      <th>...</th>\n",
       "      <td>...</td>\n",
       "      <td>...</td>\n",
       "      <td>...</td>\n",
       "      <td>...</td>\n",
       "      <td>...</td>\n",
       "      <td>...</td>\n",
       "      <td>...</td>\n",
       "      <td>...</td>\n",
       "      <td>...</td>\n",
       "      <td>...</td>\n",
       "      <td>...</td>\n",
       "      <td>...</td>\n",
       "      <td>...</td>\n",
       "    </tr>\n",
       "    <tr>\n",
       "      <th>3944</th>\n",
       "      <td>Wyoming</td>\n",
       "      <td>2021-03-26</td>\n",
       "      <td>56046</td>\n",
       "      <td>695</td>\n",
       "      <td>NaN</td>\n",
       "      <td>NaN</td>\n",
       "      <td>9683.823491</td>\n",
       "      <td>678705.0</td>\n",
       "      <td>1.240053</td>\n",
       "      <td>117269.018711</td>\n",
       "      <td>243336.0</td>\n",
       "      <td>95871.0</td>\n",
       "      <td>578759</td>\n",
       "    </tr>\n",
       "    <tr>\n",
       "      <th>3945</th>\n",
       "      <td>Wyoming</td>\n",
       "      <td>2021-03-27</td>\n",
       "      <td>56046</td>\n",
       "      <td>695</td>\n",
       "      <td>NaN</td>\n",
       "      <td>NaN</td>\n",
       "      <td>9683.823491</td>\n",
       "      <td>679984.0</td>\n",
       "      <td>1.240053</td>\n",
       "      <td>117490.008795</td>\n",
       "      <td>243604.0</td>\n",
       "      <td>96104.0</td>\n",
       "      <td>578759</td>\n",
       "    </tr>\n",
       "    <tr>\n",
       "      <th>3946</th>\n",
       "      <td>Wyoming</td>\n",
       "      <td>2021-03-28</td>\n",
       "      <td>56046</td>\n",
       "      <td>695</td>\n",
       "      <td>NaN</td>\n",
       "      <td>NaN</td>\n",
       "      <td>9683.823491</td>\n",
       "      <td>679984.0</td>\n",
       "      <td>1.240053</td>\n",
       "      <td>117490.008795</td>\n",
       "      <td>244038.0</td>\n",
       "      <td>96398.0</td>\n",
       "      <td>578759</td>\n",
       "    </tr>\n",
       "    <tr>\n",
       "      <th>3947</th>\n",
       "      <td>Wyoming</td>\n",
       "      <td>2021-03-29</td>\n",
       "      <td>56190</td>\n",
       "      <td>695</td>\n",
       "      <td>NaN</td>\n",
       "      <td>NaN</td>\n",
       "      <td>9708.704314</td>\n",
       "      <td>679984.0</td>\n",
       "      <td>1.236875</td>\n",
       "      <td>117490.008795</td>\n",
       "      <td>261950.0</td>\n",
       "      <td>104783.0</td>\n",
       "      <td>578759</td>\n",
       "    </tr>\n",
       "    <tr>\n",
       "      <th>3948</th>\n",
       "      <td>Wyoming</td>\n",
       "      <td>2021-03-30</td>\n",
       "      <td>56236</td>\n",
       "      <td>695</td>\n",
       "      <td>NaN</td>\n",
       "      <td>NaN</td>\n",
       "      <td>9716.652354</td>\n",
       "      <td>683766.0</td>\n",
       "      <td>1.235863</td>\n",
       "      <td>118143.475955</td>\n",
       "      <td>261963.0</td>\n",
       "      <td>104805.0</td>\n",
       "      <td>578759</td>\n",
       "    </tr>\n",
       "  </tbody>\n",
       "</table>\n",
       "<p>3900 rows × 13 columns</p>\n",
       "</div>"
      ],
      "text/plain": [
       "     Province_State       Date  Confirmed  Deaths  Recovered    Active  \\\n",
       "0           Alabama 2021-01-12     407848    5573   211684.0  190591.0   \n",
       "1           Alabama 2021-01-13     410995    5760   211684.0  193551.0   \n",
       "2           Alabama 2021-01-14     414583    5945   221961.0  186677.0   \n",
       "3           Alabama 2021-01-15     417528    6030   221961.0  189537.0   \n",
       "4           Alabama 2021-01-16     420681    6119   221961.0  192601.0   \n",
       "...             ...        ...        ...     ...        ...       ...   \n",
       "3944        Wyoming 2021-03-26      56046     695        NaN       NaN   \n",
       "3945        Wyoming 2021-03-27      56046     695        NaN       NaN   \n",
       "3946        Wyoming 2021-03-28      56046     695        NaN       NaN   \n",
       "3947        Wyoming 2021-03-29      56190     695        NaN       NaN   \n",
       "3948        Wyoming 2021-03-30      56236     695        NaN       NaN   \n",
       "\n",
       "      Incident_Rate  Total_Test_Results  Case_Fatality_Ratio   Testing_Rate  \\\n",
       "0       8318.021857           1981019.0             1.366440   40402.697430   \n",
       "1       8382.204628           1989724.0             1.401477   40580.235092   \n",
       "2       8455.381553           1999693.0             1.433971   40783.551916   \n",
       "3       8515.444553           2012213.0             1.444215   41038.896146   \n",
       "4       8579.749693           2021123.0             1.454546   41220.614764   \n",
       "...             ...                 ...                  ...            ...   \n",
       "3944    9683.823491            678705.0             1.240053  117269.018711   \n",
       "3945    9683.823491            679984.0             1.240053  117490.008795   \n",
       "3946    9683.823491            679984.0             1.240053  117490.008795   \n",
       "3947    9708.704314            679984.0             1.236875  117490.008795   \n",
       "3948    9716.652354            683766.0             1.235863  118143.475955   \n",
       "\n",
       "      total_vaccinations  people_fully_vaccinated  Population  \n",
       "0                78134.0                   7270.0     4903185  \n",
       "1                84040.0                   9245.0     4903185  \n",
       "2                92300.0                      NaN     4903185  \n",
       "3               100567.0                  13488.0     4903185  \n",
       "4                    NaN                      NaN     4903185  \n",
       "...                  ...                      ...         ...  \n",
       "3944            243336.0                  95871.0      578759  \n",
       "3945            243604.0                  96104.0      578759  \n",
       "3946            244038.0                  96398.0      578759  \n",
       "3947            261950.0                 104783.0      578759  \n",
       "3948            261963.0                 104805.0      578759  \n",
       "\n",
       "[3900 rows x 13 columns]"
      ]
     },
     "execution_count": 9,
     "metadata": {},
     "output_type": "execute_result"
    }
   ],
   "source": [
    "incomplete_rows = covid_data.index[covid_data['Date'] == '03-31-2021']\n",
    "covid_data.drop(index=incomplete_rows, inplace=True)\n",
    "covid_data"
   ]
  },
  {
   "cell_type": "code",
   "execution_count": 10,
   "id": "opponent-questionnaire",
   "metadata": {},
   "outputs": [
    {
     "data": {
      "text/html": [
       "<div>\n",
       "<style scoped>\n",
       "    .dataframe tbody tr th:only-of-type {\n",
       "        vertical-align: middle;\n",
       "    }\n",
       "\n",
       "    .dataframe tbody tr th {\n",
       "        vertical-align: top;\n",
       "    }\n",
       "\n",
       "    .dataframe thead th {\n",
       "        text-align: right;\n",
       "    }\n",
       "</style>\n",
       "<table border=\"1\" class=\"dataframe\">\n",
       "  <thead>\n",
       "    <tr style=\"text-align: right;\">\n",
       "      <th></th>\n",
       "      <th>Date</th>\n",
       "      <th>Confirmed</th>\n",
       "      <th>Deaths</th>\n",
       "      <th>Recovered</th>\n",
       "      <th>Active</th>\n",
       "      <th>Incident_Rate</th>\n",
       "      <th>Total_Test_Results</th>\n",
       "      <th>Case_Fatality_Ratio</th>\n",
       "      <th>Testing_Rate</th>\n",
       "      <th>total_vaccinations</th>\n",
       "      <th>people_fully_vaccinated</th>\n",
       "      <th>Population</th>\n",
       "    </tr>\n",
       "    <tr>\n",
       "      <th>Province_State</th>\n",
       "      <th></th>\n",
       "      <th></th>\n",
       "      <th></th>\n",
       "      <th></th>\n",
       "      <th></th>\n",
       "      <th></th>\n",
       "      <th></th>\n",
       "      <th></th>\n",
       "      <th></th>\n",
       "      <th></th>\n",
       "      <th></th>\n",
       "      <th></th>\n",
       "    </tr>\n",
       "  </thead>\n",
       "  <tbody>\n",
       "    <tr>\n",
       "      <th>Alabama</th>\n",
       "      <td>78</td>\n",
       "      <td>78</td>\n",
       "      <td>78</td>\n",
       "      <td>54</td>\n",
       "      <td>54</td>\n",
       "      <td>78</td>\n",
       "      <td>78</td>\n",
       "      <td>78</td>\n",
       "      <td>78</td>\n",
       "      <td>74</td>\n",
       "      <td>73</td>\n",
       "      <td>78</td>\n",
       "    </tr>\n",
       "    <tr>\n",
       "      <th>Alaska</th>\n",
       "      <td>78</td>\n",
       "      <td>78</td>\n",
       "      <td>78</td>\n",
       "      <td>9</td>\n",
       "      <td>54</td>\n",
       "      <td>78</td>\n",
       "      <td>78</td>\n",
       "      <td>78</td>\n",
       "      <td>78</td>\n",
       "      <td>74</td>\n",
       "      <td>73</td>\n",
       "      <td>78</td>\n",
       "    </tr>\n",
       "    <tr>\n",
       "      <th>Arizona</th>\n",
       "      <td>78</td>\n",
       "      <td>78</td>\n",
       "      <td>78</td>\n",
       "      <td>42</td>\n",
       "      <td>54</td>\n",
       "      <td>78</td>\n",
       "      <td>78</td>\n",
       "      <td>78</td>\n",
       "      <td>78</td>\n",
       "      <td>74</td>\n",
       "      <td>73</td>\n",
       "      <td>78</td>\n",
       "    </tr>\n",
       "    <tr>\n",
       "      <th>Arkansas</th>\n",
       "      <td>78</td>\n",
       "      <td>78</td>\n",
       "      <td>78</td>\n",
       "      <td>54</td>\n",
       "      <td>54</td>\n",
       "      <td>78</td>\n",
       "      <td>78</td>\n",
       "      <td>78</td>\n",
       "      <td>78</td>\n",
       "      <td>74</td>\n",
       "      <td>73</td>\n",
       "      <td>78</td>\n",
       "    </tr>\n",
       "    <tr>\n",
       "      <th>California</th>\n",
       "      <td>78</td>\n",
       "      <td>78</td>\n",
       "      <td>78</td>\n",
       "      <td>0</td>\n",
       "      <td>54</td>\n",
       "      <td>78</td>\n",
       "      <td>78</td>\n",
       "      <td>78</td>\n",
       "      <td>78</td>\n",
       "      <td>74</td>\n",
       "      <td>73</td>\n",
       "      <td>78</td>\n",
       "    </tr>\n",
       "    <tr>\n",
       "      <th>Colorado</th>\n",
       "      <td>78</td>\n",
       "      <td>78</td>\n",
       "      <td>78</td>\n",
       "      <td>42</td>\n",
       "      <td>54</td>\n",
       "      <td>78</td>\n",
       "      <td>78</td>\n",
       "      <td>78</td>\n",
       "      <td>78</td>\n",
       "      <td>74</td>\n",
       "      <td>73</td>\n",
       "      <td>78</td>\n",
       "    </tr>\n",
       "    <tr>\n",
       "      <th>Connecticut</th>\n",
       "      <td>78</td>\n",
       "      <td>78</td>\n",
       "      <td>78</td>\n",
       "      <td>41</td>\n",
       "      <td>54</td>\n",
       "      <td>78</td>\n",
       "      <td>78</td>\n",
       "      <td>78</td>\n",
       "      <td>78</td>\n",
       "      <td>74</td>\n",
       "      <td>73</td>\n",
       "      <td>78</td>\n",
       "    </tr>\n",
       "    <tr>\n",
       "      <th>Delaware</th>\n",
       "      <td>78</td>\n",
       "      <td>78</td>\n",
       "      <td>78</td>\n",
       "      <td>9</td>\n",
       "      <td>54</td>\n",
       "      <td>78</td>\n",
       "      <td>78</td>\n",
       "      <td>78</td>\n",
       "      <td>78</td>\n",
       "      <td>74</td>\n",
       "      <td>73</td>\n",
       "      <td>78</td>\n",
       "    </tr>\n",
       "    <tr>\n",
       "      <th>Florida</th>\n",
       "      <td>78</td>\n",
       "      <td>78</td>\n",
       "      <td>78</td>\n",
       "      <td>0</td>\n",
       "      <td>54</td>\n",
       "      <td>78</td>\n",
       "      <td>78</td>\n",
       "      <td>78</td>\n",
       "      <td>78</td>\n",
       "      <td>74</td>\n",
       "      <td>73</td>\n",
       "      <td>78</td>\n",
       "    </tr>\n",
       "    <tr>\n",
       "      <th>Georgia</th>\n",
       "      <td>78</td>\n",
       "      <td>78</td>\n",
       "      <td>78</td>\n",
       "      <td>0</td>\n",
       "      <td>54</td>\n",
       "      <td>78</td>\n",
       "      <td>78</td>\n",
       "      <td>78</td>\n",
       "      <td>78</td>\n",
       "      <td>74</td>\n",
       "      <td>73</td>\n",
       "      <td>78</td>\n",
       "    </tr>\n",
       "    <tr>\n",
       "      <th>Hawaii</th>\n",
       "      <td>78</td>\n",
       "      <td>78</td>\n",
       "      <td>78</td>\n",
       "      <td>7</td>\n",
       "      <td>54</td>\n",
       "      <td>78</td>\n",
       "      <td>78</td>\n",
       "      <td>78</td>\n",
       "      <td>78</td>\n",
       "      <td>74</td>\n",
       "      <td>71</td>\n",
       "      <td>78</td>\n",
       "    </tr>\n",
       "    <tr>\n",
       "      <th>Idaho</th>\n",
       "      <td>78</td>\n",
       "      <td>78</td>\n",
       "      <td>78</td>\n",
       "      <td>54</td>\n",
       "      <td>54</td>\n",
       "      <td>78</td>\n",
       "      <td>78</td>\n",
       "      <td>78</td>\n",
       "      <td>78</td>\n",
       "      <td>74</td>\n",
       "      <td>73</td>\n",
       "      <td>78</td>\n",
       "    </tr>\n",
       "    <tr>\n",
       "      <th>Illinois</th>\n",
       "      <td>78</td>\n",
       "      <td>78</td>\n",
       "      <td>78</td>\n",
       "      <td>0</td>\n",
       "      <td>54</td>\n",
       "      <td>78</td>\n",
       "      <td>78</td>\n",
       "      <td>78</td>\n",
       "      <td>78</td>\n",
       "      <td>74</td>\n",
       "      <td>73</td>\n",
       "      <td>78</td>\n",
       "    </tr>\n",
       "    <tr>\n",
       "      <th>Indiana</th>\n",
       "      <td>78</td>\n",
       "      <td>78</td>\n",
       "      <td>78</td>\n",
       "      <td>42</td>\n",
       "      <td>54</td>\n",
       "      <td>78</td>\n",
       "      <td>78</td>\n",
       "      <td>78</td>\n",
       "      <td>78</td>\n",
       "      <td>74</td>\n",
       "      <td>73</td>\n",
       "      <td>78</td>\n",
       "    </tr>\n",
       "    <tr>\n",
       "      <th>Iowa</th>\n",
       "      <td>78</td>\n",
       "      <td>78</td>\n",
       "      <td>78</td>\n",
       "      <td>54</td>\n",
       "      <td>54</td>\n",
       "      <td>78</td>\n",
       "      <td>78</td>\n",
       "      <td>78</td>\n",
       "      <td>78</td>\n",
       "      <td>74</td>\n",
       "      <td>73</td>\n",
       "      <td>78</td>\n",
       "    </tr>\n",
       "    <tr>\n",
       "      <th>Kansas</th>\n",
       "      <td>78</td>\n",
       "      <td>78</td>\n",
       "      <td>78</td>\n",
       "      <td>42</td>\n",
       "      <td>54</td>\n",
       "      <td>78</td>\n",
       "      <td>78</td>\n",
       "      <td>78</td>\n",
       "      <td>78</td>\n",
       "      <td>74</td>\n",
       "      <td>73</td>\n",
       "      <td>78</td>\n",
       "    </tr>\n",
       "    <tr>\n",
       "      <th>Kentucky</th>\n",
       "      <td>78</td>\n",
       "      <td>78</td>\n",
       "      <td>78</td>\n",
       "      <td>54</td>\n",
       "      <td>54</td>\n",
       "      <td>78</td>\n",
       "      <td>78</td>\n",
       "      <td>78</td>\n",
       "      <td>78</td>\n",
       "      <td>74</td>\n",
       "      <td>73</td>\n",
       "      <td>78</td>\n",
       "    </tr>\n",
       "    <tr>\n",
       "      <th>Louisiana</th>\n",
       "      <td>78</td>\n",
       "      <td>78</td>\n",
       "      <td>78</td>\n",
       "      <td>54</td>\n",
       "      <td>54</td>\n",
       "      <td>78</td>\n",
       "      <td>78</td>\n",
       "      <td>78</td>\n",
       "      <td>78</td>\n",
       "      <td>74</td>\n",
       "      <td>73</td>\n",
       "      <td>78</td>\n",
       "    </tr>\n",
       "    <tr>\n",
       "      <th>Maine</th>\n",
       "      <td>78</td>\n",
       "      <td>78</td>\n",
       "      <td>78</td>\n",
       "      <td>54</td>\n",
       "      <td>54</td>\n",
       "      <td>78</td>\n",
       "      <td>78</td>\n",
       "      <td>78</td>\n",
       "      <td>78</td>\n",
       "      <td>74</td>\n",
       "      <td>73</td>\n",
       "      <td>78</td>\n",
       "    </tr>\n",
       "    <tr>\n",
       "      <th>Maryland</th>\n",
       "      <td>78</td>\n",
       "      <td>78</td>\n",
       "      <td>78</td>\n",
       "      <td>54</td>\n",
       "      <td>54</td>\n",
       "      <td>78</td>\n",
       "      <td>78</td>\n",
       "      <td>78</td>\n",
       "      <td>78</td>\n",
       "      <td>74</td>\n",
       "      <td>73</td>\n",
       "      <td>78</td>\n",
       "    </tr>\n",
       "    <tr>\n",
       "      <th>Massachusetts</th>\n",
       "      <td>78</td>\n",
       "      <td>78</td>\n",
       "      <td>78</td>\n",
       "      <td>54</td>\n",
       "      <td>54</td>\n",
       "      <td>78</td>\n",
       "      <td>78</td>\n",
       "      <td>78</td>\n",
       "      <td>78</td>\n",
       "      <td>74</td>\n",
       "      <td>73</td>\n",
       "      <td>78</td>\n",
       "    </tr>\n",
       "    <tr>\n",
       "      <th>Michigan</th>\n",
       "      <td>78</td>\n",
       "      <td>78</td>\n",
       "      <td>78</td>\n",
       "      <td>54</td>\n",
       "      <td>54</td>\n",
       "      <td>78</td>\n",
       "      <td>78</td>\n",
       "      <td>78</td>\n",
       "      <td>78</td>\n",
       "      <td>74</td>\n",
       "      <td>73</td>\n",
       "      <td>78</td>\n",
       "    </tr>\n",
       "    <tr>\n",
       "      <th>Minnesota</th>\n",
       "      <td>78</td>\n",
       "      <td>78</td>\n",
       "      <td>78</td>\n",
       "      <td>54</td>\n",
       "      <td>54</td>\n",
       "      <td>78</td>\n",
       "      <td>78</td>\n",
       "      <td>78</td>\n",
       "      <td>78</td>\n",
       "      <td>74</td>\n",
       "      <td>73</td>\n",
       "      <td>78</td>\n",
       "    </tr>\n",
       "    <tr>\n",
       "      <th>Mississippi</th>\n",
       "      <td>78</td>\n",
       "      <td>78</td>\n",
       "      <td>78</td>\n",
       "      <td>54</td>\n",
       "      <td>54</td>\n",
       "      <td>78</td>\n",
       "      <td>78</td>\n",
       "      <td>78</td>\n",
       "      <td>78</td>\n",
       "      <td>74</td>\n",
       "      <td>73</td>\n",
       "      <td>78</td>\n",
       "    </tr>\n",
       "    <tr>\n",
       "      <th>Missouri</th>\n",
       "      <td>78</td>\n",
       "      <td>78</td>\n",
       "      <td>78</td>\n",
       "      <td>0</td>\n",
       "      <td>54</td>\n",
       "      <td>78</td>\n",
       "      <td>78</td>\n",
       "      <td>78</td>\n",
       "      <td>78</td>\n",
       "      <td>74</td>\n",
       "      <td>73</td>\n",
       "      <td>78</td>\n",
       "    </tr>\n",
       "    <tr>\n",
       "      <th>Montana</th>\n",
       "      <td>78</td>\n",
       "      <td>78</td>\n",
       "      <td>78</td>\n",
       "      <td>54</td>\n",
       "      <td>54</td>\n",
       "      <td>78</td>\n",
       "      <td>78</td>\n",
       "      <td>78</td>\n",
       "      <td>78</td>\n",
       "      <td>74</td>\n",
       "      <td>73</td>\n",
       "      <td>78</td>\n",
       "    </tr>\n",
       "    <tr>\n",
       "      <th>Nebraska</th>\n",
       "      <td>78</td>\n",
       "      <td>78</td>\n",
       "      <td>78</td>\n",
       "      <td>54</td>\n",
       "      <td>54</td>\n",
       "      <td>78</td>\n",
       "      <td>78</td>\n",
       "      <td>78</td>\n",
       "      <td>78</td>\n",
       "      <td>74</td>\n",
       "      <td>73</td>\n",
       "      <td>78</td>\n",
       "    </tr>\n",
       "    <tr>\n",
       "      <th>Nevada</th>\n",
       "      <td>78</td>\n",
       "      <td>78</td>\n",
       "      <td>78</td>\n",
       "      <td>0</td>\n",
       "      <td>54</td>\n",
       "      <td>78</td>\n",
       "      <td>78</td>\n",
       "      <td>78</td>\n",
       "      <td>78</td>\n",
       "      <td>74</td>\n",
       "      <td>73</td>\n",
       "      <td>78</td>\n",
       "    </tr>\n",
       "    <tr>\n",
       "      <th>New Hampshire</th>\n",
       "      <td>78</td>\n",
       "      <td>78</td>\n",
       "      <td>78</td>\n",
       "      <td>54</td>\n",
       "      <td>54</td>\n",
       "      <td>78</td>\n",
       "      <td>78</td>\n",
       "      <td>78</td>\n",
       "      <td>78</td>\n",
       "      <td>74</td>\n",
       "      <td>73</td>\n",
       "      <td>78</td>\n",
       "    </tr>\n",
       "    <tr>\n",
       "      <th>New Jersey</th>\n",
       "      <td>78</td>\n",
       "      <td>78</td>\n",
       "      <td>78</td>\n",
       "      <td>42</td>\n",
       "      <td>54</td>\n",
       "      <td>78</td>\n",
       "      <td>78</td>\n",
       "      <td>78</td>\n",
       "      <td>78</td>\n",
       "      <td>74</td>\n",
       "      <td>73</td>\n",
       "      <td>78</td>\n",
       "    </tr>\n",
       "    <tr>\n",
       "      <th>New Mexico</th>\n",
       "      <td>78</td>\n",
       "      <td>78</td>\n",
       "      <td>78</td>\n",
       "      <td>54</td>\n",
       "      <td>54</td>\n",
       "      <td>78</td>\n",
       "      <td>78</td>\n",
       "      <td>78</td>\n",
       "      <td>78</td>\n",
       "      <td>74</td>\n",
       "      <td>73</td>\n",
       "      <td>78</td>\n",
       "    </tr>\n",
       "    <tr>\n",
       "      <th>New York</th>\n",
       "      <td>78</td>\n",
       "      <td>78</td>\n",
       "      <td>78</td>\n",
       "      <td>42</td>\n",
       "      <td>54</td>\n",
       "      <td>78</td>\n",
       "      <td>78</td>\n",
       "      <td>78</td>\n",
       "      <td>78</td>\n",
       "      <td>0</td>\n",
       "      <td>0</td>\n",
       "      <td>78</td>\n",
       "    </tr>\n",
       "    <tr>\n",
       "      <th>North Carolina</th>\n",
       "      <td>78</td>\n",
       "      <td>78</td>\n",
       "      <td>78</td>\n",
       "      <td>42</td>\n",
       "      <td>54</td>\n",
       "      <td>78</td>\n",
       "      <td>78</td>\n",
       "      <td>78</td>\n",
       "      <td>78</td>\n",
       "      <td>74</td>\n",
       "      <td>73</td>\n",
       "      <td>78</td>\n",
       "    </tr>\n",
       "    <tr>\n",
       "      <th>North Dakota</th>\n",
       "      <td>78</td>\n",
       "      <td>78</td>\n",
       "      <td>78</td>\n",
       "      <td>54</td>\n",
       "      <td>54</td>\n",
       "      <td>78</td>\n",
       "      <td>78</td>\n",
       "      <td>78</td>\n",
       "      <td>78</td>\n",
       "      <td>74</td>\n",
       "      <td>73</td>\n",
       "      <td>78</td>\n",
       "    </tr>\n",
       "    <tr>\n",
       "      <th>Ohio</th>\n",
       "      <td>78</td>\n",
       "      <td>78</td>\n",
       "      <td>78</td>\n",
       "      <td>54</td>\n",
       "      <td>54</td>\n",
       "      <td>78</td>\n",
       "      <td>78</td>\n",
       "      <td>78</td>\n",
       "      <td>78</td>\n",
       "      <td>74</td>\n",
       "      <td>71</td>\n",
       "      <td>78</td>\n",
       "    </tr>\n",
       "    <tr>\n",
       "      <th>Oklahoma</th>\n",
       "      <td>78</td>\n",
       "      <td>78</td>\n",
       "      <td>78</td>\n",
       "      <td>54</td>\n",
       "      <td>54</td>\n",
       "      <td>78</td>\n",
       "      <td>78</td>\n",
       "      <td>78</td>\n",
       "      <td>78</td>\n",
       "      <td>74</td>\n",
       "      <td>73</td>\n",
       "      <td>78</td>\n",
       "    </tr>\n",
       "    <tr>\n",
       "      <th>Oregon</th>\n",
       "      <td>78</td>\n",
       "      <td>78</td>\n",
       "      <td>78</td>\n",
       "      <td>7</td>\n",
       "      <td>54</td>\n",
       "      <td>78</td>\n",
       "      <td>78</td>\n",
       "      <td>78</td>\n",
       "      <td>78</td>\n",
       "      <td>74</td>\n",
       "      <td>73</td>\n",
       "      <td>78</td>\n",
       "    </tr>\n",
       "    <tr>\n",
       "      <th>Pennsylvania</th>\n",
       "      <td>78</td>\n",
       "      <td>78</td>\n",
       "      <td>78</td>\n",
       "      <td>54</td>\n",
       "      <td>54</td>\n",
       "      <td>78</td>\n",
       "      <td>78</td>\n",
       "      <td>78</td>\n",
       "      <td>78</td>\n",
       "      <td>74</td>\n",
       "      <td>73</td>\n",
       "      <td>78</td>\n",
       "    </tr>\n",
       "    <tr>\n",
       "      <th>Rhode Island</th>\n",
       "      <td>78</td>\n",
       "      <td>78</td>\n",
       "      <td>78</td>\n",
       "      <td>42</td>\n",
       "      <td>54</td>\n",
       "      <td>78</td>\n",
       "      <td>78</td>\n",
       "      <td>78</td>\n",
       "      <td>78</td>\n",
       "      <td>74</td>\n",
       "      <td>73</td>\n",
       "      <td>78</td>\n",
       "    </tr>\n",
       "    <tr>\n",
       "      <th>South Carolina</th>\n",
       "      <td>78</td>\n",
       "      <td>78</td>\n",
       "      <td>78</td>\n",
       "      <td>54</td>\n",
       "      <td>54</td>\n",
       "      <td>78</td>\n",
       "      <td>78</td>\n",
       "      <td>78</td>\n",
       "      <td>78</td>\n",
       "      <td>74</td>\n",
       "      <td>73</td>\n",
       "      <td>78</td>\n",
       "    </tr>\n",
       "    <tr>\n",
       "      <th>South Dakota</th>\n",
       "      <td>78</td>\n",
       "      <td>78</td>\n",
       "      <td>78</td>\n",
       "      <td>54</td>\n",
       "      <td>54</td>\n",
       "      <td>78</td>\n",
       "      <td>78</td>\n",
       "      <td>78</td>\n",
       "      <td>78</td>\n",
       "      <td>74</td>\n",
       "      <td>73</td>\n",
       "      <td>78</td>\n",
       "    </tr>\n",
       "    <tr>\n",
       "      <th>Tennessee</th>\n",
       "      <td>78</td>\n",
       "      <td>78</td>\n",
       "      <td>78</td>\n",
       "      <td>54</td>\n",
       "      <td>54</td>\n",
       "      <td>78</td>\n",
       "      <td>78</td>\n",
       "      <td>78</td>\n",
       "      <td>78</td>\n",
       "      <td>74</td>\n",
       "      <td>73</td>\n",
       "      <td>78</td>\n",
       "    </tr>\n",
       "    <tr>\n",
       "      <th>Texas</th>\n",
       "      <td>78</td>\n",
       "      <td>78</td>\n",
       "      <td>78</td>\n",
       "      <td>54</td>\n",
       "      <td>54</td>\n",
       "      <td>78</td>\n",
       "      <td>78</td>\n",
       "      <td>78</td>\n",
       "      <td>78</td>\n",
       "      <td>74</td>\n",
       "      <td>73</td>\n",
       "      <td>78</td>\n",
       "    </tr>\n",
       "    <tr>\n",
       "      <th>Utah</th>\n",
       "      <td>78</td>\n",
       "      <td>78</td>\n",
       "      <td>78</td>\n",
       "      <td>54</td>\n",
       "      <td>54</td>\n",
       "      <td>78</td>\n",
       "      <td>78</td>\n",
       "      <td>78</td>\n",
       "      <td>78</td>\n",
       "      <td>74</td>\n",
       "      <td>73</td>\n",
       "      <td>78</td>\n",
       "    </tr>\n",
       "    <tr>\n",
       "      <th>Vermont</th>\n",
       "      <td>78</td>\n",
       "      <td>78</td>\n",
       "      <td>78</td>\n",
       "      <td>54</td>\n",
       "      <td>54</td>\n",
       "      <td>78</td>\n",
       "      <td>78</td>\n",
       "      <td>78</td>\n",
       "      <td>78</td>\n",
       "      <td>74</td>\n",
       "      <td>71</td>\n",
       "      <td>78</td>\n",
       "    </tr>\n",
       "    <tr>\n",
       "      <th>Virginia</th>\n",
       "      <td>78</td>\n",
       "      <td>78</td>\n",
       "      <td>78</td>\n",
       "      <td>42</td>\n",
       "      <td>54</td>\n",
       "      <td>78</td>\n",
       "      <td>78</td>\n",
       "      <td>78</td>\n",
       "      <td>78</td>\n",
       "      <td>74</td>\n",
       "      <td>71</td>\n",
       "      <td>78</td>\n",
       "    </tr>\n",
       "    <tr>\n",
       "      <th>Washington</th>\n",
       "      <td>78</td>\n",
       "      <td>78</td>\n",
       "      <td>78</td>\n",
       "      <td>0</td>\n",
       "      <td>54</td>\n",
       "      <td>78</td>\n",
       "      <td>78</td>\n",
       "      <td>78</td>\n",
       "      <td>78</td>\n",
       "      <td>74</td>\n",
       "      <td>73</td>\n",
       "      <td>78</td>\n",
       "    </tr>\n",
       "    <tr>\n",
       "      <th>West Virginia</th>\n",
       "      <td>78</td>\n",
       "      <td>78</td>\n",
       "      <td>78</td>\n",
       "      <td>54</td>\n",
       "      <td>54</td>\n",
       "      <td>78</td>\n",
       "      <td>78</td>\n",
       "      <td>78</td>\n",
       "      <td>78</td>\n",
       "      <td>74</td>\n",
       "      <td>71</td>\n",
       "      <td>78</td>\n",
       "    </tr>\n",
       "    <tr>\n",
       "      <th>Wisconsin</th>\n",
       "      <td>78</td>\n",
       "      <td>78</td>\n",
       "      <td>78</td>\n",
       "      <td>54</td>\n",
       "      <td>54</td>\n",
       "      <td>78</td>\n",
       "      <td>78</td>\n",
       "      <td>78</td>\n",
       "      <td>78</td>\n",
       "      <td>74</td>\n",
       "      <td>73</td>\n",
       "      <td>78</td>\n",
       "    </tr>\n",
       "    <tr>\n",
       "      <th>Wyoming</th>\n",
       "      <td>78</td>\n",
       "      <td>78</td>\n",
       "      <td>78</td>\n",
       "      <td>54</td>\n",
       "      <td>54</td>\n",
       "      <td>78</td>\n",
       "      <td>78</td>\n",
       "      <td>78</td>\n",
       "      <td>78</td>\n",
       "      <td>74</td>\n",
       "      <td>73</td>\n",
       "      <td>78</td>\n",
       "    </tr>\n",
       "  </tbody>\n",
       "</table>\n",
       "</div>"
      ],
      "text/plain": [
       "                Date  Confirmed  Deaths  Recovered  Active  Incident_Rate  \\\n",
       "Province_State                                                              \n",
       "Alabama           78         78      78         54      54             78   \n",
       "Alaska            78         78      78          9      54             78   \n",
       "Arizona           78         78      78         42      54             78   \n",
       "Arkansas          78         78      78         54      54             78   \n",
       "California        78         78      78          0      54             78   \n",
       "Colorado          78         78      78         42      54             78   \n",
       "Connecticut       78         78      78         41      54             78   \n",
       "Delaware          78         78      78          9      54             78   \n",
       "Florida           78         78      78          0      54             78   \n",
       "Georgia           78         78      78          0      54             78   \n",
       "Hawaii            78         78      78          7      54             78   \n",
       "Idaho             78         78      78         54      54             78   \n",
       "Illinois          78         78      78          0      54             78   \n",
       "Indiana           78         78      78         42      54             78   \n",
       "Iowa              78         78      78         54      54             78   \n",
       "Kansas            78         78      78         42      54             78   \n",
       "Kentucky          78         78      78         54      54             78   \n",
       "Louisiana         78         78      78         54      54             78   \n",
       "Maine             78         78      78         54      54             78   \n",
       "Maryland          78         78      78         54      54             78   \n",
       "Massachusetts     78         78      78         54      54             78   \n",
       "Michigan          78         78      78         54      54             78   \n",
       "Minnesota         78         78      78         54      54             78   \n",
       "Mississippi       78         78      78         54      54             78   \n",
       "Missouri          78         78      78          0      54             78   \n",
       "Montana           78         78      78         54      54             78   \n",
       "Nebraska          78         78      78         54      54             78   \n",
       "Nevada            78         78      78          0      54             78   \n",
       "New Hampshire     78         78      78         54      54             78   \n",
       "New Jersey        78         78      78         42      54             78   \n",
       "New Mexico        78         78      78         54      54             78   \n",
       "New York          78         78      78         42      54             78   \n",
       "North Carolina    78         78      78         42      54             78   \n",
       "North Dakota      78         78      78         54      54             78   \n",
       "Ohio              78         78      78         54      54             78   \n",
       "Oklahoma          78         78      78         54      54             78   \n",
       "Oregon            78         78      78          7      54             78   \n",
       "Pennsylvania      78         78      78         54      54             78   \n",
       "Rhode Island      78         78      78         42      54             78   \n",
       "South Carolina    78         78      78         54      54             78   \n",
       "South Dakota      78         78      78         54      54             78   \n",
       "Tennessee         78         78      78         54      54             78   \n",
       "Texas             78         78      78         54      54             78   \n",
       "Utah              78         78      78         54      54             78   \n",
       "Vermont           78         78      78         54      54             78   \n",
       "Virginia          78         78      78         42      54             78   \n",
       "Washington        78         78      78          0      54             78   \n",
       "West Virginia     78         78      78         54      54             78   \n",
       "Wisconsin         78         78      78         54      54             78   \n",
       "Wyoming           78         78      78         54      54             78   \n",
       "\n",
       "                Total_Test_Results  Case_Fatality_Ratio  Testing_Rate  \\\n",
       "Province_State                                                          \n",
       "Alabama                         78                   78            78   \n",
       "Alaska                          78                   78            78   \n",
       "Arizona                         78                   78            78   \n",
       "Arkansas                        78                   78            78   \n",
       "California                      78                   78            78   \n",
       "Colorado                        78                   78            78   \n",
       "Connecticut                     78                   78            78   \n",
       "Delaware                        78                   78            78   \n",
       "Florida                         78                   78            78   \n",
       "Georgia                         78                   78            78   \n",
       "Hawaii                          78                   78            78   \n",
       "Idaho                           78                   78            78   \n",
       "Illinois                        78                   78            78   \n",
       "Indiana                         78                   78            78   \n",
       "Iowa                            78                   78            78   \n",
       "Kansas                          78                   78            78   \n",
       "Kentucky                        78                   78            78   \n",
       "Louisiana                       78                   78            78   \n",
       "Maine                           78                   78            78   \n",
       "Maryland                        78                   78            78   \n",
       "Massachusetts                   78                   78            78   \n",
       "Michigan                        78                   78            78   \n",
       "Minnesota                       78                   78            78   \n",
       "Mississippi                     78                   78            78   \n",
       "Missouri                        78                   78            78   \n",
       "Montana                         78                   78            78   \n",
       "Nebraska                        78                   78            78   \n",
       "Nevada                          78                   78            78   \n",
       "New Hampshire                   78                   78            78   \n",
       "New Jersey                      78                   78            78   \n",
       "New Mexico                      78                   78            78   \n",
       "New York                        78                   78            78   \n",
       "North Carolina                  78                   78            78   \n",
       "North Dakota                    78                   78            78   \n",
       "Ohio                            78                   78            78   \n",
       "Oklahoma                        78                   78            78   \n",
       "Oregon                          78                   78            78   \n",
       "Pennsylvania                    78                   78            78   \n",
       "Rhode Island                    78                   78            78   \n",
       "South Carolina                  78                   78            78   \n",
       "South Dakota                    78                   78            78   \n",
       "Tennessee                       78                   78            78   \n",
       "Texas                           78                   78            78   \n",
       "Utah                            78                   78            78   \n",
       "Vermont                         78                   78            78   \n",
       "Virginia                        78                   78            78   \n",
       "Washington                      78                   78            78   \n",
       "West Virginia                   78                   78            78   \n",
       "Wisconsin                       78                   78            78   \n",
       "Wyoming                         78                   78            78   \n",
       "\n",
       "                total_vaccinations  people_fully_vaccinated  Population  \n",
       "Province_State                                                           \n",
       "Alabama                         74                       73          78  \n",
       "Alaska                          74                       73          78  \n",
       "Arizona                         74                       73          78  \n",
       "Arkansas                        74                       73          78  \n",
       "California                      74                       73          78  \n",
       "Colorado                        74                       73          78  \n",
       "Connecticut                     74                       73          78  \n",
       "Delaware                        74                       73          78  \n",
       "Florida                         74                       73          78  \n",
       "Georgia                         74                       73          78  \n",
       "Hawaii                          74                       71          78  \n",
       "Idaho                           74                       73          78  \n",
       "Illinois                        74                       73          78  \n",
       "Indiana                         74                       73          78  \n",
       "Iowa                            74                       73          78  \n",
       "Kansas                          74                       73          78  \n",
       "Kentucky                        74                       73          78  \n",
       "Louisiana                       74                       73          78  \n",
       "Maine                           74                       73          78  \n",
       "Maryland                        74                       73          78  \n",
       "Massachusetts                   74                       73          78  \n",
       "Michigan                        74                       73          78  \n",
       "Minnesota                       74                       73          78  \n",
       "Mississippi                     74                       73          78  \n",
       "Missouri                        74                       73          78  \n",
       "Montana                         74                       73          78  \n",
       "Nebraska                        74                       73          78  \n",
       "Nevada                          74                       73          78  \n",
       "New Hampshire                   74                       73          78  \n",
       "New Jersey                      74                       73          78  \n",
       "New Mexico                      74                       73          78  \n",
       "New York                         0                        0          78  \n",
       "North Carolina                  74                       73          78  \n",
       "North Dakota                    74                       73          78  \n",
       "Ohio                            74                       71          78  \n",
       "Oklahoma                        74                       73          78  \n",
       "Oregon                          74                       73          78  \n",
       "Pennsylvania                    74                       73          78  \n",
       "Rhode Island                    74                       73          78  \n",
       "South Carolina                  74                       73          78  \n",
       "South Dakota                    74                       73          78  \n",
       "Tennessee                       74                       73          78  \n",
       "Texas                           74                       73          78  \n",
       "Utah                            74                       73          78  \n",
       "Vermont                         74                       71          78  \n",
       "Virginia                        74                       71          78  \n",
       "Washington                      74                       73          78  \n",
       "West Virginia                   74                       71          78  \n",
       "Wisconsin                       74                       73          78  \n",
       "Wyoming                         74                       73          78  "
      ]
     },
     "execution_count": 10,
     "metadata": {},
     "output_type": "execute_result"
    }
   ],
   "source": [
    "covid_data.groupby(\"Province_State\").count()"
   ]
  },
  {
   "cell_type": "code",
   "execution_count": 11,
   "id": "stainless-revision",
   "metadata": {},
   "outputs": [],
   "source": [
    "# impute recovered and active"
   ]
  },
  {
   "cell_type": "code",
   "execution_count": 12,
   "id": "awful-packing",
   "metadata": {},
   "outputs": [],
   "source": [
    "# group data by state\n",
    "states_df = {}\n",
    "for state in covid_data[\"Province_State\"].unique():\n",
    "    states_df[state] = covid_data[covid_data[\"Province_State\"] == state]\n",
    "states_df_og = states_df.copy()"
   ]
  },
  {
   "cell_type": "code",
   "execution_count": 13,
   "id": "compressed-samoa",
   "metadata": {},
   "outputs": [],
   "source": [
    "# extract time, active, and death\n",
    "def fit_state_active(state):\n",
    "    columns = [\"Date\", \"Deaths\"]\n",
    "    keys = [\"Date\", \"Province_State\"]\n",
    "    X = states_df[state].loc[:,columns]\n",
    "    X = X.reset_index(drop=True)\n",
    "    X.loc[:, [\"Date\"]] = pd.to_datetime(X[\"Date\"]) - pd.to_datetime(X[\"Date\"][0])\n",
    "    X.loc[:, [\"Date\"]] = [d.days for d in X[\"Date\"]]\n",
    "    Y = states_df[state].loc[:,[\"Active\"]]\n",
    "    Y = Y.reset_index(drop=True)\n",
    "    train_X, train_Y = X[~pd.isnull(Y[\"Active\"])], Y[~pd.isnull(Y[\"Active\"])]\n",
    "    test_X, test_Y = X[pd.isnull(Y[\"Active\"])], Y[pd.isnull(Y[\"Active\"])]\n",
    "    train_X = train_X.to_numpy()\n",
    "    train_Y = train_Y.to_numpy()\n",
    "    lm = Ridge()\n",
    "    lm.fit(train_X, train_Y)\n",
    "    print(lm.score(train_X, train_Y))\n",
    "    preds = lm.predict(test_X)\n",
    "    Y[pd.isnull(Y[\"Active\"])] = preds\n",
    "    print(Y)\n",
    "    "
   ]
  },
  {
   "cell_type": "code",
   "execution_count": 14,
   "id": "continent-equity",
   "metadata": {},
   "outputs": [],
   "source": [
    "# imputer for missing values\n",
    "\n",
    "# infer recovered cases with confirmed and active cases\n",
    "def impute_recovered(df):\n",
    "    missing_rec = df.loc[(~ pd.isna(df[\"Confirmed\"])) & (~ pd.isna(df[\"Active\"])) & (~ pd.isna(df[\"Deaths\"])) & (pd.isna(df[\"Recovered\"]))]\n",
    "    missing_rec[\"Recovered\"] = missing_rec[\"Confirmed\"] - missing_rec[\"Active\"] - missing_rec[\"Deaths\"]\n",
    "    df.update(missing_rec, overwrite=False)\n",
    "    return df"
   ]
  },
  {
   "cell_type": "code",
   "execution_count": 15,
   "id": "northern-nightlife",
   "metadata": {},
   "outputs": [],
   "source": [
    "# infer susceptible with population, confirmed, deaths, and recovered\n",
    "def impute_susceptible(df):\n",
    "    df[\"Susceptible\"] = df[\"Population\"] - df[\"Confirmed\"]\n",
    "    return df"
   ]
  },
  {
   "cell_type": "code",
   "execution_count": 16,
   "id": "usual-adelaide",
   "metadata": {},
   "outputs": [],
   "source": [
    "# trim data entries that cannot be implied\n",
    "def trim_missing(df):\n",
    "    df = df[~ pd.isna(df[\"Recovered\"])]\n",
    "    return df"
   ]
  },
  {
   "cell_type": "code",
   "execution_count": 17,
   "id": "departmental-compiler",
   "metadata": {
    "tags": []
   },
   "outputs": [],
   "source": [
    "# infer vaccination data from the next day\n",
    "def infer_with_neighbors(df, entry):\n",
    "    for index, row in df.iloc[::-1].iterrows():\n",
    "        prev_index = index - 1\n",
    "        next_index = index + 1\n",
    "        if pd.isnull(df.loc[index][entry]):\n",
    "            if next_index in df.index and not pd.isnull(df.loc[next_index][entry]):\n",
    "                if prev_index in df.index and not pd.isnull(df.loc[prev_index][entry]):\n",
    "                    df.loc[index, [entry]] = (df.loc[next_index][entry] + df.loc[prev_index][entry])/2\n",
    "                else:\n",
    "                    df.loc[index, [entry]] = df.loc[next_index][entry]\n",
    "            else:\n",
    "                df.loc[index, [entry]] = 0\n",
    "                print(next_index, df.index)\n",
    "    return df"
   ]
  },
  {
   "cell_type": "code",
   "execution_count": 18,
   "id": "latter-irish",
   "metadata": {},
   "outputs": [
    {
     "name": "stdout",
     "output_type": "stream",
     "text": [
      "2503 Int64Index([2449, 2450, 2451, 2452, 2453, 2454, 2455, 2456, 2457, 2458, 2459,\n",
      "            2460, 2461, 2462, 2463, 2464, 2465, 2466, 2467, 2468, 2469, 2470,\n",
      "            2471, 2472, 2473, 2474, 2475, 2476, 2477, 2478, 2479, 2480, 2481,\n",
      "            2482, 2483, 2484, 2485, 2486, 2487, 2488, 2489, 2490, 2491, 2492,\n",
      "            2493, 2494, 2495, 2496, 2497, 2498, 2499, 2500, 2501, 2502],\n",
      "           dtype='int64')\n",
      "2503 Int64Index([2449, 2450, 2451, 2452, 2453, 2454, 2455, 2456, 2457, 2458, 2459,\n",
      "            2460, 2461, 2462, 2463, 2464, 2465, 2466, 2467, 2468, 2469, 2470,\n",
      "            2471, 2472, 2473, 2474, 2475, 2476, 2477, 2478, 2479, 2480, 2481,\n",
      "            2482, 2483, 2484, 2485, 2486, 2487, 2488, 2489, 2490, 2491, 2492,\n",
      "            2493, 2494, 2495, 2496, 2497, 2498, 2499, 2500, 2501, 2502],\n",
      "           dtype='int64')\n"
     ]
    }
   ],
   "source": [
    "for state in states_df:\n",
    "    states_df[state] = infer_with_neighbors(infer_with_neighbors(trim_missing(impute_recovered(impute_susceptible(states_df[state]))), \"total_vaccinations\"), \"people_fully_vaccinated\")"
   ]
  },
  {
   "cell_type": "code",
   "execution_count": 19,
   "id": "worldwide-accent",
   "metadata": {},
   "outputs": [
    {
     "data": {
      "text/plain": [
       "Province_State                     object\n",
       "Date                       datetime64[ns]\n",
       "Confirmed                           int64\n",
       "Deaths                              int64\n",
       "Recovered                         float64\n",
       "Active                            float64\n",
       "Incident_Rate                     float64\n",
       "Total_Test_Results                float64\n",
       "Case_Fatality_Ratio               float64\n",
       "Testing_Rate                      float64\n",
       "total_vaccinations                float64\n",
       "people_fully_vaccinated           float64\n",
       "Population                          int64\n",
       "Susceptible                         int64\n",
       "dtype: object"
      ]
     },
     "execution_count": 19,
     "metadata": {},
     "output_type": "execute_result"
    }
   ],
   "source": [
    "states_df[\"California\"].dtypes"
   ]
  },
  {
   "cell_type": "code",
   "execution_count": 20,
   "id": "amended-aside",
   "metadata": {},
   "outputs": [
    {
     "data": {
      "text/plain": [
       "Province_State            object\n",
       "Date              datetime64[ns]\n",
       "Confirmed                  int64\n",
       "Deaths                     int64\n",
       "Recovered                  int64\n",
       "Active                     int64\n",
       "Vaccinated                 int64\n",
       "Susceptible                int64\n",
       "dtype: object"
      ]
     },
     "execution_count": 20,
     "metadata": {},
     "output_type": "execute_result"
    }
   ],
   "source": [
    "for state in states_df:\n",
    "    states_df[state] = states_df[state].drop(columns=[\"Incident_Rate\", \"Total_Test_Results\", \"Case_Fatality_Ratio\", \"Testing_Rate\",  \"Population\", \"total_vaccinations\"])\n",
    "    states_df[state] =  states_df[state].astype({\n",
    "        \"Recovered\": \"int64\", \n",
    "        \"Active\": \"int64\", \n",
    "        \"Susceptible\": \"int64\", \n",
    "        \"people_fully_vaccinated\": \"int64\"\n",
    "    })\n",
    "    states_df[state].rename(columns={\"people_fully_vaccinated\": \"Vaccinated\"}, inplace=True)\n",
    "    states_df[state].reset_index(drop=True, inplace=True)\n",
    "    \n",
    "states_df[\"California\"].dtypes"
   ]
  },
  {
   "cell_type": "code",
   "execution_count": 21,
   "id": "lesser-trade",
   "metadata": {},
   "outputs": [
    {
     "data": {
      "text/html": [
       "<div>\n",
       "<style scoped>\n",
       "    .dataframe tbody tr th:only-of-type {\n",
       "        vertical-align: middle;\n",
       "    }\n",
       "\n",
       "    .dataframe tbody tr th {\n",
       "        vertical-align: top;\n",
       "    }\n",
       "\n",
       "    .dataframe thead th {\n",
       "        text-align: right;\n",
       "    }\n",
       "</style>\n",
       "<table border=\"1\" class=\"dataframe\">\n",
       "  <thead>\n",
       "    <tr style=\"text-align: right;\">\n",
       "      <th></th>\n",
       "      <th>Province_State</th>\n",
       "      <th>Date</th>\n",
       "      <th>Confirmed</th>\n",
       "      <th>Deaths</th>\n",
       "      <th>Recovered</th>\n",
       "      <th>Active</th>\n",
       "      <th>Vaccinated</th>\n",
       "      <th>Susceptible</th>\n",
       "    </tr>\n",
       "  </thead>\n",
       "  <tbody>\n",
       "    <tr>\n",
       "      <th>0</th>\n",
       "      <td>California</td>\n",
       "      <td>2021-01-12</td>\n",
       "      <td>2832085</td>\n",
       "      <td>31345</td>\n",
       "      <td>27234</td>\n",
       "      <td>2773506</td>\n",
       "      <td>100089</td>\n",
       "      <td>36680138</td>\n",
       "    </tr>\n",
       "    <tr>\n",
       "      <th>1</th>\n",
       "      <td>California</td>\n",
       "      <td>2021-01-13</td>\n",
       "      <td>2870104</td>\n",
       "      <td>31871</td>\n",
       "      <td>26855</td>\n",
       "      <td>2811378</td>\n",
       "      <td>133689</td>\n",
       "      <td>36642119</td>\n",
       "    </tr>\n",
       "    <tr>\n",
       "      <th>2</th>\n",
       "      <td>California</td>\n",
       "      <td>2021-01-14</td>\n",
       "      <td>2910044</td>\n",
       "      <td>32517</td>\n",
       "      <td>26146</td>\n",
       "      <td>2851381</td>\n",
       "      <td>169031</td>\n",
       "      <td>36602179</td>\n",
       "    </tr>\n",
       "    <tr>\n",
       "      <th>3</th>\n",
       "      <td>California</td>\n",
       "      <td>2021-01-15</td>\n",
       "      <td>2948054</td>\n",
       "      <td>33192</td>\n",
       "      <td>25174</td>\n",
       "      <td>2889688</td>\n",
       "      <td>204374</td>\n",
       "      <td>36564169</td>\n",
       "    </tr>\n",
       "    <tr>\n",
       "      <th>4</th>\n",
       "      <td>California</td>\n",
       "      <td>2021-01-16</td>\n",
       "      <td>2983149</td>\n",
       "      <td>33574</td>\n",
       "      <td>23120</td>\n",
       "      <td>2926455</td>\n",
       "      <td>232606</td>\n",
       "      <td>36529074</td>\n",
       "    </tr>\n",
       "    <tr>\n",
       "      <th>5</th>\n",
       "      <td>California</td>\n",
       "      <td>2021-01-17</td>\n",
       "      <td>3014428</td>\n",
       "      <td>33810</td>\n",
       "      <td>22502</td>\n",
       "      <td>2958116</td>\n",
       "      <td>260838</td>\n",
       "      <td>36497795</td>\n",
       "    </tr>\n",
       "    <tr>\n",
       "      <th>6</th>\n",
       "      <td>California</td>\n",
       "      <td>2021-01-18</td>\n",
       "      <td>3043005</td>\n",
       "      <td>33961</td>\n",
       "      <td>23032</td>\n",
       "      <td>2986012</td>\n",
       "      <td>260838</td>\n",
       "      <td>36469218</td>\n",
       "    </tr>\n",
       "    <tr>\n",
       "      <th>7</th>\n",
       "      <td>California</td>\n",
       "      <td>2021-01-19</td>\n",
       "      <td>3078551</td>\n",
       "      <td>34656</td>\n",
       "      <td>22768</td>\n",
       "      <td>3021127</td>\n",
       "      <td>260838</td>\n",
       "      <td>36433672</td>\n",
       "    </tr>\n",
       "    <tr>\n",
       "      <th>8</th>\n",
       "      <td>California</td>\n",
       "      <td>2021-01-20</td>\n",
       "      <td>3097632</td>\n",
       "      <td>35277</td>\n",
       "      <td>22603</td>\n",
       "      <td>3039752</td>\n",
       "      <td>273276</td>\n",
       "      <td>36414591</td>\n",
       "    </tr>\n",
       "    <tr>\n",
       "      <th>9</th>\n",
       "      <td>California</td>\n",
       "      <td>2021-01-21</td>\n",
       "      <td>3122705</td>\n",
       "      <td>36036</td>\n",
       "      <td>26404</td>\n",
       "      <td>3060265</td>\n",
       "      <td>293834</td>\n",
       "      <td>36389518</td>\n",
       "    </tr>\n",
       "    <tr>\n",
       "      <th>10</th>\n",
       "      <td>California</td>\n",
       "      <td>2021-01-22</td>\n",
       "      <td>3147207</td>\n",
       "      <td>36615</td>\n",
       "      <td>22534</td>\n",
       "      <td>3088058</td>\n",
       "      <td>321839</td>\n",
       "      <td>36365016</td>\n",
       "    </tr>\n",
       "    <tr>\n",
       "      <th>11</th>\n",
       "      <td>California</td>\n",
       "      <td>2021-01-23</td>\n",
       "      <td>3168028</td>\n",
       "      <td>37101</td>\n",
       "      <td>20038</td>\n",
       "      <td>3110889</td>\n",
       "      <td>341731</td>\n",
       "      <td>36344195</td>\n",
       "    </tr>\n",
       "    <tr>\n",
       "      <th>12</th>\n",
       "      <td>California</td>\n",
       "      <td>2021-01-24</td>\n",
       "      <td>3187475</td>\n",
       "      <td>37376</td>\n",
       "      <td>18692</td>\n",
       "      <td>3131407</td>\n",
       "      <td>356382</td>\n",
       "      <td>36324748</td>\n",
       "    </tr>\n",
       "    <tr>\n",
       "      <th>13</th>\n",
       "      <td>California</td>\n",
       "      <td>2021-01-25</td>\n",
       "      <td>3213222</td>\n",
       "      <td>37800</td>\n",
       "      <td>-257</td>\n",
       "      <td>3175679</td>\n",
       "      <td>371482</td>\n",
       "      <td>36299001</td>\n",
       "    </tr>\n",
       "    <tr>\n",
       "      <th>14</th>\n",
       "      <td>California</td>\n",
       "      <td>2021-01-26</td>\n",
       "      <td>3235045</td>\n",
       "      <td>38496</td>\n",
       "      <td>-228</td>\n",
       "      <td>3196777</td>\n",
       "      <td>387563</td>\n",
       "      <td>36277178</td>\n",
       "    </tr>\n",
       "    <tr>\n",
       "      <th>15</th>\n",
       "      <td>California</td>\n",
       "      <td>2021-01-27</td>\n",
       "      <td>3251292</td>\n",
       "      <td>39050</td>\n",
       "      <td>410</td>\n",
       "      <td>3211832</td>\n",
       "      <td>417606</td>\n",
       "      <td>36260931</td>\n",
       "    </tr>\n",
       "    <tr>\n",
       "      <th>16</th>\n",
       "      <td>California</td>\n",
       "      <td>2021-01-28</td>\n",
       "      <td>3273905</td>\n",
       "      <td>39817</td>\n",
       "      <td>-243</td>\n",
       "      <td>3234331</td>\n",
       "      <td>458585</td>\n",
       "      <td>36238318</td>\n",
       "    </tr>\n",
       "    <tr>\n",
       "      <th>17</th>\n",
       "      <td>California</td>\n",
       "      <td>2021-01-29</td>\n",
       "      <td>3293531</td>\n",
       "      <td>40497</td>\n",
       "      <td>-259</td>\n",
       "      <td>3253293</td>\n",
       "      <td>487552</td>\n",
       "      <td>36218692</td>\n",
       "    </tr>\n",
       "    <tr>\n",
       "      <th>18</th>\n",
       "      <td>California</td>\n",
       "      <td>2021-01-30</td>\n",
       "      <td>3310949</td>\n",
       "      <td>40976</td>\n",
       "      <td>-274</td>\n",
       "      <td>3270247</td>\n",
       "      <td>524350</td>\n",
       "      <td>36201274</td>\n",
       "    </tr>\n",
       "    <tr>\n",
       "      <th>19</th>\n",
       "      <td>California</td>\n",
       "      <td>2021-01-31</td>\n",
       "      <td>3324264</td>\n",
       "      <td>41211</td>\n",
       "      <td>-283</td>\n",
       "      <td>3283336</td>\n",
       "      <td>558977</td>\n",
       "      <td>36187959</td>\n",
       "    </tr>\n",
       "    <tr>\n",
       "      <th>20</th>\n",
       "      <td>California</td>\n",
       "      <td>2021-02-01</td>\n",
       "      <td>3342647</td>\n",
       "      <td>41702</td>\n",
       "      <td>-300</td>\n",
       "      <td>3301245</td>\n",
       "      <td>581985</td>\n",
       "      <td>36169576</td>\n",
       "    </tr>\n",
       "    <tr>\n",
       "      <th>21</th>\n",
       "      <td>California</td>\n",
       "      <td>2021-02-02</td>\n",
       "      <td>3355781</td>\n",
       "      <td>42157</td>\n",
       "      <td>-255</td>\n",
       "      <td>3313879</td>\n",
       "      <td>592045</td>\n",
       "      <td>36156442</td>\n",
       "    </tr>\n",
       "    <tr>\n",
       "      <th>22</th>\n",
       "      <td>California</td>\n",
       "      <td>2021-02-03</td>\n",
       "      <td>3368281</td>\n",
       "      <td>42762</td>\n",
       "      <td>-278</td>\n",
       "      <td>3325797</td>\n",
       "      <td>613845</td>\n",
       "      <td>36143942</td>\n",
       "    </tr>\n",
       "    <tr>\n",
       "      <th>23</th>\n",
       "      <td>California</td>\n",
       "      <td>2021-02-04</td>\n",
       "      <td>3382932</td>\n",
       "      <td>43387</td>\n",
       "      <td>-267</td>\n",
       "      <td>3339812</td>\n",
       "      <td>625189</td>\n",
       "      <td>36129291</td>\n",
       "    </tr>\n",
       "    <tr>\n",
       "      <th>24</th>\n",
       "      <td>California</td>\n",
       "      <td>2021-02-05</td>\n",
       "      <td>3399745</td>\n",
       "      <td>44019</td>\n",
       "      <td>-329</td>\n",
       "      <td>3356055</td>\n",
       "      <td>675027</td>\n",
       "      <td>36112478</td>\n",
       "    </tr>\n",
       "    <tr>\n",
       "      <th>25</th>\n",
       "      <td>California</td>\n",
       "      <td>2021-02-06</td>\n",
       "      <td>3408241</td>\n",
       "      <td>44361</td>\n",
       "      <td>-370</td>\n",
       "      <td>3364250</td>\n",
       "      <td>727993</td>\n",
       "      <td>36103982</td>\n",
       "    </tr>\n",
       "    <tr>\n",
       "      <th>26</th>\n",
       "      <td>California</td>\n",
       "      <td>2021-02-07</td>\n",
       "      <td>3417982</td>\n",
       "      <td>44594</td>\n",
       "      <td>-439</td>\n",
       "      <td>3373827</td>\n",
       "      <td>808832</td>\n",
       "      <td>36094241</td>\n",
       "    </tr>\n",
       "    <tr>\n",
       "      <th>27</th>\n",
       "      <td>California</td>\n",
       "      <td>2021-02-08</td>\n",
       "      <td>3432088</td>\n",
       "      <td>44940</td>\n",
       "      <td>-446</td>\n",
       "      <td>3387594</td>\n",
       "      <td>847993</td>\n",
       "      <td>36080135</td>\n",
       "    </tr>\n",
       "    <tr>\n",
       "      <th>28</th>\n",
       "      <td>California</td>\n",
       "      <td>2021-02-09</td>\n",
       "      <td>3442672</td>\n",
       "      <td>45454</td>\n",
       "      <td>-445</td>\n",
       "      <td>3397663</td>\n",
       "      <td>875340</td>\n",
       "      <td>36069551</td>\n",
       "    </tr>\n",
       "    <tr>\n",
       "      <th>29</th>\n",
       "      <td>California</td>\n",
       "      <td>2021-02-10</td>\n",
       "      <td>3451176</td>\n",
       "      <td>45925</td>\n",
       "      <td>-429</td>\n",
       "      <td>3405680</td>\n",
       "      <td>928615</td>\n",
       "      <td>36061047</td>\n",
       "    </tr>\n",
       "    <tr>\n",
       "      <th>30</th>\n",
       "      <td>California</td>\n",
       "      <td>2021-02-11</td>\n",
       "      <td>3461753</td>\n",
       "      <td>46475</td>\n",
       "      <td>-453</td>\n",
       "      <td>3415731</td>\n",
       "      <td>990128</td>\n",
       "      <td>36050470</td>\n",
       "    </tr>\n",
       "    <tr>\n",
       "      <th>31</th>\n",
       "      <td>California</td>\n",
       "      <td>2021-02-12</td>\n",
       "      <td>3471311</td>\n",
       "      <td>46932</td>\n",
       "      <td>-466</td>\n",
       "      <td>3424845</td>\n",
       "      <td>1081040</td>\n",
       "      <td>36040912</td>\n",
       "    </tr>\n",
       "    <tr>\n",
       "      <th>32</th>\n",
       "      <td>California</td>\n",
       "      <td>2021-02-13</td>\n",
       "      <td>3480228</td>\n",
       "      <td>47349</td>\n",
       "      <td>-475</td>\n",
       "      <td>3433354</td>\n",
       "      <td>1178577</td>\n",
       "      <td>36031995</td>\n",
       "    </tr>\n",
       "    <tr>\n",
       "      <th>33</th>\n",
       "      <td>California</td>\n",
       "      <td>2021-02-14</td>\n",
       "      <td>3485841</td>\n",
       "      <td>47564</td>\n",
       "      <td>-507</td>\n",
       "      <td>3438784</td>\n",
       "      <td>1287390</td>\n",
       "      <td>36026382</td>\n",
       "    </tr>\n",
       "    <tr>\n",
       "      <th>34</th>\n",
       "      <td>California</td>\n",
       "      <td>2021-02-15</td>\n",
       "      <td>3491392</td>\n",
       "      <td>47630</td>\n",
       "      <td>-511</td>\n",
       "      <td>3444273</td>\n",
       "      <td>1371806</td>\n",
       "      <td>36020831</td>\n",
       "    </tr>\n",
       "    <tr>\n",
       "      <th>35</th>\n",
       "      <td>California</td>\n",
       "      <td>2021-02-16</td>\n",
       "      <td>3499871</td>\n",
       "      <td>48037</td>\n",
       "      <td>-527</td>\n",
       "      <td>3452361</td>\n",
       "      <td>1456222</td>\n",
       "      <td>36012352</td>\n",
       "    </tr>\n",
       "    <tr>\n",
       "      <th>36</th>\n",
       "      <td>California</td>\n",
       "      <td>2021-02-17</td>\n",
       "      <td>3506402</td>\n",
       "      <td>48457</td>\n",
       "      <td>-521</td>\n",
       "      <td>3458466</td>\n",
       "      <td>1507829</td>\n",
       "      <td>36005821</td>\n",
       "    </tr>\n",
       "    <tr>\n",
       "      <th>37</th>\n",
       "      <td>California</td>\n",
       "      <td>2021-02-18</td>\n",
       "      <td>3512396</td>\n",
       "      <td>48824</td>\n",
       "      <td>-257</td>\n",
       "      <td>3463829</td>\n",
       "      <td>1581541</td>\n",
       "      <td>35999827</td>\n",
       "    </tr>\n",
       "    <tr>\n",
       "      <th>38</th>\n",
       "      <td>California</td>\n",
       "      <td>2021-02-19</td>\n",
       "      <td>3521225</td>\n",
       "      <td>49380</td>\n",
       "      <td>-544</td>\n",
       "      <td>3472389</td>\n",
       "      <td>1753917</td>\n",
       "      <td>35990998</td>\n",
       "    </tr>\n",
       "    <tr>\n",
       "      <th>39</th>\n",
       "      <td>California</td>\n",
       "      <td>2021-02-20</td>\n",
       "      <td>3527338</td>\n",
       "      <td>49680</td>\n",
       "      <td>-560</td>\n",
       "      <td>3478218</td>\n",
       "      <td>1864867</td>\n",
       "      <td>35984885</td>\n",
       "    </tr>\n",
       "    <tr>\n",
       "      <th>40</th>\n",
       "      <td>California</td>\n",
       "      <td>2021-02-21</td>\n",
       "      <td>3531846</td>\n",
       "      <td>49936</td>\n",
       "      <td>-591</td>\n",
       "      <td>3482501</td>\n",
       "      <td>1974488</td>\n",
       "      <td>35980377</td>\n",
       "    </tr>\n",
       "    <tr>\n",
       "      <th>41</th>\n",
       "      <td>California</td>\n",
       "      <td>2021-02-22</td>\n",
       "      <td>3536946</td>\n",
       "      <td>50151</td>\n",
       "      <td>-610</td>\n",
       "      <td>3487405</td>\n",
       "      <td>2045420</td>\n",
       "      <td>35975277</td>\n",
       "    </tr>\n",
       "    <tr>\n",
       "      <th>42</th>\n",
       "      <td>California</td>\n",
       "      <td>2021-02-23</td>\n",
       "      <td>3543340</td>\n",
       "      <td>50496</td>\n",
       "      <td>-608</td>\n",
       "      <td>3493452</td>\n",
       "      <td>2102729</td>\n",
       "      <td>35968883</td>\n",
       "    </tr>\n",
       "    <tr>\n",
       "      <th>43</th>\n",
       "      <td>California</td>\n",
       "      <td>2021-02-24</td>\n",
       "      <td>3549090</td>\n",
       "      <td>51582</td>\n",
       "      <td>-610</td>\n",
       "      <td>3498118</td>\n",
       "      <td>2170406</td>\n",
       "      <td>35963133</td>\n",
       "    </tr>\n",
       "    <tr>\n",
       "      <th>44</th>\n",
       "      <td>California</td>\n",
       "      <td>2021-02-25</td>\n",
       "      <td>3554629</td>\n",
       "      <td>52082</td>\n",
       "      <td>-687</td>\n",
       "      <td>3503234</td>\n",
       "      <td>2259934</td>\n",
       "      <td>35957594</td>\n",
       "    </tr>\n",
       "    <tr>\n",
       "      <th>45</th>\n",
       "      <td>California</td>\n",
       "      <td>2021-02-26</td>\n",
       "      <td>3559682</td>\n",
       "      <td>52435</td>\n",
       "      <td>-270</td>\n",
       "      <td>3507517</td>\n",
       "      <td>2380502</td>\n",
       "      <td>35952541</td>\n",
       "    </tr>\n",
       "    <tr>\n",
       "      <th>46</th>\n",
       "      <td>California</td>\n",
       "      <td>2021-02-27</td>\n",
       "      <td>3564094</td>\n",
       "      <td>52599</td>\n",
       "      <td>-130</td>\n",
       "      <td>3511625</td>\n",
       "      <td>2502426</td>\n",
       "      <td>35948129</td>\n",
       "    </tr>\n",
       "    <tr>\n",
       "      <th>47</th>\n",
       "      <td>California</td>\n",
       "      <td>2021-02-28</td>\n",
       "      <td>3567582</td>\n",
       "      <td>52835</td>\n",
       "      <td>-9</td>\n",
       "      <td>3514756</td>\n",
       "      <td>2609341</td>\n",
       "      <td>35944641</td>\n",
       "    </tr>\n",
       "    <tr>\n",
       "      <th>48</th>\n",
       "      <td>California</td>\n",
       "      <td>2021-03-01</td>\n",
       "      <td>3573549</td>\n",
       "      <td>53146</td>\n",
       "      <td>-655</td>\n",
       "      <td>3521058</td>\n",
       "      <td>2740495</td>\n",
       "      <td>35938674</td>\n",
       "    </tr>\n",
       "    <tr>\n",
       "      <th>49</th>\n",
       "      <td>California</td>\n",
       "      <td>2021-03-02</td>\n",
       "      <td>3577966</td>\n",
       "      <td>53449</td>\n",
       "      <td>-651</td>\n",
       "      <td>3525168</td>\n",
       "      <td>2900991</td>\n",
       "      <td>35934257</td>\n",
       "    </tr>\n",
       "    <tr>\n",
       "      <th>50</th>\n",
       "      <td>California</td>\n",
       "      <td>2021-03-03</td>\n",
       "      <td>3582320</td>\n",
       "      <td>53728</td>\n",
       "      <td>-645</td>\n",
       "      <td>3529237</td>\n",
       "      <td>2992863</td>\n",
       "      <td>35929903</td>\n",
       "    </tr>\n",
       "    <tr>\n",
       "      <th>51</th>\n",
       "      <td>California</td>\n",
       "      <td>2021-03-04</td>\n",
       "      <td>3587567</td>\n",
       "      <td>54108</td>\n",
       "      <td>-642</td>\n",
       "      <td>3534101</td>\n",
       "      <td>3042381</td>\n",
       "      <td>35924656</td>\n",
       "    </tr>\n",
       "    <tr>\n",
       "      <th>52</th>\n",
       "      <td>California</td>\n",
       "      <td>2021-03-05</td>\n",
       "      <td>3592560</td>\n",
       "      <td>54495</td>\n",
       "      <td>-641</td>\n",
       "      <td>3538706</td>\n",
       "      <td>3124031</td>\n",
       "      <td>35919663</td>\n",
       "    </tr>\n",
       "    <tr>\n",
       "      <th>53</th>\n",
       "      <td>California</td>\n",
       "      <td>2021-03-06</td>\n",
       "      <td>3596760</td>\n",
       "      <td>54771</td>\n",
       "      <td>-637</td>\n",
       "      <td>3542626</td>\n",
       "      <td>3259014</td>\n",
       "      <td>35915463</td>\n",
       "    </tr>\n",
       "  </tbody>\n",
       "</table>\n",
       "</div>"
      ],
      "text/plain": [
       "   Province_State       Date  Confirmed  Deaths  Recovered   Active  \\\n",
       "0      California 2021-01-12    2832085   31345      27234  2773506   \n",
       "1      California 2021-01-13    2870104   31871      26855  2811378   \n",
       "2      California 2021-01-14    2910044   32517      26146  2851381   \n",
       "3      California 2021-01-15    2948054   33192      25174  2889688   \n",
       "4      California 2021-01-16    2983149   33574      23120  2926455   \n",
       "5      California 2021-01-17    3014428   33810      22502  2958116   \n",
       "6      California 2021-01-18    3043005   33961      23032  2986012   \n",
       "7      California 2021-01-19    3078551   34656      22768  3021127   \n",
       "8      California 2021-01-20    3097632   35277      22603  3039752   \n",
       "9      California 2021-01-21    3122705   36036      26404  3060265   \n",
       "10     California 2021-01-22    3147207   36615      22534  3088058   \n",
       "11     California 2021-01-23    3168028   37101      20038  3110889   \n",
       "12     California 2021-01-24    3187475   37376      18692  3131407   \n",
       "13     California 2021-01-25    3213222   37800       -257  3175679   \n",
       "14     California 2021-01-26    3235045   38496       -228  3196777   \n",
       "15     California 2021-01-27    3251292   39050        410  3211832   \n",
       "16     California 2021-01-28    3273905   39817       -243  3234331   \n",
       "17     California 2021-01-29    3293531   40497       -259  3253293   \n",
       "18     California 2021-01-30    3310949   40976       -274  3270247   \n",
       "19     California 2021-01-31    3324264   41211       -283  3283336   \n",
       "20     California 2021-02-01    3342647   41702       -300  3301245   \n",
       "21     California 2021-02-02    3355781   42157       -255  3313879   \n",
       "22     California 2021-02-03    3368281   42762       -278  3325797   \n",
       "23     California 2021-02-04    3382932   43387       -267  3339812   \n",
       "24     California 2021-02-05    3399745   44019       -329  3356055   \n",
       "25     California 2021-02-06    3408241   44361       -370  3364250   \n",
       "26     California 2021-02-07    3417982   44594       -439  3373827   \n",
       "27     California 2021-02-08    3432088   44940       -446  3387594   \n",
       "28     California 2021-02-09    3442672   45454       -445  3397663   \n",
       "29     California 2021-02-10    3451176   45925       -429  3405680   \n",
       "30     California 2021-02-11    3461753   46475       -453  3415731   \n",
       "31     California 2021-02-12    3471311   46932       -466  3424845   \n",
       "32     California 2021-02-13    3480228   47349       -475  3433354   \n",
       "33     California 2021-02-14    3485841   47564       -507  3438784   \n",
       "34     California 2021-02-15    3491392   47630       -511  3444273   \n",
       "35     California 2021-02-16    3499871   48037       -527  3452361   \n",
       "36     California 2021-02-17    3506402   48457       -521  3458466   \n",
       "37     California 2021-02-18    3512396   48824       -257  3463829   \n",
       "38     California 2021-02-19    3521225   49380       -544  3472389   \n",
       "39     California 2021-02-20    3527338   49680       -560  3478218   \n",
       "40     California 2021-02-21    3531846   49936       -591  3482501   \n",
       "41     California 2021-02-22    3536946   50151       -610  3487405   \n",
       "42     California 2021-02-23    3543340   50496       -608  3493452   \n",
       "43     California 2021-02-24    3549090   51582       -610  3498118   \n",
       "44     California 2021-02-25    3554629   52082       -687  3503234   \n",
       "45     California 2021-02-26    3559682   52435       -270  3507517   \n",
       "46     California 2021-02-27    3564094   52599       -130  3511625   \n",
       "47     California 2021-02-28    3567582   52835         -9  3514756   \n",
       "48     California 2021-03-01    3573549   53146       -655  3521058   \n",
       "49     California 2021-03-02    3577966   53449       -651  3525168   \n",
       "50     California 2021-03-03    3582320   53728       -645  3529237   \n",
       "51     California 2021-03-04    3587567   54108       -642  3534101   \n",
       "52     California 2021-03-05    3592560   54495       -641  3538706   \n",
       "53     California 2021-03-06    3596760   54771       -637  3542626   \n",
       "\n",
       "    Vaccinated  Susceptible  \n",
       "0       100089     36680138  \n",
       "1       133689     36642119  \n",
       "2       169031     36602179  \n",
       "3       204374     36564169  \n",
       "4       232606     36529074  \n",
       "5       260838     36497795  \n",
       "6       260838     36469218  \n",
       "7       260838     36433672  \n",
       "8       273276     36414591  \n",
       "9       293834     36389518  \n",
       "10      321839     36365016  \n",
       "11      341731     36344195  \n",
       "12      356382     36324748  \n",
       "13      371482     36299001  \n",
       "14      387563     36277178  \n",
       "15      417606     36260931  \n",
       "16      458585     36238318  \n",
       "17      487552     36218692  \n",
       "18      524350     36201274  \n",
       "19      558977     36187959  \n",
       "20      581985     36169576  \n",
       "21      592045     36156442  \n",
       "22      613845     36143942  \n",
       "23      625189     36129291  \n",
       "24      675027     36112478  \n",
       "25      727993     36103982  \n",
       "26      808832     36094241  \n",
       "27      847993     36080135  \n",
       "28      875340     36069551  \n",
       "29      928615     36061047  \n",
       "30      990128     36050470  \n",
       "31     1081040     36040912  \n",
       "32     1178577     36031995  \n",
       "33     1287390     36026382  \n",
       "34     1371806     36020831  \n",
       "35     1456222     36012352  \n",
       "36     1507829     36005821  \n",
       "37     1581541     35999827  \n",
       "38     1753917     35990998  \n",
       "39     1864867     35984885  \n",
       "40     1974488     35980377  \n",
       "41     2045420     35975277  \n",
       "42     2102729     35968883  \n",
       "43     2170406     35963133  \n",
       "44     2259934     35957594  \n",
       "45     2380502     35952541  \n",
       "46     2502426     35948129  \n",
       "47     2609341     35944641  \n",
       "48     2740495     35938674  \n",
       "49     2900991     35934257  \n",
       "50     2992863     35929903  \n",
       "51     3042381     35924656  \n",
       "52     3124031     35919663  \n",
       "53     3259014     35915463  "
      ]
     },
     "execution_count": 21,
     "metadata": {},
     "output_type": "execute_result"
    }
   ],
   "source": [
    "states_df[\"California\"]"
   ]
  },
  {
   "cell_type": "code",
   "execution_count": 22,
   "id": "instructional-musician",
   "metadata": {},
   "outputs": [],
   "source": [
    "# death_labels = {}\n",
    "# recovered_labels = {}\n",
    "# active_labels = {}\n",
    "# vaccine_labels = {}"
   ]
  },
  {
   "cell_type": "code",
   "execution_count": 23,
   "id": "smaller-edward",
   "metadata": {},
   "outputs": [],
   "source": [
    "# thres_death = 2000\n",
    "# thres_recover = 1000\n",
    "# thres_active = 100000\n",
    "# for state in states_df:\n",
    "#     death_labels[state] = states_df[state][\"Deaths\"].diff()\n",
    "#     recovered_labels[state] = states_df[state][\"Recovered\"].diff()\n",
    "#     active_labels[state] = states_df[state][\"Active\"].diff()\n",
    "#     vaccine_labels[state] = states_df[state][\"Vaccinated\"].diff()\n",
    "#     death_labels[state].dropna(inplace=True)\n",
    "#     recovered_labels[state].dropna(inplace=True)\n",
    "#     active_labels[state].dropna(inplace=True)\n",
    "#     vaccine_labels[state].dropna(inplace=True)\n",
    "#     death_labels[state][(death_labels[state] < 0) | (death_labels[state] >= thres_death)] = np.median(death_labels[state][(death_labels[state] >= 0) & (death_labels[state] < thres_death)])\n",
    "#     recovered_labels[state][(recovered_labels[state] < 0) | (recovered_labels[state] >= thres_recover)] = np.median(recovered_labels[state][(recovered_labels[state] >= 0) & (recovered_labels[state] < thres_recover)])\n",
    "#     active_labels[state][(active_labels[state] < 0) | (active_labels[state] >= thres_active)] = np.median(active_labels[state][(active_labels[state] >= 0) & (active_labels[state] < thres_active)])"
   ]
  },
  {
   "cell_type": "code",
   "execution_count": 24,
   "id": "academic-accreditation",
   "metadata": {},
   "outputs": [],
   "source": [
    "# death_features = {}\n",
    "# recovered_features = {}\n",
    "# active_features = {}\n",
    "# vaccine_features = {}"
   ]
  },
  {
   "cell_type": "code",
   "execution_count": 25,
   "id": "global-nickel",
   "metadata": {},
   "outputs": [],
   "source": [
    "# '''\n",
    "# dI/dt = inf_r * S[i] * I[i] / N - rec_r * I[i]\n",
    "# dR/dt = rec_r * I[i] - re_i_r * R[i] \n",
    "# dD/dt = d_r * I[i]\n",
    "# for each day\n",
    "# [      [                                             [\n",
    "# dI/dt   [ S[i]*I[i]/N  -I[i]   0    0  -S[i] ]      inf_r\n",
    "# dR/dt = [ 0             I[i] -R[i]  0    0   ]  *   rec_r   \n",
    "# dD/dt   [ 0              0     0   I[i]  0   ]      re_i_r\n",
    "# dV/dt = [ 0              0     0    0   S[i] ]      d_r\n",
    "# ]      ]                                            v_r\n",
    "#                                                      ]\n",
    "# '''\n",
    "\n",
    "# for state in states_df:\n",
    "#     S = states_df[state][\"Susceptible\"]\n",
    "#     I = states_df[state][\"Active\"]\n",
    "#     R = states_df[state][\"Recovered\"]\n",
    "#     D = states_df[state][\"Deaths\"]\n",
    "#     V = states_df[state][\"Vaccinated\"]\n",
    "#     N = S + I + R + D + V\n",
    "#     death_features[state] = pd.DataFrame({'inf_r': [0 for i in D.index], 'rec_r': [0 for i in D.index], 're_i_r': [0 for i in D.index], 'd_r': [I[i] for i in D.index], 'v_r': [0 for i in D.index]}, index=D.index)\n",
    "#     recovered_features[state] = pd.DataFrame({'inf_r': [0 for i in D.index], 'rec_r': [I[i] for i in D.index], 're_i_r': [R[i] for i in D.index], 'd_r': [0 for i in D.index], 'v_r': [-S[i] for i in D.index]},index=D.index)\n",
    "#     active_features[state] = pd.DataFrame({'inf_r': [S[i]*I[i]/N[i] for i in D.index], 'rec_r': [-I[i] for i in D.index], 're_i_r': [0 for i in D.index], 'd_r': [0 for i in D.index], 'v_r': [0 for i in D.index]},index=D.index)\n",
    "#     vaccine_features[state] = pd.DataFrame({'inf_r': [0 for i in D.index], 'rec_r': [0 for i in D.index], 're_i_r': [0 for i in D.index], 'd_r': [0 for i in D.index], 'v_r': [S[i] for i in D.index]}, index=D.index)\n",
    "#     death_features[state].drop(death_features[state].tail(1).index, inplace=True)\n",
    "#     recovered_features[state].drop(recovered_features[state].tail(1).index, inplace=True)\n",
    "#     active_features[state].drop(active_features[state].tail(1).index, inplace=True)\n",
    "#     vaccine_features[state].drop(vaccine_features[state].tail(1).index, inplace=True)"
   ]
  },
  {
   "cell_type": "code",
   "execution_count": 26,
   "id": "heavy-school",
   "metadata": {},
   "outputs": [],
   "source": [
    "# X_total = {}\n",
    "# y_total = {}\n",
    "# for state in states_df:\n",
    "#     y_total[state] = pd.concat([death_labels[state] , recovered_labels[state] , active_labels[state], vaccine_labels[state]]).sort_index().reset_index(drop=True)\n",
    "#     X_total[state] = pd.concat([death_features[state] , recovered_features[state] , active_features[state], vaccine_features[state]]).sort_index().reset_index(drop=True)\n",
    "# X_total[\"California\"]"
   ]
  },
  {
   "cell_type": "code",
   "execution_count": 27,
   "id": "elder-thursday",
   "metadata": {},
   "outputs": [],
   "source": [
    "# y_total[\"California\"]"
   ]
  },
  {
   "cell_type": "code",
   "execution_count": 28,
   "id": "greenhouse-stephen",
   "metadata": {},
   "outputs": [],
   "source": [
    "# train_rates = {}\n",
    "# for state in states_df:\n",
    "#     best_score = 0\n",
    "#     best_coefs = []\n",
    "#     for start in range(0, 60, 4):\n",
    "#         for subsize in range(20, 152, 4):\n",
    "#             X_state = X_total[state][start:start+subsize]\n",
    "#             y_state = y_total[state][start:start+subsize]\n",
    "#             linmd = LinearRegression(positive=True, normalize=True)\n",
    "#             linmd.fit(X_state, y_state)\n",
    "#             score = linmd.score(X_total[state], y_total[state])\n",
    "#             coefs = linmd.coef_\n",
    "#             if score > best_score:\n",
    "#                 best_score = score\n",
    "#                 best_coefs = coefs\n",
    "#     train_rates[state] = {\n",
    "#         'inf_r' : best_coefs[0],\n",
    "#         'rec_r': best_coefs[1],\n",
    "#         're_i_r': best_coefs[2],\n",
    "#         'd_r': best_coefs[3],\n",
    "#         'v_r': best_coefs[4]\n",
    "#     }\n",
    "#     print(\"{}: {}\".format(state, best_score))\n"
   ]
  },
  {
   "cell_type": "code",
   "execution_count": null,
   "id": "straight-scanning",
   "metadata": {},
   "outputs": [],
   "source": []
  },
  {
   "cell_type": "code",
   "execution_count": 29,
   "id": "functioning-unemployment",
   "metadata": {},
   "outputs": [],
   "source": [
    "# linear estimator\n",
    "def linear(state):\n",
    "    new_f = states_df_og[state][[\"Confirmed\", \"Deaths\"]].reset_index(drop=True)\n",
    "    new_f[\"Days\"] = new_f.index\n",
    "    features = new_f[\"Days\"].to_numpy().reshape(-1, 1)\n",
    "    deaths = new_f[\"Deaths\"].to_numpy()\n",
    "    confirmed = new_f[\"Confirmed\"].to_numpy()\n",
    "    lr = LinearRegression(positive=True)\n",
    "    lr2 = SVR(kernel='linear', tol=1e-7, C=2)\n",
    "    lr.fit(features, deaths)\n",
    "    lr2.fit(features, confirmed)\n",
    "    preds = lr.predict(features)\n",
    "    preds2 = lr2.predict(features)\n",
    "    score1 = mean_absolute_percentage_error(preds, deaths)\n",
    "    score2 = mean_absolute_percentage_error(preds2, confirmed)\n",
    "    print(state, score1*100, score2*100)\n",
    "    new_features = np.linspace(79, 109, 30).reshape(-1, 1)\n",
    "    deaths_new = lr.predict(new_features)\n",
    "    confirms_new = lr2.predict(new_features)\n",
    "    start_date = pd.to_datetime(\"04-01-2021\")\n",
    "    for i in range(30):\n",
    "        date = start_date + timedelta(days=i)\n",
    "        entry = test_data[(test_data[\"Province_State\"]==state) & (pd.to_datetime(test_data[\"Date\"]) ==date)]\n",
    "        test_id = entry.index[0]\n",
    "        #sub_data.loc[test_id,[\"Confirmed\"]] = confirms_new[i]\n",
    "        sub_data.loc[test_id,[\"Deaths\"]] = deaths_new[i]"
   ]
  },
  {
   "cell_type": "code",
   "execution_count": 30,
   "id": "critical-induction",
   "metadata": {},
   "outputs": [],
   "source": [
    "# autoregressive performance note:\n",
    "# baseline: 1.99955\n",
    "# linear on kentucky: 1.85160\n",
    "# Positive linear: 1.35086\n",
    "# SVR for cases, positive linear for deaths: 1.24997\n",
    "# window size for deaths 5-40: 1.23201"
   ]
  },
  {
   "cell_type": "code",
   "execution_count": 31,
   "id": "healthy-scoop",
   "metadata": {},
   "outputs": [
    {
     "name": "stdout",
     "output_type": "stream",
     "text": [
      "9 43\n",
      "Alabama 0.14395953254732047 0.05527550686158378\n"
     ]
    },
    {
     "data": {
      "image/png": "[encoded data removed]",
      "text/plain": [
       "<Figure size 432x288 with 1 Axes>"
      ]
     },
     "metadata": {
      "needs_background": "light"
     },
     "output_type": "display_data"
    },
    {
     "name": "stdout",
     "output_type": "stream",
     "text": [
      "69 36\n",
      "Alaska 0.1742473913045431 0.28823978469918804\n"
     ]
    },
    {
     "data": {
      "image/png": "[encoded data removed]",
      "text/plain": [
       "<Figure size 432x288 with 1 Axes>"
      ]
     },
     "metadata": {
      "needs_background": "light"
     },
     "output_type": "display_data"
    },
    {
     "name": "stdout",
     "output_type": "stream",
     "text": [
      "56 42\n",
      "Arizona 0.03474001392292212 0.07850127429608954\n"
     ]
    },
    {
     "data": {
      "image/png": "[encoded data removed]",
      "text/plain": [
       "<Figure size 432x288 with 1 Axes>"
      ]
     },
     "metadata": {
      "needs_background": "light"
     },
     "output_type": "display_data"
    },
    {
     "name": "stdout",
     "output_type": "stream",
     "text": [
      "60 25\n",
      "Arkansas 0.03611934516133543 0.1826266535017694\n"
     ]
    },
    {
     "data": {
      "image/png": "[encoded data removed]",
      "text/plain": [
       "<Figure size 432x288 with 1 Axes>"
      ]
     },
     "metadata": {
      "needs_background": "light"
     },
     "output_type": "display_data"
    },
    {
     "name": "stdout",
     "output_type": "stream",
     "text": [
      "46 43\n",
      "California 0.016823237409823128 0.07688073052280729\n"
     ]
    },
    {
     "data": {
      "image/png": "[encoded data removed]",
      "text/plain": [
       "<Figure size 432x288 with 1 Axes>"
      ]
     },
     "metadata": {
      "needs_background": "light"
     },
     "output_type": "display_data"
    },
    {
     "name": "stdout",
     "output_type": "stream",
     "text": [
      "69 42\n",
      "Colorado 0.05628473410780707 0.04109380896942701\n"
     ]
    },
    {
     "data": {
      "image/png": "[encoded data removed]",
      "text/plain": [
       "<Figure size 432x288 with 1 Axes>"
      ]
     },
     "metadata": {
      "needs_background": "light"
     },
     "output_type": "display_data"
    },
    {
     "name": "stdout",
     "output_type": "stream",
     "text": [
      "69 39\n",
      "Connecticut 0.15429357553890288 0.03607405773038693\n"
     ]
    },
    {
     "data": {
      "image/png": "[encoded data removed]",
      "text/plain": [
       "<Figure size 432x288 with 1 Axes>"
      ]
     },
     "metadata": {
      "needs_background": "light"
     },
     "output_type": "display_data"
    },
    {
     "name": "stdout",
     "output_type": "stream",
     "text": [
      "58 43\n",
      "Delaware 0.08680734158203358 0.16782880771808303\n"
     ]
    },
    {
     "data": {
      "image/png": "[encoded data removed]",
      "text/plain": [
       "<Figure size 432x288 with 1 Axes>"
      ]
     },
     "metadata": {
      "needs_background": "light"
     },
     "output_type": "display_data"
    },
    {
     "name": "stdout",
     "output_type": "stream",
     "text": [
      "40 41\n",
      "Florida 0.06733425316312738 0.06921276787550586\n"
     ]
    },
    {
     "data": {
      "image/png": "[encoded data removed]",
      "text/plain": [
       "<Figure size 432x288 with 1 Axes>"
      ]
     },
     "metadata": {
      "needs_background": "light"
     },
     "output_type": "display_data"
    },
    {
     "name": "stdout",
     "output_type": "stream",
     "text": [
      "60 43\n",
      "Georgia 0.04172384228749839 0.13156507852454716\n"
     ]
    },
    {
     "data": {
      "image/png": "[encoded data removed]",
      "text/plain": [
       "<Figure size 432x288 with 1 Axes>"
      ]
     },
     "metadata": {
      "needs_background": "light"
     },
     "output_type": "display_data"
    },
    {
     "name": "stdout",
     "output_type": "stream",
     "text": [
      "67 42\n",
      "Hawaii 0.16362866717897578 0.12519524980961855\n"
     ]
    },
    {
     "data": {
      "image/png": "[encoded data removed]",
      "text/plain": [
       "<Figure size 432x288 with 1 Axes>"
      ]
     },
     "metadata": {
      "needs_background": "light"
     },
     "output_type": "display_data"
    },
    {
     "name": "stdout",
     "output_type": "stream",
     "text": [
      "53 43\n",
      "Idaho 0.0921898095108565 0.13639971177742222\n"
     ]
    },
    {
     "data": {
      "image/png": "[encoded data removed]",
      "text/plain": [
       "<Figure size 432x288 with 1 Axes>"
      ]
     },
     "metadata": {
      "needs_background": "light"
     },
     "output_type": "display_data"
    },
    {
     "name": "stdout",
     "output_type": "stream",
     "text": [
      "68 37\n",
      "Illinois 0.049140366900810604 0.027904716983391673\n"
     ]
    },
    {
     "data": {
      "image/png": "[encoded data removed]",
      "text/plain": [
       "<Figure size 432x288 with 1 Axes>"
      ]
     },
     "metadata": {
      "needs_background": "light"
     },
     "output_type": "display_data"
    },
    {
     "name": "stdout",
     "output_type": "stream",
     "text": [
      "18 42\n",
      "Indiana 0.05643114866174891 0.024452284461435318\n"
     ]
    },
    {
     "data": {
      "image/png": "[encoded data removed]",
      "text/plain": [
       "<Figure size 432x288 with 1 Axes>"
      ]
     },
     "metadata": {
      "needs_background": "light"
     },
     "output_type": "display_data"
    },
    {
     "name": "stdout",
     "output_type": "stream",
     "text": [
      "69 41\n",
      "Iowa 0.07931519358242778 0.08758604152810266\n"
     ]
    },
    {
     "data": {
      "image/png": "[encoded data removed]",
      "text/plain": [
       "<Figure size 432x288 with 1 Axes>"
      ]
     },
     "metadata": {
      "needs_background": "light"
     },
     "output_type": "display_data"
    },
    {
     "name": "stdout",
     "output_type": "stream",
     "text": [
      "48 43\n",
      "Kansas 0.05401861217987808 0.23801632948615287\n"
     ]
    },
    {
     "data": {
      "image/png": "[encoded data removed]",
      "text/plain": [
       "<Figure size 432x288 with 1 Axes>"
      ]
     },
     "metadata": {
      "needs_background": "light"
     },
     "output_type": "display_data"
    },
    {
     "name": "stdout",
     "output_type": "stream",
     "text": [
      "59 4\n",
      "Kentucky 0.04070386025639409 0.4727592327116399\n"
     ]
    },
    {
     "data": {
      "image/png": "[encoded data removed]",
      "text/plain": [
       "<Figure size 432x288 with 1 Axes>"
      ]
     },
     "metadata": {
      "needs_background": "light"
     },
     "output_type": "display_data"
    },
    {
     "name": "stdout",
     "output_type": "stream",
     "text": [
      "40 43\n",
      "Louisiana 0.05697115960352184 0.062754362782683\n"
     ]
    },
    {
     "data": {
      "image/png": "[encoded data removed]",
      "text/plain": [
       "<Figure size 432x288 with 1 Axes>"
      ]
     },
     "metadata": {
      "needs_background": "light"
     },
     "output_type": "display_data"
    },
    {
     "name": "stdout",
     "output_type": "stream",
     "text": [
      "62 43\n",
      "Maine 0.054857593301159045 0.23308364615277963\n"
     ]
    },
    {
     "data": {
      "image/png": "[encoded data removed]",
      "text/plain": [
       "<Figure size 432x288 with 1 Axes>"
      ]
     },
     "metadata": {
      "needs_background": "light"
     },
     "output_type": "display_data"
    },
    {
     "name": "stdout",
     "output_type": "stream",
     "text": [
      "68 38\n",
      "Maryland 0.07504680666346314 0.062320805463976545\n"
     ]
    },
    {
     "data": {
      "image/png": "[encoded data removed]",
      "text/plain": [
       "<Figure size 432x288 with 1 Axes>"
      ]
     },
     "metadata": {
      "needs_background": "light"
     },
     "output_type": "display_data"
    },
    {
     "name": "stdout",
     "output_type": "stream",
     "text": [
      "68 43\n",
      "Massachusetts 0.08969136057467283 0.03420259707420419\n"
     ]
    },
    {
     "data": {
      "image/png": "[encoded data removed]",
      "text/plain": [
       "<Figure size 432x288 with 1 Axes>"
      ]
     },
     "metadata": {
      "needs_background": "light"
     },
     "output_type": "display_data"
    },
    {
     "name": "stdout",
     "output_type": "stream",
     "text": [
      "12 43\n",
      "Michigan 0.18398597791252885 0.06585226297841074\n"
     ]
    },
    {
     "data": {
      "image/png": "[encoded data removed]",
      "text/plain": [
       "<Figure size 432x288 with 1 Axes>"
      ]
     },
     "metadata": {
      "needs_background": "light"
     },
     "output_type": "display_data"
    },
    {
     "name": "stdout",
     "output_type": "stream",
     "text": [
      "2 15\n",
      "Minnesota 0.0858192441717121 0.11145915202182134\n"
     ]
    },
    {
     "data": {
      "image/png": "[encoded data removed]",
      "text/plain": [
       "<Figure size 432x288 with 1 Axes>"
      ]
     },
     "metadata": {
      "needs_background": "light"
     },
     "output_type": "display_data"
    },
    {
     "name": "stdout",
     "output_type": "stream",
     "text": [
      "59 40\n",
      "Mississippi 0.04107469205539311 0.07179157258677243\n"
     ]
    },
    {
     "data": {
      "image/png": "[encoded data removed]",
      "text/plain": [
       "<Figure size 432x288 with 1 Axes>"
      ]
     },
     "metadata": {
      "needs_background": "light"
     },
     "output_type": "display_data"
    },
    {
     "name": "stdout",
     "output_type": "stream",
     "text": [
      "33 43\n",
      "Missouri 0.06477733353189975 0.2383396721796486\n"
     ]
    },
    {
     "data": {
      "image/png": "[encoded data removed]",
      "text/plain": [
       "<Figure size 432x288 with 1 Axes>"
      ]
     },
     "metadata": {
      "needs_background": "light"
     },
     "output_type": "display_data"
    },
    {
     "name": "stdout",
     "output_type": "stream",
     "text": [
      "51 42\n",
      "Montana 0.11066784346642786 0.13072231054467456\n"
     ]
    },
    {
     "data": {
      "image/png": "[encoded data removed]",
      "text/plain": [
       "<Figure size 432x288 with 1 Axes>"
      ]
     },
     "metadata": {
      "needs_background": "light"
     },
     "output_type": "display_data"
    },
    {
     "name": "stdout",
     "output_type": "stream",
     "text": [
      "33 42\n",
      "Nebraska 0.0866656471457524 0.16844861737232342\n"
     ]
    },
    {
     "data": {
      "image/png": "[encoded data removed]",
      "text/plain": [
       "<Figure size 432x288 with 1 Axes>"
      ]
     },
     "metadata": {
      "needs_background": "light"
     },
     "output_type": "display_data"
    },
    {
     "name": "stdout",
     "output_type": "stream",
     "text": [
      "48 43\n",
      "Nevada 0.07428365116887577 0.06594855769550487\n"
     ]
    },
    {
     "data": {
      "image/png": "[encoded data removed]",
      "text/plain": [
       "<Figure size 432x288 with 1 Axes>"
      ]
     },
     "metadata": {
      "needs_background": "light"
     },
     "output_type": "display_data"
    },
    {
     "name": "stdout",
     "output_type": "stream",
     "text": [
      "69 42\n",
      "New Hampshire 0.07542580487313266 0.1164991768147885\n"
     ]
    },
    {
     "data": {
      "image/png": "[encoded data removed]",
      "text/plain": [
       "<Figure size 432x288 with 1 Axes>"
      ]
     },
     "metadata": {
      "needs_background": "light"
     },
     "output_type": "display_data"
    },
    {
     "name": "stdout",
     "output_type": "stream",
     "text": [
      "69 42\n",
      "New Jersey 0.04303368459191574 0.04235444021208075\n"
     ]
    },
    {
     "data": {
      "image/png": "[encoded data removed]",
      "text/plain": [
       "<Figure size 432x288 with 1 Axes>"
      ]
     },
     "metadata": {
      "needs_background": "light"
     },
     "output_type": "display_data"
    },
    {
     "name": "stdout",
     "output_type": "stream",
     "text": [
      "47 43\n",
      "New Mexico 0.029071318872297372 0.07625711121306117\n"
     ]
    },
    {
     "data": {
      "image/png": "[encoded data removed]",
      "text/plain": [
       "<Figure size 432x288 with 1 Axes>"
      ]
     },
     "metadata": {
      "needs_background": "light"
     },
     "output_type": "display_data"
    },
    {
     "name": "stdout",
     "output_type": "stream",
     "text": [
      "9 28\n",
      "New York 0.15512051131034643 0.03691852874162038\n"
     ]
    },
    {
     "data": {
      "image/png": "[encoded data removed]",
      "text/plain": [
       "<Figure size 432x288 with 1 Axes>"
      ]
     },
     "metadata": {
      "needs_background": "light"
     },
     "output_type": "display_data"
    },
    {
     "name": "stdout",
     "output_type": "stream",
     "text": [
      "59 43\n",
      "North Carolina 0.09651025048041179 0.12726980992143458\n"
     ]
    },
    {
     "data": {
      "image/png": "[encoded data removed]",
      "text/plain": [
       "<Figure size 432x288 with 1 Axes>"
      ]
     },
     "metadata": {
      "needs_background": "light"
     },
     "output_type": "display_data"
    },
    {
     "name": "stdout",
     "output_type": "stream",
     "text": [
      "3 40\n",
      "North Dakota 0.06409007484439004 0.038173857117415916\n"
     ]
    },
    {
     "data": {
      "image/png": "[encoded data removed]",
      "text/plain": [
       "<Figure size 432x288 with 1 Axes>"
      ]
     },
     "metadata": {
      "needs_background": "light"
     },
     "output_type": "display_data"
    },
    {
     "name": "stdout",
     "output_type": "stream",
     "text": [
      "36 42\n",
      "Ohio 0.06174789714619947 0.010032532122379118\n"
     ]
    },
    {
     "data": {
      "image/png": "[encoded data removed]",
      "text/plain": [
       "<Figure size 432x288 with 1 Axes>"
      ]
     },
     "metadata": {
      "needs_background": "light"
     },
     "output_type": "display_data"
    },
    {
     "name": "stdout",
     "output_type": "stream",
     "text": [
      "54 16\n",
      "Oklahoma 0.049859418842279755 0.36751560907885533\n"
     ]
    },
    {
     "data": {
      "image/png": "[encoded data removed]",
      "text/plain": [
       "<Figure size 432x288 with 1 Axes>"
      ]
     },
     "metadata": {
      "needs_background": "light"
     },
     "output_type": "display_data"
    },
    {
     "name": "stdout",
     "output_type": "stream",
     "text": [
      "51 43\n",
      "Oregon 0.10161679513034796 0.2208332543633304\n"
     ]
    },
    {
     "data": {
      "image/png": "[encoded data removed]",
      "text/plain": [
       "<Figure size 432x288 with 1 Axes>"
      ]
     },
     "metadata": {
      "needs_background": "light"
     },
     "output_type": "display_data"
    },
    {
     "name": "stdout",
     "output_type": "stream",
     "text": [
      "69 42\n",
      "Pennsylvania 0.07463102154033112 0.051658309017593065\n"
     ]
    },
    {
     "data": {
      "image/png": "[encoded data removed]",
      "text/plain": [
       "<Figure size 432x288 with 1 Axes>"
      ]
     },
     "metadata": {
      "needs_background": "light"
     },
     "output_type": "display_data"
    },
    {
     "name": "stdout",
     "output_type": "stream",
     "text": [
      "39 39\n",
      "Rhode Island 0.1261030602272824 0.08926163682696908\n"
     ]
    },
    {
     "data": {
      "image/png": "[encoded data removed]",
      "text/plain": [
       "<Figure size 432x288 with 1 Axes>"
      ]
     },
     "metadata": {
      "needs_background": "light"
     },
     "output_type": "display_data"
    },
    {
     "name": "stdout",
     "output_type": "stream",
     "text": [
      "62 41\n",
      "South Carolina 0.0610761251950893 0.08636938078432689\n"
     ]
    },
    {
     "data": {
      "image/png": "[encoded data removed]",
      "text/plain": [
       "<Figure size 432x288 with 1 Axes>"
      ]
     },
     "metadata": {
      "needs_background": "light"
     },
     "output_type": "display_data"
    },
    {
     "name": "stdout",
     "output_type": "stream",
     "text": [
      "67 41\n",
      "South Dakota 0.05327892154194405 0.052619486191321126\n"
     ]
    },
    {
     "data": {
      "image/png": "[encoded data removed]",
      "text/plain": [
       "<Figure size 432x288 with 1 Axes>"
      ]
     },
     "metadata": {
      "needs_background": "light"
     },
     "output_type": "display_data"
    },
    {
     "name": "stdout",
     "output_type": "stream",
     "text": [
      "51 43\n",
      "Tennessee 0.08433062791050508 0.0986407662791619\n"
     ]
    },
    {
     "data": {
      "image/png": "[encoded data removed]",
      "text/plain": [
       "<Figure size 432x288 with 1 Axes>"
      ]
     },
     "metadata": {
      "needs_background": "light"
     },
     "output_type": "display_data"
    },
    {
     "name": "stdout",
     "output_type": "stream",
     "text": [
      "53 43\n",
      "Texas 0.05341092109865436 0.08012267602346383\n"
     ]
    },
    {
     "data": {
      "image/png": "[encoded data removed]",
      "text/plain": [
       "<Figure size 432x288 with 1 Axes>"
      ]
     },
     "metadata": {
      "needs_background": "light"
     },
     "output_type": "display_data"
    },
    {
     "name": "stdout",
     "output_type": "stream",
     "text": [
      "47 43\n",
      "Utah 0.030745793803622315 0.16669355051670393\n"
     ]
    },
    {
     "data": {
      "image/png": "[encoded data removed]",
      "text/plain": [
       "<Figure size 432x288 with 1 Axes>"
      ]
     },
     "metadata": {
      "needs_background": "light"
     },
     "output_type": "display_data"
    },
    {
     "name": "stdout",
     "output_type": "stream",
     "text": [
      "65 41\n",
      "Vermont 0.21198321544209767 0.2394719610709676\n"
     ]
    },
    {
     "data": {
      "image/png": "[encoded data removed]",
      "text/plain": [
       "<Figure size 432x288 with 1 Axes>"
      ]
     },
     "metadata": {
      "needs_background": "light"
     },
     "output_type": "display_data"
    },
    {
     "name": "stdout",
     "output_type": "stream",
     "text": [
      "62 43\n",
      "Virginia 0.05585335961611636 0.3168931288164237\n"
     ]
    },
    {
     "data": {
      "image/png": "[encoded data removed]",
      "text/plain": [
       "<Figure size 432x288 with 1 Axes>"
      ]
     },
     "metadata": {
      "needs_background": "light"
     },
     "output_type": "display_data"
    },
    {
     "name": "stdout",
     "output_type": "stream",
     "text": [
      "68 43\n",
      "Washington 0.09877637498473908 0.04708180363116207\n"
     ]
    },
    {
     "data": {
      "image/png": "[encoded data removed]",
      "text/plain": [
       "<Figure size 432x288 with 1 Axes>"
      ]
     },
     "metadata": {
      "needs_background": "light"
     },
     "output_type": "display_data"
    },
    {
     "name": "stdout",
     "output_type": "stream",
     "text": [
      "68 8\n",
      "West Virginia 0.08427231077402914 0.39537181922454895\n"
     ]
    },
    {
     "data": {
      "image/png": "[encoded data removed]",
      "text/plain": [
       "<Figure size 432x288 with 1 Axes>"
      ]
     },
     "metadata": {
      "needs_background": "light"
     },
     "output_type": "display_data"
    },
    {
     "name": "stdout",
     "output_type": "stream",
     "text": [
      "36 43\n",
      "Wisconsin 0.07526779715328016 0.0690395195649172\n"
     ]
    },
    {
     "data": {
      "image/png": "[encoded data removed]",
      "text/plain": [
       "<Figure size 432x288 with 1 Axes>"
      ]
     },
     "metadata": {
      "needs_background": "light"
     },
     "output_type": "display_data"
    },
    {
     "name": "stdout",
     "output_type": "stream",
     "text": [
      "47 36\n",
      "Wyoming 0.11645491885764576 0.14914364235522928\n"
     ]
    },
    {
     "data": {
      "image/png": "[encoded data removed]",
      "text/plain": [
       "<Figure size 432x288 with 1 Axes>"
      ]
     },
     "metadata": {
      "needs_background": "light"
     },
     "output_type": "display_data"
    }
   ],
   "source": [
    "# autoregressive\n",
    "def optimize_state(state):\n",
    "    new_f = states_df_og[state][[\"Confirmed\", \"Deaths\"]].reset_index(drop=True)\n",
    "    deaths = new_f[\"Deaths\"].to_numpy()\n",
    "    confirmed = new_f[\"Confirmed\"].to_numpy()\n",
    "    best_score_c = 100\n",
    "    best_score_d = 100\n",
    "    best_lr_d = None\n",
    "    best_lr_c = None\n",
    "    best_win_d = 0\n",
    "    best_win_c = 0\n",
    "    win_min1 = 3\n",
    "    win_max1 = 44\n",
    "    win_min2 = 2\n",
    "    win_max2 = 70\n",
    "    for win_len in range(win_min1, win_max1):\n",
    "        # [0, ..., win_len - 1 ] -> [win_len]\n",
    "        # [1, ..., win_len] -> [win_len+1]\n",
    "        # ...\n",
    "        labels_d = []\n",
    "        features_d = []\n",
    "        for i in range(win_len, len(deaths)):\n",
    "            labels_d.append(deaths[i])\n",
    "            feature = []\n",
    "            for j in range(win_len, 0, -1):\n",
    "                feature.append(deaths[i-j])\n",
    "            features_d.append(feature)\n",
    "        #lr = SVR(kernel='linear', max_iter=3000, C=2)\n",
    "        #lr = Ridge(alpha=0.015, normalize=True)\n",
    "        lr = LinearRegression(positive=True, normalize=True)\n",
    "        #lr = LinearSVR(epsilon=1, loss=\"squared_epsilon_insensitive\", max_iter=10000, C=1, random_state=12)\n",
    "        lr.fit(features_d, labels_d)\n",
    "        labels_dp = lr.predict(features_d)\n",
    "        score_d = mean_absolute_percentage_error(labels_dp, labels_d) \n",
    "        if score_d < best_score_d:\n",
    "            best_score_d = score_d\n",
    "            best_lr_d = lr\n",
    "            best_win_d = win_len\n",
    "            \n",
    "    for win_len in range(win_min2, win_max2):\n",
    "        labels_c = []\n",
    "        features_c = []\n",
    "        for i in range(win_len, len(confirmed)):\n",
    "            labels_c.append(confirmed[i])\n",
    "            feature = []\n",
    "            for j in range(win_len, 0, -1):\n",
    "                feature.append(confirmed[i-j])\n",
    "            features_c.append(feature)\n",
    "        #lr2 = Ridge(alpha=0.01)\n",
    "        #lr2 = LinearRegression(positive=True)\n",
    "        lr2 = LinearSVR(epsilon=1, loss=\"squared_epsilon_insensitive\", C=1, max_iter=2000, random_state=12)\n",
    "        lr2.fit(features_c, labels_c)\n",
    "        labels_cp = lr2.predict(features_c)\n",
    "        score_c = mean_absolute_percentage_error(labels_cp, labels_c) \n",
    "        if score_c < best_score_c:\n",
    "            best_score_c = score_c\n",
    "            best_lr_c = lr2\n",
    "            best_win_c = win_len\n",
    "            \n",
    "    start_date = pd.to_datetime(\"03-31-2021\")\n",
    "    print(best_win_c, best_win_d)\n",
    "    print(state, best_score_c*100, best_score_d*100)\n",
    "    for d in range(31):\n",
    "        feature_d = deaths[len(deaths)-best_win_d:].reshape(1, -1)\n",
    "        feature_c = confirmed[len(confirmed)-best_win_c:].reshape(1, -1)\n",
    "        new_d = best_lr_d.predict(feature_d)\n",
    "        new_c = best_lr_c.predict(feature_c)\n",
    "        deaths = np.append(deaths, new_d)\n",
    "        confirmed = np.append(confirmed, new_c)\n",
    "        \n",
    "        date = start_date + timedelta(days=d)\n",
    "        entry = test_data[(test_data[\"Province_State\"]==state) & (pd.to_datetime(test_data[\"Date\"]) ==date)]\n",
    "        if not entry.index.empty:\n",
    "            test_id = entry.index[0]\n",
    "            sub_data.loc[test_id,[\"Confirmed\"]] = new_c\n",
    "            sub_data.loc[test_id,[\"Deaths\"]] = new_d\n",
    "   \n",
    "    x_s = np.arange(0, len(deaths))\n",
    "    plt.plot(x_s, deaths, color=\"red\")\n",
    "    plt.show()\n",
    "    #plt.plot(x_s, confirmed, color=\"green\")\n",
    "    #plt.show()\n",
    "    \n",
    "for state in states_df:\n",
    "    optimize_state(state)"
   ]
  },
  {
   "cell_type": "code",
   "execution_count": 40,
   "id": "martial-medicaid",
   "metadata": {},
   "outputs": [
    {
     "name": "stdout",
     "output_type": "stream",
     "text": [
      "Kentucky 2.355084005542537 2.142434152741236\n"
     ]
    }
   ],
   "source": [
    "bad_states = [\"Kentucky\"]\n",
    "for state in bad_states:\n",
    "    linear(state)  "
   ]
  },
  {
   "cell_type": "code",
   "execution_count": 33,
   "id": "applicable-module",
   "metadata": {},
   "outputs": [],
   "source": [
    "sub_data.to_csv(\"./Team8.csv\", index=False) "
   ]
  },
  {
   "cell_type": "code",
   "execution_count": 34,
   "id": "julian-unknown",
   "metadata": {},
   "outputs": [],
   "source": [
    "# below are not used"
   ]
  },
  {
   "cell_type": "code",
   "execution_count": 35,
   "id": "radio-admission",
   "metadata": {},
   "outputs": [],
   "source": [
    "# SEIRS simulator\n",
    "def simulate_with_params(r_r, e_r, i_r, ri_r, cd_r, v_r, S_0, E_0, I_0, R_0, V_0, D_0, iter=150, d_t=1):\n",
    "    '''\n",
    "    e_r: exposed rate for susceptible\n",
    "    i_r: infection rate for exposed\n",
    "    r_r: recover rate for infected\n",
    "    ri_r: reinfection rate for recovered\n",
    "    cd_r: covid death rate for infected\n",
    "    v_r: vaccination rate for general population\n",
    "    S_0: initial susceptible population\n",
    "    I_0: initial infected population\n",
    "    R_0: initial recoved population\n",
    "    D_0: initial deceased population\n",
    "    V_0: initial vaccinated population\n",
    "\n",
    "    Derive the trends of S, I, R, V, D with various rates and initial conditions over a period of time\n",
    "    '''\n",
    "    S, E, I, R, V, D = [S_0], [E_0], [I_0], [R_0], [V_0], [D_0]\n",
    "    for i in range(1, iter):\n",
    "        S_old, E_old, I_old, R_old, D_old, V_old = S[-1], E[-1], I[-1], R[-1], D[-1], V[-1]\n",
    "        N_old = S_old + E_old + I_old + R_old + V_old\n",
    "        S_new = S_old + (-e_r*(S_old * I_old) / N_old + ri_r*R_old - v_r*S_old) * d_t\n",
    "        E_new = E_old + (e_r*(S_old * I_old) / N_old - e_r * E_old) * d_t\n",
    "        I_new = I_old + (e_r * E_old - cd_r * I_old - r_r * I_old) * d_t\n",
    "        R_new = R_old + (r_r*I_old - ri_r*R_old) * d_t\n",
    "        D_new = D_old + (cd_r * I_old) * d_t\n",
    "        V_new = V_old + (v_r * S_old) * d_t\n",
    "        S.append(S_new)\n",
    "        E.append(E_new)\n",
    "        I.append(I_new)\n",
    "        R.append(R_new)\n",
    "        D.append(D_new)\n",
    "        V.append(V_new)\n",
    "    return S, E, I, R, V, D"
   ]
  },
  {
   "cell_type": "code",
   "execution_count": 36,
   "id": "brazilian-victim",
   "metadata": {},
   "outputs": [],
   "source": [
    "def plot_data(S, E, I, R, V, D, d_t=1, with_S=True, title=None):\n",
    "    '''\n",
    "    S: list of number of susceptible people\n",
    "    E: list of number of exposed people\n",
    "    I: list of number of infected people\n",
    "    R: list of number of recovered people\n",
    "    V: list of number of vaccinated people\n",
    "    D: list of number of deceased people\n",
    "\n",
    "    Based on the data, plot the corresponding graph\n",
    "    '''\n",
    "    x_axis = np.arange(0, len(S), d_t)\n",
    "    fig, ax = plt.subplots()\n",
    "    if with_S:\n",
    "        ax.plot(x_axis, S, 'g-', label=\"S (susceptible)\")\n",
    "    ax.plot(x_axis, E, 'm-', label=\"E (exposed)\")\n",
    "    ax.plot(x_axis, I, 'r-', label=\"I (infected)\")\n",
    "    ax.plot(x_axis, R, 'y-', label=\"R (recovered)\")\n",
    "    ax.plot(x_axis, V, 'b-', label=\"V (vaccinated)\")\n",
    "    ax.plot(x_axis, D, 'k-', label=\"D (deceased)\")\n",
    "    leg = ax.legend()\n",
    "    plt.xlabel(\"Time elasped (day)\")\n",
    "    plt.ylabel(\"Number of people\")\n",
    "    plt.title(title)\n",
    "    plt.show()"
   ]
  },
  {
   "cell_type": "code",
   "execution_count": 37,
   "id": "romantic-marriage",
   "metadata": {},
   "outputs": [],
   "source": [
    "# example\n",
    "    \n",
    "def origin_trend(state):\n",
    "    S = states_df[state][\"Susceptible\"]\n",
    "    I = states_df[state][\"Active\"]\n",
    "    R = states_df[state][\"Recovered\"]\n",
    "    D = states_df[state][\"Deaths\"]\n",
    "    V = states_df[state][\"Vaccinated\"]\n",
    "    plot_data(S, I, R, V, D, with_S=False)"
   ]
  },
  {
   "cell_type": "code",
   "execution_count": 38,
   "id": "scenic-scout",
   "metadata": {},
   "outputs": [],
   "source": [
    "def cost_function (params, S, I, R, D, V, hib):\n",
    "    '''\n",
    "    params: [r_r, e_r, i_r, ri_r, cd_r, v_r]\n",
    "    '''\n",
    "    S_p, E_p, I_p, R_p, V_p, D_p = simulate_with_params(params[0], params[1], params[2], params[3], params[4], params[5], S[0], I[hib], I[0], R[0], V[0], D[0], iter=len(S))\n",
    "    cost = mean_absolute_percentage_error(I_p, I) + mean_absolute_percentage_error(R_p, R) + mean_absolute_percentage_error(D_p, D)\n",
    "    return cost\n",
    "\n",
    "def optimize_state(state, with_plot=False):\n",
    "    S = states_df[state][\"Susceptible\"].reset_index(drop=True)\n",
    "    I = states_df[state][\"Active\"].reset_index(drop=True)\n",
    "    R = states_df[state][\"Recovered\"].reset_index(drop=True)\n",
    "    D = states_df[state][\"Deaths\"].reset_index(drop=True)\n",
    "    V = states_df[state][\"Vaccinated\"].reset_index(drop=True)\n",
    "    res = minimize(cost_function, [0, 0, 0, 0, 0, 0], (S, I, R, D, V, 7), bounds=[(0, 0.1), (0, 0.1), (0, 0.1), (0, 0.1), (0, 0.1), (0, 0.1)])\n",
    "    params = res.x\n",
    "    cost = cost_function(params, S, I, R, D, V, 10)\n",
    "    S_p, E_p, I_p, R_p, V_p, D_p = simulate_with_params(params[0], params[1], params[2], params[3], params[4], params[5], S[0], I[10], I[0], R[0], V[0], D[0], iter=150)\n",
    "    if with_plot:\n",
    "        plot_data(S_p, E_p, I_p, R_p, V_p, D_p, with_S=False)\n",
    "        plot_data(S, [0]*len(S), I, R, V, D, with_S=False)\n",
    "    return params, cost, (S_p, E_p, I_p, R_p, V_p, D_p)\n",
    "\n",
    "def test_performance(state, preds, start=54, end=78):\n",
    "    S_p, E_p, I_p, R_p, V_p, D_p = preds\n",
    "    S_r = S_p[start:end]\n",
    "    I_r = I_p[start:end]\n",
    "    R_r = R_p[start:end]\n",
    "    D_r = D_p[start:end]\n",
    "    C_r = np.sum(np.array([I_r, R_r, D_r]), axis=0)\n",
    "    D = states_df_og[state][\"Deaths\"][start:end]\n",
    "    C = states_df_og[state][\"Confirmed\"][start:end]\n",
    "    cost_D = mean_absolute_percentage_error(D_r, D)\n",
    "    cost_C = mean_absolute_percentage_error(C_r, C)\n",
    "    return cost_D + cost_C\n",
    "\n",
    "def save_result(state, preds, start=79, end=109):\n",
    "    S_p, E_p, I_p, R_p, V_p, D_p = preds\n",
    "    start_date = pd.to_datetime(\"01-12-2021\")\n",
    "    for i in range(start, end):\n",
    "        date = start_date + timedelta(days=i)\n",
    "        entry = test_data[(test_data[\"Province_State\"]==state) & (pd.to_datetime(test_data[\"Date\"]) ==date)]\n",
    "        test_id = entry.index[0]\n",
    "        sub_data.loc[test_id,[\"Confirmed\"]] = I_p[i] + R_p[i] + D_p[i]\n",
    "        sub_data.loc[test_id, [\"Deaths\"]] = D_p[i]"
   ]
  }
 ],
 "metadata": {
  "kernelspec": {
   "display_name": "Python 3",
   "language": "python",
   "name": "python3"
  },
  "language_info": {
   "codemirror_mode": {
    "name": "ipython",
    "version": 3
   },
   "file_extension": ".py",
   "mimetype": "text/x-python",
   "name": "python",
   "nbconvert_exporter": "python",
   "pygments_lexer": "ipython3",
   "version": "3.9.1"
  }
 },
 "nbformat": 4,
 "nbformat_minor": 5
}
